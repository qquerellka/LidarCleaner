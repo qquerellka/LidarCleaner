{
 "cells": [
  {
   "cell_type": "code",
   "execution_count": 1,
   "id": "91a93143",
   "metadata": {},
   "outputs": [
    {
     "name": "stdout",
     "output_type": "stream",
     "text": [
      "0000000002_0000000125.ply  0000000785_0000000870.ply  0000001659_0000001750.ply\n",
      "0000000119_0000000213.ply  0000000865_0000000952.ply  0000001745_0000001847.ply\n",
      "0000000208_0000000298.ply  0000000947_0000001039.ply  0000001841_0000001957.ply\n",
      "0000000293_0000000383.ply  0000001034_0000001127.ply  0000001950_0000002251.ply\n",
      "0000000378_0000000466.ply  0000001122_0000001227.ply  0000002237_0000002410.ply\n",
      "0000000461_0000000547.ply  0000001221_0000001348.ply  0000002395_0000002789.ply\n",
      "0000000542_0000000629.ply  0000001340_0000001490.ply  0000002782_0000002902.ply\n",
      "0000000624_0000000710.ply  0000001483_0000001582.ply\n",
      "0000000705_0000000790.ply  0000001577_0000001664.ply\n"
     ]
    }
   ],
   "source": [
    "!ls /kaggle/input/kitti360-3d-semantics/data_3d_semantics/train/2013_05_28_drive_0007_sync/dynamic"
   ]
  },
  {
   "cell_type": "code",
   "execution_count": 2,
   "id": "a402d42b",
   "metadata": {},
   "outputs": [
    {
     "name": "stdout",
     "output_type": "stream",
     "text": [
      "0000000002_0000000385.ply  0000003919_0000004105.ply  0000007777_0000007982.ply\n",
      "0000000372_0000000610.ply  0000004093_0000004408.ply  0000007968_0000008291.ply\n",
      "0000000599_0000000846.ply  0000004397_0000004645.ply  0000008278_0000008507.ply\n",
      "0000000834_0000001286.ply  0000004631_0000004927.ply  0000008496_0000008790.ply\n",
      "0000001270_0000001549.ply  0000004916_0000005264.ply  0000008779_0000009015.ply\n",
      "0000001537_0000001755.ply  0000005249_0000005900.ply  0000009003_0000009677.ply\n",
      "0000001740_0000001991.ply  0000005880_0000006165.ply  0000009666_0000009895.ply\n",
      "0000001980_0000002295.ply  0000006154_0000006400.ply  0000009886_0000010098.ply\n",
      "0000002282_0000002514.ply  0000006387_0000006634.ply  0000010078_0000010362.ply\n",
      "0000002501_0000002706.ply  0000006623_0000006851.ply  0000010352_0000010588.ply\n",
      "0000002695_0000002925.ply  0000006828_0000007055.ply  0000010577_0000010841.ply\n",
      "0000002913_0000003233.ply  0000007044_0000007286.ply  0000010830_0000011124.ply\n",
      "0000003221_0000003475.ply  0000007277_0000007447.ply  0000011079_0000011287.ply\n",
      "0000003463_0000003724.ply  0000007438_0000007605.ply  0000011278_0000011467.ply\n",
      "0000003711_0000003928.ply  0000007596_0000007791.ply\n"
     ]
    }
   ],
   "source": [
    "!ls /kaggle/input/kitti360-3d-semantics/data_3d_semantics/train/2013_05_28_drive_0000_sync/dynamic"
   ]
  },
  {
   "cell_type": "code",
   "execution_count": 3,
   "id": "2e111c89",
   "metadata": {},
   "outputs": [
    {
     "name": "stdout",
     "output_type": "stream",
     "text": [
      "Collecting open3d\n",
      "  Downloading open3d-0.19.0-cp311-cp311-manylinux_2_31_x86_64.whl.metadata (4.3 kB)\n",
      "Requirement already satisfied: numpy>=1.18.0 in /usr/local/lib/python3.11/dist-packages (from open3d) (1.26.4)\n",
      "Collecting dash>=2.6.0 (from open3d)\n",
      "  Downloading dash-3.2.0-py3-none-any.whl.metadata (10 kB)\n",
      "Requirement already satisfied: werkzeug>=3.0.0 in /usr/local/lib/python3.11/dist-packages (from open3d) (3.1.3)\n",
      "Requirement already satisfied: flask>=3.0.0 in /usr/local/lib/python3.11/dist-packages (from open3d) (3.1.1)\n",
      "Requirement already satisfied: nbformat>=5.7.0 in /usr/local/lib/python3.11/dist-packages (from open3d) (5.10.4)\n",
      "Collecting configargparse (from open3d)\n",
      "  Downloading configargparse-1.7.1-py3-none-any.whl.metadata (24 kB)\n",
      "Requirement already satisfied: ipywidgets>=8.0.4 in /usr/local/lib/python3.11/dist-packages (from open3d) (8.1.5)\n",
      "Collecting addict (from open3d)\n",
      "  Downloading addict-2.4.0-py3-none-any.whl.metadata (1.0 kB)\n",
      "Requirement already satisfied: pillow>=9.3.0 in /usr/local/lib/python3.11/dist-packages (from open3d) (11.2.1)\n",
      "Requirement already satisfied: matplotlib>=3 in /usr/local/lib/python3.11/dist-packages (from open3d) (3.7.2)\n",
      "Requirement already satisfied: pandas>=1.0 in /usr/local/lib/python3.11/dist-packages (from open3d) (2.2.3)\n",
      "Requirement already satisfied: pyyaml>=5.4.1 in /usr/local/lib/python3.11/dist-packages (from open3d) (6.0.2)\n",
      "Requirement already satisfied: scikit-learn>=0.21 in /usr/local/lib/python3.11/dist-packages (from open3d) (1.2.2)\n",
      "Requirement already satisfied: tqdm in /usr/local/lib/python3.11/dist-packages (from open3d) (4.67.1)\n",
      "Collecting pyquaternion (from open3d)\n",
      "  Downloading pyquaternion-0.9.9-py3-none-any.whl.metadata (1.4 kB)\n",
      "Requirement already satisfied: plotly>=5.0.0 in /usr/local/lib/python3.11/dist-packages (from dash>=2.6.0->open3d) (5.24.1)\n",
      "Requirement already satisfied: importlib-metadata in /usr/local/lib/python3.11/dist-packages (from dash>=2.6.0->open3d) (8.7.0)\n",
      "Requirement already satisfied: typing-extensions>=4.1.1 in /usr/local/lib/python3.11/dist-packages (from dash>=2.6.0->open3d) (4.14.0)\n",
      "Requirement already satisfied: requests in /usr/local/lib/python3.11/dist-packages (from dash>=2.6.0->open3d) (2.32.4)\n",
      "Collecting retrying (from dash>=2.6.0->open3d)\n",
      "  Downloading retrying-1.4.2-py3-none-any.whl.metadata (5.5 kB)\n",
      "Requirement already satisfied: nest-asyncio in /usr/local/lib/python3.11/dist-packages (from dash>=2.6.0->open3d) (1.6.0)\n",
      "Requirement already satisfied: setuptools in /usr/local/lib/python3.11/dist-packages (from dash>=2.6.0->open3d) (75.2.0)\n",
      "Requirement already satisfied: blinker>=1.9.0 in /usr/local/lib/python3.11/dist-packages (from flask>=3.0.0->open3d) (1.9.0)\n",
      "Requirement already satisfied: click>=8.1.3 in /usr/local/lib/python3.11/dist-packages (from flask>=3.0.0->open3d) (8.2.1)\n",
      "Requirement already satisfied: itsdangerous>=2.2.0 in /usr/local/lib/python3.11/dist-packages (from flask>=3.0.0->open3d) (2.2.0)\n",
      "Requirement already satisfied: jinja2>=3.1.2 in /usr/local/lib/python3.11/dist-packages (from flask>=3.0.0->open3d) (3.1.6)\n",
      "Requirement already satisfied: markupsafe>=2.1.1 in /usr/local/lib/python3.11/dist-packages (from flask>=3.0.0->open3d) (3.0.2)\n",
      "Requirement already satisfied: comm>=0.1.3 in /usr/local/lib/python3.11/dist-packages (from ipywidgets>=8.0.4->open3d) (0.2.2)\n",
      "Requirement already satisfied: ipython>=6.1.0 in /usr/local/lib/python3.11/dist-packages (from ipywidgets>=8.0.4->open3d) (7.34.0)\n",
      "Requirement already satisfied: traitlets>=4.3.1 in /usr/local/lib/python3.11/dist-packages (from ipywidgets>=8.0.4->open3d) (5.7.1)\n",
      "Requirement already satisfied: widgetsnbextension~=4.0.12 in /usr/local/lib/python3.11/dist-packages (from ipywidgets>=8.0.4->open3d) (4.0.14)\n",
      "Requirement already satisfied: jupyterlab-widgets~=3.0.12 in /usr/local/lib/python3.11/dist-packages (from ipywidgets>=8.0.4->open3d) (3.0.15)\n",
      "Requirement already satisfied: contourpy>=1.0.1 in /usr/local/lib/python3.11/dist-packages (from matplotlib>=3->open3d) (1.3.2)\n",
      "Requirement already satisfied: cycler>=0.10 in /usr/local/lib/python3.11/dist-packages (from matplotlib>=3->open3d) (0.12.1)\n",
      "Requirement already satisfied: fonttools>=4.22.0 in /usr/local/lib/python3.11/dist-packages (from matplotlib>=3->open3d) (4.58.4)\n",
      "Requirement already satisfied: kiwisolver>=1.0.1 in /usr/local/lib/python3.11/dist-packages (from matplotlib>=3->open3d) (1.4.8)\n",
      "Requirement already satisfied: packaging>=20.0 in /usr/local/lib/python3.11/dist-packages (from matplotlib>=3->open3d) (25.0)\n",
      "Requirement already satisfied: pyparsing<3.1,>=2.3.1 in /usr/local/lib/python3.11/dist-packages (from matplotlib>=3->open3d) (3.0.9)\n",
      "Requirement already satisfied: python-dateutil>=2.7 in /usr/local/lib/python3.11/dist-packages (from matplotlib>=3->open3d) (2.9.0.post0)\n",
      "Requirement already satisfied: fastjsonschema>=2.15 in /usr/local/lib/python3.11/dist-packages (from nbformat>=5.7.0->open3d) (2.21.1)\n",
      "Requirement already satisfied: jsonschema>=2.6 in /usr/local/lib/python3.11/dist-packages (from nbformat>=5.7.0->open3d) (4.24.0)\n",
      "Requirement already satisfied: jupyter-core!=5.0.*,>=4.12 in /usr/local/lib/python3.11/dist-packages (from nbformat>=5.7.0->open3d) (5.8.1)\n",
      "Requirement already satisfied: mkl_fft in /usr/local/lib/python3.11/dist-packages (from numpy>=1.18.0->open3d) (1.3.8)\n",
      "Requirement already satisfied: mkl_random in /usr/local/lib/python3.11/dist-packages (from numpy>=1.18.0->open3d) (1.2.4)\n",
      "Requirement already satisfied: mkl_umath in /usr/local/lib/python3.11/dist-packages (from numpy>=1.18.0->open3d) (0.1.1)\n",
      "Requirement already satisfied: mkl in /usr/local/lib/python3.11/dist-packages (from numpy>=1.18.0->open3d) (2025.2.0)\n",
      "Requirement already satisfied: tbb4py in /usr/local/lib/python3.11/dist-packages (from numpy>=1.18.0->open3d) (2022.2.0)\n",
      "Requirement already satisfied: mkl-service in /usr/local/lib/python3.11/dist-packages (from numpy>=1.18.0->open3d) (2.4.1)\n",
      "Requirement already satisfied: pytz>=2020.1 in /usr/local/lib/python3.11/dist-packages (from pandas>=1.0->open3d) (2025.2)\n",
      "Requirement already satisfied: tzdata>=2022.7 in /usr/local/lib/python3.11/dist-packages (from pandas>=1.0->open3d) (2025.2)\n",
      "Requirement already satisfied: scipy>=1.3.2 in /usr/local/lib/python3.11/dist-packages (from scikit-learn>=0.21->open3d) (1.15.3)\n",
      "Requirement already satisfied: joblib>=1.1.1 in /usr/local/lib/python3.11/dist-packages (from scikit-learn>=0.21->open3d) (1.5.1)\n",
      "Requirement already satisfied: threadpoolctl>=2.0.0 in /usr/local/lib/python3.11/dist-packages (from scikit-learn>=0.21->open3d) (3.6.0)\n",
      "Requirement already satisfied: jedi>=0.16 in /usr/local/lib/python3.11/dist-packages (from ipython>=6.1.0->ipywidgets>=8.0.4->open3d) (0.19.2)\n",
      "Requirement already satisfied: decorator in /usr/local/lib/python3.11/dist-packages (from ipython>=6.1.0->ipywidgets>=8.0.4->open3d) (4.4.2)\n",
      "Requirement already satisfied: pickleshare in /usr/local/lib/python3.11/dist-packages (from ipython>=6.1.0->ipywidgets>=8.0.4->open3d) (0.7.5)\n",
      "Requirement already satisfied: prompt-toolkit!=3.0.0,!=3.0.1,<3.1.0,>=2.0.0 in /usr/local/lib/python3.11/dist-packages (from ipython>=6.1.0->ipywidgets>=8.0.4->open3d) (3.0.51)\n",
      "Requirement already satisfied: pygments in /usr/local/lib/python3.11/dist-packages (from ipython>=6.1.0->ipywidgets>=8.0.4->open3d) (2.19.2)\n",
      "Requirement already satisfied: backcall in /usr/local/lib/python3.11/dist-packages (from ipython>=6.1.0->ipywidgets>=8.0.4->open3d) (0.2.0)\n",
      "Requirement already satisfied: matplotlib-inline in /usr/local/lib/python3.11/dist-packages (from ipython>=6.1.0->ipywidgets>=8.0.4->open3d) (0.1.7)\n",
      "Requirement already satisfied: pexpect>4.3 in /usr/local/lib/python3.11/dist-packages (from ipython>=6.1.0->ipywidgets>=8.0.4->open3d) (4.9.0)\n",
      "Requirement already satisfied: attrs>=22.2.0 in /usr/local/lib/python3.11/dist-packages (from jsonschema>=2.6->nbformat>=5.7.0->open3d) (25.3.0)\n",
      "Requirement already satisfied: jsonschema-specifications>=2023.03.6 in /usr/local/lib/python3.11/dist-packages (from jsonschema>=2.6->nbformat>=5.7.0->open3d) (2025.4.1)\n",
      "Requirement already satisfied: referencing>=0.28.4 in /usr/local/lib/python3.11/dist-packages (from jsonschema>=2.6->nbformat>=5.7.0->open3d) (0.36.2)\n",
      "Requirement already satisfied: rpds-py>=0.7.1 in /usr/local/lib/python3.11/dist-packages (from jsonschema>=2.6->nbformat>=5.7.0->open3d) (0.25.1)\n",
      "Requirement already satisfied: platformdirs>=2.5 in /usr/local/lib/python3.11/dist-packages (from jupyter-core!=5.0.*,>=4.12->nbformat>=5.7.0->open3d) (4.3.8)\n",
      "Requirement already satisfied: tenacity>=6.2.0 in /usr/local/lib/python3.11/dist-packages (from plotly>=5.0.0->dash>=2.6.0->open3d) (8.5.0)\n",
      "Requirement already satisfied: six>=1.5 in /usr/local/lib/python3.11/dist-packages (from python-dateutil>=2.7->matplotlib>=3->open3d) (1.17.0)\n",
      "Requirement already satisfied: zipp>=3.20 in /usr/local/lib/python3.11/dist-packages (from importlib-metadata->dash>=2.6.0->open3d) (3.23.0)\n",
      "Requirement already satisfied: intel-openmp<2026,>=2024 in /usr/local/lib/python3.11/dist-packages (from mkl->numpy>=1.18.0->open3d) (2024.2.0)\n",
      "Requirement already satisfied: tbb==2022.* in /usr/local/lib/python3.11/dist-packages (from mkl->numpy>=1.18.0->open3d) (2022.2.0)\n",
      "Requirement already satisfied: tcmlib==1.* in /usr/local/lib/python3.11/dist-packages (from tbb==2022.*->mkl->numpy>=1.18.0->open3d) (1.4.0)\n",
      "Requirement already satisfied: intel-cmplr-lib-rt in /usr/local/lib/python3.11/dist-packages (from mkl_umath->numpy>=1.18.0->open3d) (2024.2.0)\n",
      "Requirement already satisfied: charset_normalizer<4,>=2 in /usr/local/lib/python3.11/dist-packages (from requests->dash>=2.6.0->open3d) (3.4.2)\n",
      "Requirement already satisfied: idna<4,>=2.5 in /usr/local/lib/python3.11/dist-packages (from requests->dash>=2.6.0->open3d) (3.10)\n",
      "Requirement already satisfied: urllib3<3,>=1.21.1 in /usr/local/lib/python3.11/dist-packages (from requests->dash>=2.6.0->open3d) (2.5.0)\n",
      "Requirement already satisfied: certifi>=2017.4.17 in /usr/local/lib/python3.11/dist-packages (from requests->dash>=2.6.0->open3d) (2025.6.15)\n",
      "Requirement already satisfied: intel-cmplr-lib-ur==2024.2.0 in /usr/local/lib/python3.11/dist-packages (from intel-openmp<2026,>=2024->mkl->numpy>=1.18.0->open3d) (2024.2.0)\n",
      "Requirement already satisfied: parso<0.9.0,>=0.8.4 in /usr/local/lib/python3.11/dist-packages (from jedi>=0.16->ipython>=6.1.0->ipywidgets>=8.0.4->open3d) (0.8.4)\n",
      "Requirement already satisfied: ptyprocess>=0.5 in /usr/local/lib/python3.11/dist-packages (from pexpect>4.3->ipython>=6.1.0->ipywidgets>=8.0.4->open3d) (0.7.0)\n",
      "Requirement already satisfied: wcwidth in /usr/local/lib/python3.11/dist-packages (from prompt-toolkit!=3.0.0,!=3.0.1,<3.1.0,>=2.0.0->ipython>=6.1.0->ipywidgets>=8.0.4->open3d) (0.2.13)\n",
      "Downloading open3d-0.19.0-cp311-cp311-manylinux_2_31_x86_64.whl (447.7 MB)\n",
      "\u001b[2K   \u001b[90m━━━━━━━━━━━━━━━━━━━━━━━━━━━━━━━━━━━━━━━━\u001b[0m \u001b[32m447.7/447.7 MB\u001b[0m \u001b[31m3.9 MB/s\u001b[0m eta \u001b[36m0:00:00\u001b[0m:00:01\u001b[0m00:01\u001b[0m\n",
      "\u001b[?25hDownloading dash-3.2.0-py3-none-any.whl (7.9 MB)\n",
      "\u001b[2K   \u001b[90m━━━━━━━━━━━━━━━━━━━━━━━━━━━━━━━━━━━━━━━━\u001b[0m \u001b[32m7.9/7.9 MB\u001b[0m \u001b[31m93.2 MB/s\u001b[0m eta \u001b[36m0:00:00\u001b[0m:00:01\u001b[0m00:01\u001b[0m\n",
      "\u001b[?25hDownloading addict-2.4.0-py3-none-any.whl (3.8 kB)\n",
      "Downloading configargparse-1.7.1-py3-none-any.whl (25 kB)\n",
      "Downloading pyquaternion-0.9.9-py3-none-any.whl (14 kB)\n",
      "Downloading retrying-1.4.2-py3-none-any.whl (10 kB)\n",
      "Installing collected packages: addict, retrying, configargparse, dash, pyquaternion, open3d\n",
      "Successfully installed addict-2.4.0 configargparse-1.7.1 dash-3.2.0 open3d-0.19.0 pyquaternion-0.9.9 retrying-1.4.2\n"
     ]
    }
   ],
   "source": [
    "!pip3 install open3d"
   ]
  },
  {
   "cell_type": "code",
   "execution_count": 4,
   "id": "74d5c7b3",
   "metadata": {},
   "outputs": [
    {
     "name": "stdout",
     "output_type": "stream",
     "text": [
      "Jupyter environment detected. Enabling Open3D WebVisualizer.\n",
      "[Open3D INFO] WebRTC GUI backend enabled.\n",
      "[Open3D INFO] WebRTCWindowSystem: HTTP handshake server disabled.\n"
     ]
    }
   ],
   "source": [
    "import torch\n",
    "import torch.nn as nn\n",
    "import torch.optim as optim\n",
    "from torch.optim.lr_scheduler import ReduceLROnPlateau\n",
    "import open3d as o3d\n",
    "from torch.utils.data import Dataset, DataLoader\n",
    "import numpy as np\n",
    "import os\n",
    "import glob\n",
    "from scipy.spatial import cKDTree\n",
    "import warnings\n",
    "import torch.nn.functional as F\n"
   ]
  },
  {
   "cell_type": "code",
   "execution_count": 5,
   "id": "93fb3e0a",
   "metadata": {},
   "outputs": [
    {
     "name": "stdout",
     "output_type": "stream",
     "text": [
      "2013_05_28_drive_0000_sync  2013_05_28_drive_0007_sync\n",
      "2013_05_28_drive_0002_sync  2013_05_28_drive_0009_sync\n",
      "2013_05_28_drive_0003_sync  2013_05_28_drive_0010_sync\n",
      "2013_05_28_drive_0004_sync  2013_05_28_drive_train.txt\n",
      "2013_05_28_drive_0005_sync  2013_05_28_drive_val.txt\n",
      "2013_05_28_drive_0006_sync\n"
     ]
    }
   ],
   "source": [
    "!ls /kaggle/input/kitti360-3d-semantics/data_3d_semantics/train"
   ]
  },
  {
   "cell_type": "code",
   "execution_count": 6,
   "id": "94d80ba9",
   "metadata": {},
   "outputs": [
    {
     "name": "stdout",
     "output_type": "stream",
     "text": [
      "/kaggle/input/kitti360-3d-semantics/data_3d_semantics/train/2013_05_28_drive_0000_sync/static/0000009003_0000009677.ply\n",
      "/kaggle/input/kitti360-3d-semantics/data_3d_semantics/train/2013_05_28_drive_0000_sync/static/0000002501_0000002706.ply\n",
      "/kaggle/input/kitti360-3d-semantics/data_3d_semantics/train/2013_05_28_drive_0000_sync/static/0000003711_0000003928.ply\n",
      "/kaggle/input/kitti360-3d-semantics/data_3d_semantics/train/2013_05_28_drive_0000_sync/static/0000004916_0000005264.ply\n",
      "/kaggle/input/kitti360-3d-semantics/data_3d_semantics/train/2013_05_28_drive_0000_sync/static/0000010577_0000010841.ply\n",
      "/kaggle/input/kitti360-3d-semantics/data_3d_semantics/train/2013_05_28_drive_0000_sync/static/0000007044_0000007286.ply\n",
      "/kaggle/input/kitti360-3d-semantics/data_3d_semantics/train/2013_05_28_drive_0000_sync/static/0000009666_0000009895.ply\n",
      "/kaggle/input/kitti360-3d-semantics/data_3d_semantics/train/2013_05_28_drive_0000_sync/static/0000008278_0000008507.ply\n",
      "/kaggle/input/kitti360-3d-semantics/data_3d_semantics/train/2013_05_28_drive_0000_sync/static/0000006387_0000006634.ply\n",
      "\u001b[1;33m[Open3D WARNING] Read PLY failed: number of vertex <= 0.\u001b[0;m\n",
      "Пропуск пустого: static=/kaggle/input/kitti360-3d-semantics/data_3d_semantics/train/2013_05_28_drive_0000_sync/static/0000006387_0000006634.ply, dynamic=/kaggle/input/kitti360-3d-semantics/data_3d_semantics/train/2013_05_28_drive_0000_sync/dynamic/0000006387_0000006634.ply\n",
      "/kaggle/input/kitti360-3d-semantics/data_3d_semantics/train/2013_05_28_drive_0000_sync/static/0000000372_0000000610.ply\n",
      "\u001b[1;33m[Open3D WARNING] Read PLY failed: number of vertex <= 0.\u001b[0;m\n",
      "Пропуск пустого: static=/kaggle/input/kitti360-3d-semantics/data_3d_semantics/train/2013_05_28_drive_0000_sync/static/0000000372_0000000610.ply, dynamic=/kaggle/input/kitti360-3d-semantics/data_3d_semantics/train/2013_05_28_drive_0000_sync/dynamic/0000000372_0000000610.ply\n",
      "/kaggle/input/kitti360-3d-semantics/data_3d_semantics/train/2013_05_28_drive_0000_sync/static/0000006623_0000006851.ply\n",
      "\u001b[1;33m[Open3D WARNING] Read PLY failed: number of vertex <= 0.\u001b[0;m\n",
      "Пропуск пустого: static=/kaggle/input/kitti360-3d-semantics/data_3d_semantics/train/2013_05_28_drive_0000_sync/static/0000006623_0000006851.ply, dynamic=/kaggle/input/kitti360-3d-semantics/data_3d_semantics/train/2013_05_28_drive_0000_sync/dynamic/0000006623_0000006851.ply\n",
      "/kaggle/input/kitti360-3d-semantics/data_3d_semantics/train/2013_05_28_drive_0000_sync/static/0000010830_0000011124.ply\n",
      "/kaggle/input/kitti360-3d-semantics/data_3d_semantics/train/2013_05_28_drive_0000_sync/static/0000007968_0000008291.ply\n",
      "/kaggle/input/kitti360-3d-semantics/data_3d_semantics/train/2013_05_28_drive_0000_sync/static/0000002282_0000002514.ply\n",
      "/kaggle/input/kitti360-3d-semantics/data_3d_semantics/train/2013_05_28_drive_0000_sync/static/0000000599_0000000846.ply\n",
      "\u001b[1;33m[Open3D WARNING] Read PLY failed: number of vertex <= 0.\u001b[0;m\n",
      "Пропуск пустого: static=/kaggle/input/kitti360-3d-semantics/data_3d_semantics/train/2013_05_28_drive_0000_sync/static/0000000599_0000000846.ply, dynamic=/kaggle/input/kitti360-3d-semantics/data_3d_semantics/train/2013_05_28_drive_0000_sync/dynamic/0000000599_0000000846.ply\n",
      "/kaggle/input/kitti360-3d-semantics/data_3d_semantics/train/2013_05_28_drive_0000_sync/static/0000011079_0000011287.ply\n",
      "/kaggle/input/kitti360-3d-semantics/data_3d_semantics/train/2013_05_28_drive_0000_sync/static/0000011278_0000011467.ply\n",
      "/kaggle/input/kitti360-3d-semantics/data_3d_semantics/train/2013_05_28_drive_0000_sync/static/0000004397_0000004645.ply\n",
      "/kaggle/input/kitti360-3d-semantics/data_3d_semantics/train/2013_05_28_drive_0000_sync/static/0000007438_0000007605.ply\n",
      "/kaggle/input/kitti360-3d-semantics/data_3d_semantics/train/2013_05_28_drive_0000_sync/static/0000001537_0000001755.ply\n",
      "\u001b[1;33m[Open3D WARNING] Read PLY failed: number of vertex <= 0.\u001b[0;m\n",
      "Пропуск пустого: static=/kaggle/input/kitti360-3d-semantics/data_3d_semantics/train/2013_05_28_drive_0000_sync/static/0000001537_0000001755.ply, dynamic=/kaggle/input/kitti360-3d-semantics/data_3d_semantics/train/2013_05_28_drive_0000_sync/dynamic/0000001537_0000001755.ply\n",
      "/kaggle/input/kitti360-3d-semantics/data_3d_semantics/train/2013_05_28_drive_0000_sync/static/0000001270_0000001549.ply\n",
      "/kaggle/input/kitti360-3d-semantics/data_3d_semantics/train/2013_05_28_drive_0000_sync/static/0000010352_0000010588.ply\n",
      "/kaggle/input/kitti360-3d-semantics/data_3d_semantics/train/2013_05_28_drive_0000_sync/static/0000006828_0000007055.ply\n",
      "/kaggle/input/kitti360-3d-semantics/data_3d_semantics/train/2013_05_28_drive_0000_sync/static/0000005880_0000006165.ply\n",
      "/kaggle/input/kitti360-3d-semantics/data_3d_semantics/train/2013_05_28_drive_0000_sync/static/0000001980_0000002295.ply\n",
      "/kaggle/input/kitti360-3d-semantics/data_3d_semantics/train/2013_05_28_drive_0000_sync/static/0000002695_0000002925.ply\n",
      "/kaggle/input/kitti360-3d-semantics/data_3d_semantics/train/2013_05_28_drive_0000_sync/static/0000007777_0000007982.ply\n",
      "/kaggle/input/kitti360-3d-semantics/data_3d_semantics/train/2013_05_28_drive_0000_sync/static/0000006154_0000006400.ply\n",
      "\u001b[1;33m[Open3D WARNING] Read PLY failed: number of vertex <= 0.\u001b[0;m\n",
      "Пропуск пустого: static=/kaggle/input/kitti360-3d-semantics/data_3d_semantics/train/2013_05_28_drive_0000_sync/static/0000006154_0000006400.ply, dynamic=/kaggle/input/kitti360-3d-semantics/data_3d_semantics/train/2013_05_28_drive_0000_sync/dynamic/0000006154_0000006400.ply\n",
      "/kaggle/input/kitti360-3d-semantics/data_3d_semantics/train/2013_05_28_drive_0000_sync/static/0000007277_0000007447.ply\n",
      "/kaggle/input/kitti360-3d-semantics/data_3d_semantics/train/2013_05_28_drive_0000_sync/static/0000002913_0000003233.ply\n",
      "\u001b[1;33m[Open3D WARNING] Read PLY failed: number of vertex <= 0.\u001b[0;m\n",
      "Пропуск пустого: static=/kaggle/input/kitti360-3d-semantics/data_3d_semantics/train/2013_05_28_drive_0000_sync/static/0000002913_0000003233.ply, dynamic=/kaggle/input/kitti360-3d-semantics/data_3d_semantics/train/2013_05_28_drive_0000_sync/dynamic/0000002913_0000003233.ply\n",
      "/kaggle/input/kitti360-3d-semantics/data_3d_semantics/train/2013_05_28_drive_0000_sync/static/0000004631_0000004927.ply\n",
      "\u001b[1;33m[Open3D WARNING] Read PLY failed: number of vertex <= 0.\u001b[0;m\n",
      "Пропуск пустого: static=/kaggle/input/kitti360-3d-semantics/data_3d_semantics/train/2013_05_28_drive_0000_sync/static/0000004631_0000004927.ply, dynamic=/kaggle/input/kitti360-3d-semantics/data_3d_semantics/train/2013_05_28_drive_0000_sync/dynamic/0000004631_0000004927.ply\n",
      "/kaggle/input/kitti360-3d-semantics/data_3d_semantics/train/2013_05_28_drive_0000_sync/static/0000003221_0000003475.ply\n",
      "/kaggle/input/kitti360-3d-semantics/data_3d_semantics/train/2013_05_28_drive_0000_sync/static/0000003463_0000003724.ply\n",
      "/kaggle/input/kitti360-3d-semantics/data_3d_semantics/train/2013_05_28_drive_0000_sync/static/0000003919_0000004105.ply\n",
      "/kaggle/input/kitti360-3d-semantics/data_3d_semantics/train/2013_05_28_drive_0000_sync/static/0000009886_0000010098.ply\n",
      "/kaggle/input/kitti360-3d-semantics/data_3d_semantics/train/2013_05_28_drive_0000_sync/static/0000001740_0000001991.ply\n",
      "\u001b[1;33m[Open3D WARNING] Read PLY failed: number of vertex <= 0.\u001b[0;m\n",
      "Пропуск пустого: static=/kaggle/input/kitti360-3d-semantics/data_3d_semantics/train/2013_05_28_drive_0000_sync/static/0000001740_0000001991.ply, dynamic=/kaggle/input/kitti360-3d-semantics/data_3d_semantics/train/2013_05_28_drive_0000_sync/dynamic/0000001740_0000001991.ply\n",
      "/kaggle/input/kitti360-3d-semantics/data_3d_semantics/train/2013_05_28_drive_0000_sync/static/0000000002_0000000385.ply\n",
      "\u001b[1;33m[Open3D WARNING] Read PLY failed: number of vertex <= 0.\u001b[0;m\n",
      "Пропуск пустого: static=/kaggle/input/kitti360-3d-semantics/data_3d_semantics/train/2013_05_28_drive_0000_sync/static/0000000002_0000000385.ply, dynamic=/kaggle/input/kitti360-3d-semantics/data_3d_semantics/train/2013_05_28_drive_0000_sync/dynamic/0000000002_0000000385.ply\n",
      "/kaggle/input/kitti360-3d-semantics/data_3d_semantics/train/2013_05_28_drive_0000_sync/static/0000004093_0000004408.ply\n",
      "/kaggle/input/kitti360-3d-semantics/data_3d_semantics/train/2013_05_28_drive_0000_sync/static/0000005249_0000005900.ply\n",
      "/kaggle/input/kitti360-3d-semantics/data_3d_semantics/train/2013_05_28_drive_0000_sync/static/0000008779_0000009015.ply\n",
      "/kaggle/input/kitti360-3d-semantics/data_3d_semantics/train/2013_05_28_drive_0000_sync/static/0000008496_0000008790.ply\n",
      "/kaggle/input/kitti360-3d-semantics/data_3d_semantics/train/2013_05_28_drive_0000_sync/static/0000000834_0000001286.ply\n",
      "/kaggle/input/kitti360-3d-semantics/data_3d_semantics/train/2013_05_28_drive_0000_sync/static/0000010078_0000010362.ply\n",
      "/kaggle/input/kitti360-3d-semantics/data_3d_semantics/train/2013_05_28_drive_0002_sync/static/0000009265_0000009515.ply\n",
      "/kaggle/input/kitti360-3d-semantics/data_3d_semantics/train/2013_05_28_drive_0002_sync/static/0000012607_0000012785.ply\n",
      "/kaggle/input/kitti360-3d-semantics/data_3d_semantics/train/2013_05_28_drive_0002_sync/static/0000009502_0000009899.ply\n",
      "/kaggle/input/kitti360-3d-semantics/data_3d_semantics/train/2013_05_28_drive_0002_sync/static/0000007925_0000008100.ply\n",
      "/kaggle/input/kitti360-3d-semantics/data_3d_semantics/train/2013_05_28_drive_0002_sync/static/0000010819_0000011089.ply\n",
      "\u001b[1;33m[Open3D WARNING] Read PLY failed: number of vertex <= 0.\u001b[0;m\n",
      "Пропуск пустого: static=/kaggle/input/kitti360-3d-semantics/data_3d_semantics/train/2013_05_28_drive_0002_sync/static/0000010819_0000011089.ply, dynamic=/kaggle/input/kitti360-3d-semantics/data_3d_semantics/train/2013_05_28_drive_0002_sync/dynamic/0000010819_0000011089.ply\n",
      "/kaggle/input/kitti360-3d-semantics/data_3d_semantics/train/2013_05_28_drive_0002_sync/static/0000009885_0000010251.ply\n",
      "\u001b[1;33m[Open3D WARNING] Read PLY failed: number of vertex <= 0.\u001b[0;m\n",
      "Пропуск пустого: static=/kaggle/input/kitti360-3d-semantics/data_3d_semantics/train/2013_05_28_drive_0002_sync/static/0000009885_0000010251.ply, dynamic=/kaggle/input/kitti360-3d-semantics/data_3d_semantics/train/2013_05_28_drive_0002_sync/dynamic/0000009885_0000010251.ply\n",
      "/kaggle/input/kitti360-3d-semantics/data_3d_semantics/train/2013_05_28_drive_0002_sync/static/0000010484_0000010836.ply\n",
      "\u001b[1;33m[Open3D WARNING] Read PLY failed: number of vertex <= 0.\u001b[0;m\n",
      "Пропуск пустого: static=/kaggle/input/kitti360-3d-semantics/data_3d_semantics/train/2013_05_28_drive_0002_sync/static/0000010484_0000010836.ply, dynamic=/kaggle/input/kitti360-3d-semantics/data_3d_semantics/train/2013_05_28_drive_0002_sync/dynamic/0000010484_0000010836.ply\n",
      "/kaggle/input/kitti360-3d-semantics/data_3d_semantics/train/2013_05_28_drive_0002_sync/static/0000015189_0000015407.ply\n",
      "/kaggle/input/kitti360-3d-semantics/data_3d_semantics/train/2013_05_28_drive_0002_sync/static/0000008091_0000008324.ply\n",
      "\u001b[1;33m[Open3D WARNING] Read PLY failed: number of vertex <= 0.\u001b[0;m\n",
      "Пропуск пустого: static=/kaggle/input/kitti360-3d-semantics/data_3d_semantics/train/2013_05_28_drive_0002_sync/static/0000008091_0000008324.ply, dynamic=/kaggle/input/kitti360-3d-semantics/data_3d_semantics/train/2013_05_28_drive_0002_sync/dynamic/0000008091_0000008324.ply\n",
      "/kaggle/input/kitti360-3d-semantics/data_3d_semantics/train/2013_05_28_drive_0002_sync/static/0000015399_0000015548.ply\n",
      "/kaggle/input/kitti360-3d-semantics/data_3d_semantics/train/2013_05_28_drive_0002_sync/static/0000015684_0000015885.ply\n",
      "/kaggle/input/kitti360-3d-semantics/data_3d_semantics/train/2013_05_28_drive_0002_sync/static/0000015540_0000015692.ply\n",
      "\u001b[1;33m[Open3D WARNING] Read PLY failed: number of vertex <= 0.\u001b[0;m\n",
      "Пропуск пустого: static=/kaggle/input/kitti360-3d-semantics/data_3d_semantics/train/2013_05_28_drive_0002_sync/static/0000015540_0000015692.ply, dynamic=/kaggle/input/kitti360-3d-semantics/data_3d_semantics/train/2013_05_28_drive_0002_sync/dynamic/0000015540_0000015692.ply\n",
      "/kaggle/input/kitti360-3d-semantics/data_3d_semantics/train/2013_05_28_drive_0002_sync/static/0000015874_0000016223.ply\n",
      "/kaggle/input/kitti360-3d-semantics/data_3d_semantics/train/2013_05_28_drive_0002_sync/static/0000014491_0000014687.ply\n",
      "/kaggle/input/kitti360-3d-semantics/data_3d_semantics/train/2013_05_28_drive_0002_sync/static/0000012988_0000013420.ply\n",
      "\u001b[1;33m[Open3D WARNING] Read PLY failed: number of vertex <= 0.\u001b[0;m\n",
      "Пропуск пустого: static=/kaggle/input/kitti360-3d-semantics/data_3d_semantics/train/2013_05_28_drive_0002_sync/static/0000012988_0000013420.ply, dynamic=/kaggle/input/kitti360-3d-semantics/data_3d_semantics/train/2013_05_28_drive_0002_sync/dynamic/0000012988_0000013420.ply\n",
      "/kaggle/input/kitti360-3d-semantics/data_3d_semantics/train/2013_05_28_drive_0002_sync/static/0000005125_0000005328.ply\n",
      "/kaggle/input/kitti360-3d-semantics/data_3d_semantics/train/2013_05_28_drive_0002_sync/static/0000005317_0000005517.ply\n",
      "/kaggle/input/kitti360-3d-semantics/data_3d_semantics/train/2013_05_28_drive_0002_sync/static/0000007700_0000007935.ply\n",
      "/kaggle/input/kitti360-3d-semantics/data_3d_semantics/train/2013_05_28_drive_0002_sync/static/0000004613_0000004846.ply\n",
      "/kaggle/input/kitti360-3d-semantics/data_3d_semantics/train/2013_05_28_drive_0002_sync/static/0000012378_0000012617.ply\n",
      "/kaggle/input/kitti360-3d-semantics/data_3d_semantics/train/2013_05_28_drive_0002_sync/static/0000011675_0000011894.ply\n",
      "/kaggle/input/kitti360-3d-semantics/data_3d_semantics/train/2013_05_28_drive_0002_sync/static/0000013850_0000014120.ply\n",
      "/kaggle/input/kitti360-3d-semantics/data_3d_semantics/train/2013_05_28_drive_0002_sync/static/0000008645_0000009059.ply\n",
      "\u001b[1;33m[Open3D WARNING] Read PLY failed: number of vertex <= 0.\u001b[0;m\n",
      "Пропуск пустого: static=/kaggle/input/kitti360-3d-semantics/data_3d_semantics/train/2013_05_28_drive_0002_sync/static/0000008645_0000009059.ply, dynamic=/kaggle/input/kitti360-3d-semantics/data_3d_semantics/train/2013_05_28_drive_0002_sync/dynamic/0000008645_0000009059.ply\n",
      "/kaggle/input/kitti360-3d-semantics/data_3d_semantics/train/2013_05_28_drive_0002_sync/static/0000011467_0000011684.ply\n",
      "\u001b[1;33m[Open3D WARNING] Read PLY failed: number of vertex <= 0.\u001b[0;m\n",
      "Пропуск пустого: static=/kaggle/input/kitti360-3d-semantics/data_3d_semantics/train/2013_05_28_drive_0002_sync/static/0000011467_0000011684.ply, dynamic=/kaggle/input/kitti360-3d-semantics/data_3d_semantics/train/2013_05_28_drive_0002_sync/dynamic/0000011467_0000011684.ply\n",
      "/kaggle/input/kitti360-3d-semantics/data_3d_semantics/train/2013_05_28_drive_0002_sync/static/0000012197_0000012403.ply\n",
      "\u001b[1;33m[Open3D WARNING] Read PLY failed: number of vertex <= 0.\u001b[0;m\n",
      "Пропуск пустого: static=/kaggle/input/kitti360-3d-semantics/data_3d_semantics/train/2013_05_28_drive_0002_sync/static/0000012197_0000012403.ply, dynamic=/kaggle/input/kitti360-3d-semantics/data_3d_semantics/train/2013_05_28_drive_0002_sync/dynamic/0000012197_0000012403.ply\n",
      "/kaggle/input/kitti360-3d-semantics/data_3d_semantics/train/2013_05_28_drive_0002_sync/static/0000014337_0000014499.ply\n",
      "/kaggle/input/kitti360-3d-semantics/data_3d_semantics/train/2013_05_28_drive_0002_sync/static/0000014848_0000015027.ply\n",
      "\u001b[1;33m[Open3D WARNING] Read PLY failed: number of vertex <= 0.\u001b[0;m\n",
      "Пропуск пустого: static=/kaggle/input/kitti360-3d-semantics/data_3d_semantics/train/2013_05_28_drive_0002_sync/static/0000014848_0000015027.ply, dynamic=/kaggle/input/kitti360-3d-semantics/data_3d_semantics/train/2013_05_28_drive_0002_sync/dynamic/0000014848_0000015027.ply\n",
      "/kaggle/input/kitti360-3d-semantics/data_3d_semantics/train/2013_05_28_drive_0002_sync/static/0000012776_0000013003.ply\n",
      "\u001b[1;33m[Open3D WARNING] Read PLY failed: number of vertex <= 0.\u001b[0;m\n",
      "Пропуск пустого: static=/kaggle/input/kitti360-3d-semantics/data_3d_semantics/train/2013_05_28_drive_0002_sync/static/0000012776_0000013003.ply, dynamic=/kaggle/input/kitti360-3d-semantics/data_3d_semantics/train/2013_05_28_drive_0002_sync/dynamic/0000012776_0000013003.ply\n",
      "/kaggle/input/kitti360-3d-semantics/data_3d_semantics/train/2013_05_28_drive_0002_sync/static/0000014106_0000014347.ply\n",
      "/kaggle/input/kitti360-3d-semantics/data_3d_semantics/train/2013_05_28_drive_0002_sync/static/0000005506_0000005858.ply\n",
      "/kaggle/input/kitti360-3d-semantics/data_3d_semantics/train/2013_05_28_drive_0002_sync/static/0000004835_0000005136.ply\n",
      "/kaggle/input/kitti360-3d-semantics/data_3d_semantics/train/2013_05_28_drive_0002_sync/static/0000008311_0000008656.ply\n",
      "\u001b[1;33m[Open3D WARNING] Read PLY failed: number of vertex <= 0.\u001b[0;m\n",
      "Пропуск пустого: static=/kaggle/input/kitti360-3d-semantics/data_3d_semantics/train/2013_05_28_drive_0002_sync/static/0000008311_0000008656.ply, dynamic=/kaggle/input/kitti360-3d-semantics/data_3d_semantics/train/2013_05_28_drive_0002_sync/dynamic/0000008311_0000008656.ply\n",
      "/kaggle/input/kitti360-3d-semantics/data_3d_semantics/train/2013_05_28_drive_0002_sync/static/0000007002_0000007228.ply\n",
      "/kaggle/input/kitti360-3d-semantics/data_3d_semantics/train/2013_05_28_drive_0002_sync/static/0000011082_0000011480.ply\n",
      "\u001b[1;33m[Open3D WARNING] Read PLY failed: number of vertex <= 0.\u001b[0;m\n",
      "Пропуск пустого: static=/kaggle/input/kitti360-3d-semantics/data_3d_semantics/train/2013_05_28_drive_0002_sync/static/0000011082_0000011480.ply, dynamic=/kaggle/input/kitti360-3d-semantics/data_3d_semantics/train/2013_05_28_drive_0002_sync/dynamic/0000011082_0000011480.ply\n",
      "/kaggle/input/kitti360-3d-semantics/data_3d_semantics/train/2013_05_28_drive_0002_sync/static/0000010237_0000010495.ply\n",
      "\u001b[1;33m[Open3D WARNING] Read PLY failed: number of vertex <= 0.\u001b[0;m\n",
      "Пропуск пустого: static=/kaggle/input/kitti360-3d-semantics/data_3d_semantics/train/2013_05_28_drive_0002_sync/static/0000010237_0000010495.ply, dynamic=/kaggle/input/kitti360-3d-semantics/data_3d_semantics/train/2013_05_28_drive_0002_sync/dynamic/0000010237_0000010495.ply\n",
      "/kaggle/input/kitti360-3d-semantics/data_3d_semantics/train/2013_05_28_drive_0002_sync/static/0000007216_0000007502.ply\n",
      "\u001b[1;33m[Open3D WARNING] Read PLY failed: number of vertex <= 0.\u001b[0;m\n",
      "Пропуск пустого: static=/kaggle/input/kitti360-3d-semantics/data_3d_semantics/train/2013_05_28_drive_0002_sync/static/0000007216_0000007502.ply, dynamic=/kaggle/input/kitti360-3d-semantics/data_3d_semantics/train/2013_05_28_drive_0002_sync/dynamic/0000007216_0000007502.ply\n",
      "/kaggle/input/kitti360-3d-semantics/data_3d_semantics/train/2013_05_28_drive_0002_sync/static/0000004391_0000004625.ply\n",
      "\u001b[1;33m[Open3D WARNING] Read PLY failed: number of vertex <= 0.\u001b[0;m\n",
      "Пропуск пустого: static=/kaggle/input/kitti360-3d-semantics/data_3d_semantics/train/2013_05_28_drive_0002_sync/static/0000004391_0000004625.ply, dynamic=/kaggle/input/kitti360-3d-semantics/data_3d_semantics/train/2013_05_28_drive_0002_sync/dynamic/0000004391_0000004625.ply\n",
      "/kaggle/input/kitti360-3d-semantics/data_3d_semantics/train/2013_05_28_drive_0002_sync/static/0000013652_0000013860.ply\n",
      "\u001b[1;33m[Open3D WARNING] Read PLY failed: number of vertex <= 0.\u001b[0;m\n",
      "Пропуск пустого: static=/kaggle/input/kitti360-3d-semantics/data_3d_semantics/train/2013_05_28_drive_0002_sync/static/0000013652_0000013860.ply, dynamic=/kaggle/input/kitti360-3d-semantics/data_3d_semantics/train/2013_05_28_drive_0002_sync/dynamic/0000013652_0000013860.ply\n",
      "/kaggle/input/kitti360-3d-semantics/data_3d_semantics/train/2013_05_28_drive_0002_sync/static/0000011885_0000012047.ply\n",
      "/kaggle/input/kitti360-3d-semantics/data_3d_semantics/train/2013_05_28_drive_0002_sync/static/0000014677_0000014858.ply\n",
      "/kaggle/input/kitti360-3d-semantics/data_3d_semantics/train/2013_05_28_drive_0002_sync/static/0000009049_0000009275.ply\n",
      "\u001b[1;33m[Open3D WARNING] Read PLY failed: number of vertex <= 0.\u001b[0;m\n",
      "Пропуск пустого: static=/kaggle/input/kitti360-3d-semantics/data_3d_semantics/train/2013_05_28_drive_0002_sync/static/0000009049_0000009275.ply, dynamic=/kaggle/input/kitti360-3d-semantics/data_3d_semantics/train/2013_05_28_drive_0002_sync/dynamic/0000009049_0000009275.ply\n",
      "/kaggle/input/kitti360-3d-semantics/data_3d_semantics/train/2013_05_28_drive_0002_sync/static/0000013409_0000013661.ply\n",
      "/kaggle/input/kitti360-3d-semantics/data_3d_semantics/train/2013_05_28_drive_0002_sync/static/0000006069_0000006398.ply\n",
      "\u001b[1;33m[Open3D WARNING] Read PLY failed: number of vertex <= 0.\u001b[0;m\n",
      "Пропуск пустого: static=/kaggle/input/kitti360-3d-semantics/data_3d_semantics/train/2013_05_28_drive_0002_sync/static/0000006069_0000006398.ply, dynamic=/kaggle/input/kitti360-3d-semantics/data_3d_semantics/train/2013_05_28_drive_0002_sync/dynamic/0000006069_0000006398.ply\n",
      "/kaggle/input/kitti360-3d-semantics/data_3d_semantics/train/2013_05_28_drive_0002_sync/static/0000007489_0000007710.ply\n",
      "/kaggle/input/kitti360-3d-semantics/data_3d_semantics/train/2013_05_28_drive_0002_sync/static/0000006383_0000006769.ply\n",
      "\u001b[1;33m[Open3D WARNING] Read PLY failed: number of vertex <= 0.\u001b[0;m\n",
      "Пропуск пустого: static=/kaggle/input/kitti360-3d-semantics/data_3d_semantics/train/2013_05_28_drive_0002_sync/static/0000006383_0000006769.ply, dynamic=/kaggle/input/kitti360-3d-semantics/data_3d_semantics/train/2013_05_28_drive_0002_sync/dynamic/0000006383_0000006769.ply\n",
      "/kaggle/input/kitti360-3d-semantics/data_3d_semantics/train/2013_05_28_drive_0002_sync/static/0000012039_0000012206.ply\n",
      "/kaggle/input/kitti360-3d-semantics/data_3d_semantics/train/2013_05_28_drive_0002_sync/static/0000005847_0000006086.ply\n",
      "\u001b[1;33m[Open3D WARNING] Read PLY failed: number of vertex <= 0.\u001b[0;m\n",
      "Пропуск пустого: static=/kaggle/input/kitti360-3d-semantics/data_3d_semantics/train/2013_05_28_drive_0002_sync/static/0000005847_0000006086.ply, dynamic=/kaggle/input/kitti360-3d-semantics/data_3d_semantics/train/2013_05_28_drive_0002_sync/dynamic/0000005847_0000006086.ply\n",
      "/kaggle/input/kitti360-3d-semantics/data_3d_semantics/train/2013_05_28_drive_0002_sync/static/0000006757_0000007020.ply\n",
      "/kaggle/input/kitti360-3d-semantics/data_3d_semantics/train/2013_05_28_drive_0002_sync/static/0000015017_0000015199.ply\n",
      "\u001b[1;33m[Open3D WARNING] Read PLY failed: number of vertex <= 0.\u001b[0;m\n",
      "Пропуск пустого: static=/kaggle/input/kitti360-3d-semantics/data_3d_semantics/train/2013_05_28_drive_0002_sync/static/0000015017_0000015199.ply, dynamic=/kaggle/input/kitti360-3d-semantics/data_3d_semantics/train/2013_05_28_drive_0002_sync/dynamic/0000015017_0000015199.ply\n",
      "/kaggle/input/kitti360-3d-semantics/data_3d_semantics/train/2013_05_28_drive_0003_sync/static/0000000731_0000000893.ply\n",
      "/kaggle/input/kitti360-3d-semantics/data_3d_semantics/train/2013_05_28_drive_0003_sync/static/0000000617_0000000738.ply\n",
      "/kaggle/input/kitti360-3d-semantics/data_3d_semantics/train/2013_05_28_drive_0003_sync/static/0000000508_0000000623.ply\n",
      "/kaggle/input/kitti360-3d-semantics/data_3d_semantics/train/2013_05_28_drive_0003_sync/static/0000000886_0000001009.ply\n",
      "\u001b[1;33m[Open3D WARNING] Read PLY failed: number of vertex <= 0.\u001b[0;m\n",
      "Пропуск пустого: static=/kaggle/input/kitti360-3d-semantics/data_3d_semantics/train/2013_05_28_drive_0003_sync/static/0000000886_0000001009.ply, dynamic=/kaggle/input/kitti360-3d-semantics/data_3d_semantics/train/2013_05_28_drive_0003_sync/dynamic/0000000886_0000001009.ply\n",
      "/kaggle/input/kitti360-3d-semantics/data_3d_semantics/train/2013_05_28_drive_0003_sync/static/0000000002_0000000282.ply\n",
      "/kaggle/input/kitti360-3d-semantics/data_3d_semantics/train/2013_05_28_drive_0003_sync/static/0000000274_0000000401.ply\n",
      "/kaggle/input/kitti360-3d-semantics/data_3d_semantics/train/2013_05_28_drive_0003_sync/static/0000000394_0000000514.ply\n",
      "/kaggle/input/kitti360-3d-semantics/data_3d_semantics/train/2013_05_28_drive_0004_sync/static/0000007919_0000008113.ply\n",
      "\u001b[1;33m[Open3D WARNING] Read PLY failed: number of vertex <= 0.\u001b[0;m\n",
      "Пропуск пустого: static=/kaggle/input/kitti360-3d-semantics/data_3d_semantics/train/2013_05_28_drive_0004_sync/static/0000007919_0000008113.ply, dynamic=/kaggle/input/kitti360-3d-semantics/data_3d_semantics/train/2013_05_28_drive_0004_sync/dynamic/0000007919_0000008113.ply\n",
      "/kaggle/input/kitti360-3d-semantics/data_3d_semantics/train/2013_05_28_drive_0004_sync/static/0000009026_0000009253.ply\n",
      "\u001b[1;33m[Open3D WARNING] Read PLY failed: number of vertex <= 0.\u001b[0;m\n",
      "Пропуск пустого: static=/kaggle/input/kitti360-3d-semantics/data_3d_semantics/train/2013_05_28_drive_0004_sync/static/0000009026_0000009253.ply, dynamic=/kaggle/input/kitti360-3d-semantics/data_3d_semantics/train/2013_05_28_drive_0004_sync/dynamic/0000009026_0000009253.ply\n",
      "/kaggle/input/kitti360-3d-semantics/data_3d_semantics/train/2013_05_28_drive_0004_sync/static/0000010327_0000010554.ply\n",
      "/kaggle/input/kitti360-3d-semantics/data_3d_semantics/train/2013_05_28_drive_0004_sync/static/0000009458_0000009686.ply\n",
      "/kaggle/input/kitti360-3d-semantics/data_3d_semantics/train/2013_05_28_drive_0004_sync/static/0000005157_0000005564.ply\n",
      "/kaggle/input/kitti360-3d-semantics/data_3d_semantics/train/2013_05_28_drive_0004_sync/static/0000004174_0000004380.ply\n",
      "\u001b[1;33m[Open3D WARNING] Read PLY failed: number of vertex <= 0.\u001b[0;m\n",
      "Пропуск пустого: static=/kaggle/input/kitti360-3d-semantics/data_3d_semantics/train/2013_05_28_drive_0004_sync/static/0000004174_0000004380.ply, dynamic=/kaggle/input/kitti360-3d-semantics/data_3d_semantics/train/2013_05_28_drive_0004_sync/dynamic/0000004174_0000004380.ply\n",
      "/kaggle/input/kitti360-3d-semantics/data_3d_semantics/train/2013_05_28_drive_0004_sync/static/0000009244_0000009469.ply\n",
      "/kaggle/input/kitti360-3d-semantics/data_3d_semantics/train/2013_05_28_drive_0004_sync/static/0000007232_0000007463.ply\n",
      "\u001b[1;33m[Open3D WARNING] Read PLY failed: number of vertex <= 0.\u001b[0;m\n",
      "Пропуск пустого: static=/kaggle/input/kitti360-3d-semantics/data_3d_semantics/train/2013_05_28_drive_0004_sync/static/0000007232_0000007463.ply, dynamic=/kaggle/input/kitti360-3d-semantics/data_3d_semantics/train/2013_05_28_drive_0004_sync/dynamic/0000007232_0000007463.ply\n",
      "/kaggle/input/kitti360-3d-semantics/data_3d_semantics/train/2013_05_28_drive_0004_sync/static/0000002897_0000003118.ply\n",
      "/kaggle/input/kitti360-3d-semantics/data_3d_semantics/train/2013_05_28_drive_0004_sync/static/0000004708_0000004929.ply\n",
      "\u001b[1;33m[Open3D WARNING] Read PLY failed: number of vertex <= 0.\u001b[0;m\n",
      "Пропуск пустого: static=/kaggle/input/kitti360-3d-semantics/data_3d_semantics/train/2013_05_28_drive_0004_sync/static/0000004708_0000004929.ply, dynamic=/kaggle/input/kitti360-3d-semantics/data_3d_semantics/train/2013_05_28_drive_0004_sync/dynamic/0000004708_0000004929.ply\n",
      "/kaggle/input/kitti360-3d-semantics/data_3d_semantics/train/2013_05_28_drive_0004_sync/static/0000007610_0000007773.ply\n",
      "/kaggle/input/kitti360-3d-semantics/data_3d_semantics/train/2013_05_28_drive_0004_sync/static/0000006637_0000006868.ply\n",
      "\u001b[1;33m[Open3D WARNING] Read PLY failed: number of vertex <= 0.\u001b[0;m\n",
      "Пропуск пустого: static=/kaggle/input/kitti360-3d-semantics/data_3d_semantics/train/2013_05_28_drive_0004_sync/static/0000006637_0000006868.ply, dynamic=/kaggle/input/kitti360-3d-semantics/data_3d_semantics/train/2013_05_28_drive_0004_sync/dynamic/0000006637_0000006868.ply\n",
      "/kaggle/input/kitti360-3d-semantics/data_3d_semantics/train/2013_05_28_drive_0004_sync/static/0000005466_0000005775.ply\n",
      "/kaggle/input/kitti360-3d-semantics/data_3d_semantics/train/2013_05_28_drive_0004_sync/static/0000006450_0000006647.ply\n",
      "/kaggle/input/kitti360-3d-semantics/data_3d_semantics/train/2013_05_28_drive_0004_sync/static/0000005765_0000005945.ply\n",
      "/kaggle/input/kitti360-3d-semantics/data_3d_semantics/train/2013_05_28_drive_0004_sync/static/0000010156_0000010336.ply\n",
      "\u001b[1;33m[Open3D WARNING] Read PLY failed: number of vertex <= 0.\u001b[0;m\n",
      "Пропуск пустого: static=/kaggle/input/kitti360-3d-semantics/data_3d_semantics/train/2013_05_28_drive_0004_sync/static/0000010156_0000010336.ply, dynamic=/kaggle/input/kitti360-3d-semantics/data_3d_semantics/train/2013_05_28_drive_0004_sync/dynamic/0000010156_0000010336.ply\n",
      "/kaggle/input/kitti360-3d-semantics/data_3d_semantics/train/2013_05_28_drive_0004_sync/static/0000003356_0000003586.ply\n",
      "\u001b[1;33m[Open3D WARNING] Read PLY failed: number of vertex <= 0.\u001b[0;m\n",
      "Пропуск пустого: static=/kaggle/input/kitti360-3d-semantics/data_3d_semantics/train/2013_05_28_drive_0004_sync/static/0000003356_0000003586.ply, dynamic=/kaggle/input/kitti360-3d-semantics/data_3d_semantics/train/2013_05_28_drive_0004_sync/dynamic/0000003356_0000003586.ply\n",
      "/kaggle/input/kitti360-3d-semantics/data_3d_semantics/train/2013_05_28_drive_0004_sync/static/0000004919_0000005171.ply\n",
      "\u001b[1;33m[Open3D WARNING] Read PLY failed: number of vertex <= 0.\u001b[0;m\n",
      "Пропуск пустого: static=/kaggle/input/kitti360-3d-semantics/data_3d_semantics/train/2013_05_28_drive_0004_sync/static/0000004919_0000005171.ply, dynamic=/kaggle/input/kitti360-3d-semantics/data_3d_semantics/train/2013_05_28_drive_0004_sync/dynamic/0000004919_0000005171.ply\n",
      "/kaggle/input/kitti360-3d-semantics/data_3d_semantics/train/2013_05_28_drive_0004_sync/static/0000007763_0000007929.ply\n",
      "\u001b[1;33m[Open3D WARNING] Read PLY failed: number of vertex <= 0.\u001b[0;m\n",
      "Пропуск пустого: static=/kaggle/input/kitti360-3d-semantics/data_3d_semantics/train/2013_05_28_drive_0004_sync/static/0000007763_0000007929.ply, dynamic=/kaggle/input/kitti360-3d-semantics/data_3d_semantics/train/2013_05_28_drive_0004_sync/dynamic/0000007763_0000007929.ply\n",
      "/kaggle/input/kitti360-3d-semantics/data_3d_semantics/train/2013_05_28_drive_0004_sync/static/0000004370_0000004726.ply\n",
      "\u001b[1;33m[Open3D WARNING] Read PLY failed: number of vertex <= 0.\u001b[0;m\n",
      "Пропуск пустого: static=/kaggle/input/kitti360-3d-semantics/data_3d_semantics/train/2013_05_28_drive_0004_sync/static/0000004370_0000004726.ply, dynamic=/kaggle/input/kitti360-3d-semantics/data_3d_semantics/train/2013_05_28_drive_0004_sync/dynamic/0000004370_0000004726.ply\n",
      "/kaggle/input/kitti360-3d-semantics/data_3d_semantics/train/2013_05_28_drive_0004_sync/static/0000005930_0000006119.ply\n",
      "/kaggle/input/kitti360-3d-semantics/data_3d_semantics/train/2013_05_28_drive_0004_sync/static/0000006111_0000006313.ply\n",
      "/kaggle/input/kitti360-3d-semantics/data_3d_semantics/train/2013_05_28_drive_0004_sync/static/0000003570_0000003975.ply\n",
      "\u001b[1;33m[Open3D WARNING] Read PLY failed: number of vertex <= 0.\u001b[0;m\n",
      "Пропуск пустого: static=/kaggle/input/kitti360-3d-semantics/data_3d_semantics/train/2013_05_28_drive_0004_sync/static/0000003570_0000003975.ply, dynamic=/kaggle/input/kitti360-3d-semantics/data_3d_semantics/train/2013_05_28_drive_0004_sync/dynamic/0000003570_0000003975.ply\n",
      "/kaggle/input/kitti360-3d-semantics/data_3d_semantics/train/2013_05_28_drive_0004_sync/static/0000009675_0000010020.ply\n",
      "/kaggle/input/kitti360-3d-semantics/data_3d_semantics/train/2013_05_28_drive_0004_sync/static/0000007045_0000007242.ply\n",
      "\u001b[1;33m[Open3D WARNING] Read PLY failed: number of vertex <= 0.\u001b[0;m\n",
      "Пропуск пустого: static=/kaggle/input/kitti360-3d-semantics/data_3d_semantics/train/2013_05_28_drive_0004_sync/static/0000007045_0000007242.ply, dynamic=/kaggle/input/kitti360-3d-semantics/data_3d_semantics/train/2013_05_28_drive_0004_sync/dynamic/0000007045_0000007242.ply\n",
      "/kaggle/input/kitti360-3d-semantics/data_3d_semantics/train/2013_05_28_drive_0004_sync/static/0000008103_0000008330.ply\n",
      "/kaggle/input/kitti360-3d-semantics/data_3d_semantics/train/2013_05_28_drive_0004_sync/static/0000008794_0000009042.ply\n",
      "\u001b[1;33m[Open3D WARNING] Read PLY failed: number of vertex <= 0.\u001b[0;m\n",
      "Пропуск пустого: static=/kaggle/input/kitti360-3d-semantics/data_3d_semantics/train/2013_05_28_drive_0004_sync/static/0000008794_0000009042.ply, dynamic=/kaggle/input/kitti360-3d-semantics/data_3d_semantics/train/2013_05_28_drive_0004_sync/dynamic/0000008794_0000009042.ply\n",
      "/kaggle/input/kitti360-3d-semantics/data_3d_semantics/train/2013_05_28_drive_0004_sync/static/0000010010_0000010166.ply\n",
      "/kaggle/input/kitti360-3d-semantics/data_3d_semantics/train/2013_05_28_drive_0004_sync/static/0000003967_0000004185.ply\n",
      "\u001b[1;33m[Open3D WARNING] Read PLY failed: number of vertex <= 0.\u001b[0;m\n",
      "Пропуск пустого: static=/kaggle/input/kitti360-3d-semantics/data_3d_semantics/train/2013_05_28_drive_0004_sync/static/0000003967_0000004185.ply, dynamic=/kaggle/input/kitti360-3d-semantics/data_3d_semantics/train/2013_05_28_drive_0004_sync/dynamic/0000003967_0000004185.ply\n",
      "/kaggle/input/kitti360-3d-semantics/data_3d_semantics/train/2013_05_28_drive_0004_sync/static/0000010785_0000011115.ply\n",
      "/kaggle/input/kitti360-3d-semantics/data_3d_semantics/train/2013_05_28_drive_0004_sync/static/0000003107_0000003367.ply\n",
      "\u001b[1;33m[Open3D WARNING] Read PLY failed: number of vertex <= 0.\u001b[0;m\n",
      "Пропуск пустого: static=/kaggle/input/kitti360-3d-semantics/data_3d_semantics/train/2013_05_28_drive_0004_sync/static/0000003107_0000003367.ply, dynamic=/kaggle/input/kitti360-3d-semantics/data_3d_semantics/train/2013_05_28_drive_0004_sync/dynamic/0000003107_0000003367.ply\n",
      "/kaggle/input/kitti360-3d-semantics/data_3d_semantics/train/2013_05_28_drive_0004_sync/static/0000006857_0000007055.ply\n",
      "\u001b[1;33m[Open3D WARNING] Read PLY failed: number of vertex <= 0.\u001b[0;m\n",
      "Пропуск пустого: static=/kaggle/input/kitti360-3d-semantics/data_3d_semantics/train/2013_05_28_drive_0004_sync/static/0000006857_0000007055.ply, dynamic=/kaggle/input/kitti360-3d-semantics/data_3d_semantics/train/2013_05_28_drive_0004_sync/dynamic/0000006857_0000007055.ply\n",
      "/kaggle/input/kitti360-3d-semantics/data_3d_semantics/train/2013_05_28_drive_0004_sync/static/0000008320_0000008559.ply\n",
      "/kaggle/input/kitti360-3d-semantics/data_3d_semantics/train/2013_05_28_drive_0004_sync/static/0000006306_0000006457.ply\n",
      "\u001b[1;33m[Open3D WARNING] Read PLY failed: number of vertex <= 0.\u001b[0;m\n",
      "Пропуск пустого: static=/kaggle/input/kitti360-3d-semantics/data_3d_semantics/train/2013_05_28_drive_0004_sync/static/0000006306_0000006457.ply, dynamic=/kaggle/input/kitti360-3d-semantics/data_3d_semantics/train/2013_05_28_drive_0004_sync/dynamic/0000006306_0000006457.ply\n",
      "/kaggle/input/kitti360-3d-semantics/data_3d_semantics/train/2013_05_28_drive_0004_sync/static/0000008547_0000008806.ply\n",
      "\u001b[1;33m[Open3D WARNING] Read PLY failed: number of vertex <= 0.\u001b[0;m\n",
      "Пропуск пустого: static=/kaggle/input/kitti360-3d-semantics/data_3d_semantics/train/2013_05_28_drive_0004_sync/static/0000008547_0000008806.ply, dynamic=/kaggle/input/kitti360-3d-semantics/data_3d_semantics/train/2013_05_28_drive_0004_sync/dynamic/0000008547_0000008806.ply\n",
      "/kaggle/input/kitti360-3d-semantics/data_3d_semantics/train/2013_05_28_drive_0004_sync/static/0000007449_0000007619.ply\n",
      "\u001b[1;33m[Open3D WARNING] Read PLY failed: number of vertex <= 0.\u001b[0;m\n",
      "Пропуск пустого: static=/kaggle/input/kitti360-3d-semantics/data_3d_semantics/train/2013_05_28_drive_0004_sync/static/0000007449_0000007619.ply, dynamic=/kaggle/input/kitti360-3d-semantics/data_3d_semantics/train/2013_05_28_drive_0004_sync/dynamic/0000007449_0000007619.ply\n",
      "/kaggle/input/kitti360-3d-semantics/data_3d_semantics/train/2013_05_28_drive_0004_sync/static/0000011105_0000011325.ply\n",
      "\u001b[1;33m[Open3D WARNING] Read PLY failed: number of vertex <= 0.\u001b[0;m\n",
      "Пропуск пустого: static=/kaggle/input/kitti360-3d-semantics/data_3d_semantics/train/2013_05_28_drive_0004_sync/static/0000011105_0000011325.ply, dynamic=/kaggle/input/kitti360-3d-semantics/data_3d_semantics/train/2013_05_28_drive_0004_sync/dynamic/0000011105_0000011325.ply\n",
      "/kaggle/input/kitti360-3d-semantics/data_3d_semantics/train/2013_05_28_drive_0004_sync/static/0000010544_0000010799.ply\n",
      "/kaggle/input/kitti360-3d-semantics/data_3d_semantics/train/2013_05_28_drive_0005_sync/static/0000002115_0000002461.ply\n",
      "/kaggle/input/kitti360-3d-semantics/data_3d_semantics/train/2013_05_28_drive_0005_sync/static/0000000341_0000000592.ply\n",
      "/kaggle/input/kitti360-3d-semantics/data_3d_semantics/train/2013_05_28_drive_0005_sync/static/0000003501_0000003711.ply\n",
      "/kaggle/input/kitti360-3d-semantics/data_3d_semantics/train/2013_05_28_drive_0005_sync/static/0000006086_0000006307.ply\n",
      "/kaggle/input/kitti360-3d-semantics/data_3d_semantics/train/2013_05_28_drive_0005_sync/static/0000005579_0000005788.ply\n",
      "/kaggle/input/kitti360-3d-semantics/data_3d_semantics/train/2013_05_28_drive_0005_sync/static/0000000864_0000001199.ply\n",
      "/kaggle/input/kitti360-3d-semantics/data_3d_semantics/train/2013_05_28_drive_0005_sync/static/0000003698_0000004017.ply\n",
      "/kaggle/input/kitti360-3d-semantics/data_3d_semantics/train/2013_05_28_drive_0005_sync/static/0000005777_0000006097.ply\n",
      "/kaggle/input/kitti360-3d-semantics/data_3d_semantics/train/2013_05_28_drive_0005_sync/static/0000004277_0000004566.ply\n",
      "/kaggle/input/kitti360-3d-semantics/data_3d_semantics/train/2013_05_28_drive_0005_sync/static/0000002807_0000003311.ply\n",
      "/kaggle/input/kitti360-3d-semantics/data_3d_semantics/train/2013_05_28_drive_0005_sync/static/0000000579_0000000958.ply\n",
      "/kaggle/input/kitti360-3d-semantics/data_3d_semantics/train/2013_05_28_drive_0005_sync/static/0000004998_0000005335.ply\n",
      "\u001b[1;33m[Open3D WARNING] Read PLY failed: number of vertex <= 0.\u001b[0;m\n",
      "Пропуск пустого: static=/kaggle/input/kitti360-3d-semantics/data_3d_semantics/train/2013_05_28_drive_0005_sync/static/0000004998_0000005335.ply, dynamic=/kaggle/input/kitti360-3d-semantics/data_3d_semantics/train/2013_05_28_drive_0005_sync/dynamic/0000004998_0000005335.ply\n",
      "/kaggle/input/kitti360-3d-semantics/data_3d_semantics/train/2013_05_28_drive_0005_sync/static/0000004007_0000004299.ply\n",
      "/kaggle/input/kitti360-3d-semantics/data_3d_semantics/train/2013_05_28_drive_0005_sync/static/0000006298_0000006541.ply\n",
      "/kaggle/input/kitti360-3d-semantics/data_3d_semantics/train/2013_05_28_drive_0005_sync/static/0000001189_0000001398.ply\n",
      "\u001b[1;33m[Open3D WARNING] Read PLY failed: number of vertex <= 0.\u001b[0;m\n",
      "Пропуск пустого: static=/kaggle/input/kitti360-3d-semantics/data_3d_semantics/train/2013_05_28_drive_0005_sync/static/0000001189_0000001398.ply, dynamic=/kaggle/input/kitti360-3d-semantics/data_3d_semantics/train/2013_05_28_drive_0005_sync/dynamic/0000001189_0000001398.ply\n",
      "/kaggle/input/kitti360-3d-semantics/data_3d_semantics/train/2013_05_28_drive_0005_sync/static/0000004771_0000005011.ply\n",
      "/kaggle/input/kitti360-3d-semantics/data_3d_semantics/train/2013_05_28_drive_0005_sync/static/0000001653_0000001877.ply\n",
      "\u001b[1;33m[Open3D WARNING] Read PLY failed: number of vertex <= 0.\u001b[0;m\n",
      "Пропуск пустого: static=/kaggle/input/kitti360-3d-semantics/data_3d_semantics/train/2013_05_28_drive_0005_sync/static/0000001653_0000001877.ply, dynamic=/kaggle/input/kitti360-3d-semantics/data_3d_semantics/train/2013_05_28_drive_0005_sync/dynamic/0000001653_0000001877.ply\n",
      "/kaggle/input/kitti360-3d-semantics/data_3d_semantics/train/2013_05_28_drive_0005_sync/static/0000004549_0000004787.ply\n",
      "/kaggle/input/kitti360-3d-semantics/data_3d_semantics/train/2013_05_28_drive_0005_sync/static/0000000002_0000000357.ply\n",
      "\u001b[1;33m[Open3D WARNING] Read PLY failed: number of vertex <= 0.\u001b[0;m\n",
      "Пропуск пустого: static=/kaggle/input/kitti360-3d-semantics/data_3d_semantics/train/2013_05_28_drive_0005_sync/static/0000000002_0000000357.ply, dynamic=/kaggle/input/kitti360-3d-semantics/data_3d_semantics/train/2013_05_28_drive_0005_sync/dynamic/0000000002_0000000357.ply\n",
      "/kaggle/input/kitti360-3d-semantics/data_3d_semantics/train/2013_05_28_drive_0005_sync/static/0000002447_0000002823.ply\n",
      "/kaggle/input/kitti360-3d-semantics/data_3d_semantics/train/2013_05_28_drive_0005_sync/static/0000001386_0000001669.ply\n",
      "\u001b[1;33m[Open3D WARNING] Read PLY failed: number of vertex <= 0.\u001b[0;m\n",
      "Пропуск пустого: static=/kaggle/input/kitti360-3d-semantics/data_3d_semantics/train/2013_05_28_drive_0005_sync/static/0000001386_0000001669.ply, dynamic=/kaggle/input/kitti360-3d-semantics/data_3d_semantics/train/2013_05_28_drive_0005_sync/dynamic/0000001386_0000001669.ply\n",
      "/kaggle/input/kitti360-3d-semantics/data_3d_semantics/train/2013_05_28_drive_0005_sync/static/0000001865_0000002132.ply\n",
      "\u001b[1;33m[Open3D WARNING] Read PLY failed: number of vertex <= 0.\u001b[0;m\n",
      "Пропуск пустого: static=/kaggle/input/kitti360-3d-semantics/data_3d_semantics/train/2013_05_28_drive_0005_sync/static/0000001865_0000002132.ply, dynamic=/kaggle/input/kitti360-3d-semantics/data_3d_semantics/train/2013_05_28_drive_0005_sync/dynamic/0000001865_0000002132.ply\n",
      "/kaggle/input/kitti360-3d-semantics/data_3d_semantics/train/2013_05_28_drive_0005_sync/static/0000005324_0000005591.ply\n",
      "\u001b[1;33m[Open3D WARNING] Read PLY failed: number of vertex <= 0.\u001b[0;m\n",
      "Пропуск пустого: static=/kaggle/input/kitti360-3d-semantics/data_3d_semantics/train/2013_05_28_drive_0005_sync/static/0000005324_0000005591.ply, dynamic=/kaggle/input/kitti360-3d-semantics/data_3d_semantics/train/2013_05_28_drive_0005_sync/dynamic/0000005324_0000005591.ply\n",
      "/kaggle/input/kitti360-3d-semantics/data_3d_semantics/train/2013_05_28_drive_0005_sync/static/0000003245_0000003509.ply\n",
      "/kaggle/input/kitti360-3d-semantics/data_3d_semantics/train/2013_05_28_drive_0006_sync/static/0000007641_0000007836.ply\n",
      "\u001b[1;33m[Open3D WARNING] Read PLY failed: number of vertex <= 0.\u001b[0;m\n",
      "Пропуск пустого: static=/kaggle/input/kitti360-3d-semantics/data_3d_semantics/train/2013_05_28_drive_0006_sync/static/0000007641_0000007836.ply, dynamic=/kaggle/input/kitti360-3d-semantics/data_3d_semantics/train/2013_05_28_drive_0006_sync/dynamic/0000007641_0000007836.ply\n",
      "/kaggle/input/kitti360-3d-semantics/data_3d_semantics/train/2013_05_28_drive_0006_sync/static/0000006818_0000007040.ply\n",
      "\u001b[1;33m[Open3D WARNING] Read PLY failed: number of vertex <= 0.\u001b[0;m\n",
      "Пропуск пустого: static=/kaggle/input/kitti360-3d-semantics/data_3d_semantics/train/2013_05_28_drive_0006_sync/static/0000006818_0000007040.ply, dynamic=/kaggle/input/kitti360-3d-semantics/data_3d_semantics/train/2013_05_28_drive_0006_sync/dynamic/0000006818_0000007040.ply\n",
      "/kaggle/input/kitti360-3d-semantics/data_3d_semantics/train/2013_05_28_drive_0006_sync/static/0000005957_0000006191.ply\n",
      "\u001b[1;33m[Open3D WARNING] Read PLY failed: number of vertex <= 0.\u001b[0;m\n",
      "Пропуск пустого: static=/kaggle/input/kitti360-3d-semantics/data_3d_semantics/train/2013_05_28_drive_0006_sync/static/0000005957_0000006191.ply, dynamic=/kaggle/input/kitti360-3d-semantics/data_3d_semantics/train/2013_05_28_drive_0006_sync/dynamic/0000005957_0000006191.ply\n",
      "/kaggle/input/kitti360-3d-semantics/data_3d_semantics/train/2013_05_28_drive_0006_sync/static/0000005303_0000005811.ply\n",
      "/kaggle/input/kitti360-3d-semantics/data_3d_semantics/train/2013_05_28_drive_0006_sync/static/0000000002_0000000403.ply\n",
      "/kaggle/input/kitti360-3d-semantics/data_3d_semantics/train/2013_05_28_drive_0006_sync/static/0000009383_0000009570.ply\n",
      "/kaggle/input/kitti360-3d-semantics/data_3d_semantics/train/2013_05_28_drive_0006_sync/static/0000005107_0000005311.ply\n",
      "\u001b[1;33m[Open3D WARNING] Read PLY failed: number of vertex <= 0.\u001b[0;m\n",
      "Пропуск пустого: static=/kaggle/input/kitti360-3d-semantics/data_3d_semantics/train/2013_05_28_drive_0006_sync/static/0000005107_0000005311.ply, dynamic=/kaggle/input/kitti360-3d-semantics/data_3d_semantics/train/2013_05_28_drive_0006_sync/dynamic/0000005107_0000005311.ply\n",
      "/kaggle/input/kitti360-3d-semantics/data_3d_semantics/train/2013_05_28_drive_0006_sync/static/0000007228_0000007465.ply\n",
      "\u001b[1;33m[Open3D WARNING] Read PLY failed: number of vertex <= 0.\u001b[0;m\n",
      "Пропуск пустого: static=/kaggle/input/kitti360-3d-semantics/data_3d_semantics/train/2013_05_28_drive_0006_sync/static/0000007228_0000007465.ply, dynamic=/kaggle/input/kitti360-3d-semantics/data_3d_semantics/train/2013_05_28_drive_0006_sync/dynamic/0000007228_0000007465.ply\n",
      "/kaggle/input/kitti360-3d-semantics/data_3d_semantics/train/2013_05_28_drive_0006_sync/static/0000002280_0000002615.ply\n",
      "/kaggle/input/kitti360-3d-semantics/data_3d_semantics/train/2013_05_28_drive_0006_sync/static/0000008898_0000009046.ply\n",
      "/kaggle/input/kitti360-3d-semantics/data_3d_semantics/train/2013_05_28_drive_0006_sync/static/0000009038_0000009223.ply\n",
      "/kaggle/input/kitti360-3d-semantics/data_3d_semantics/train/2013_05_28_drive_0006_sync/static/0000001000_0000001219.ply\n",
      "\u001b[1;33m[Open3D WARNING] Read PLY failed: number of vertex <= 0.\u001b[0;m\n",
      "Пропуск пустого: static=/kaggle/input/kitti360-3d-semantics/data_3d_semantics/train/2013_05_28_drive_0006_sync/static/0000001000_0000001219.ply, dynamic=/kaggle/input/kitti360-3d-semantics/data_3d_semantics/train/2013_05_28_drive_0006_sync/dynamic/0000001000_0000001219.ply\n",
      "/kaggle/input/kitti360-3d-semantics/data_3d_semantics/train/2013_05_28_drive_0006_sync/static/0000004368_0000004735.ply\n",
      "\u001b[1;33m[Open3D WARNING] Read PLY failed: number of vertex <= 0.\u001b[0;m\n",
      "Пропуск пустого: static=/kaggle/input/kitti360-3d-semantics/data_3d_semantics/train/2013_05_28_drive_0006_sync/static/0000004368_0000004735.ply, dynamic=/kaggle/input/kitti360-3d-semantics/data_3d_semantics/train/2013_05_28_drive_0006_sync/dynamic/0000004368_0000004735.ply\n",
      "/kaggle/input/kitti360-3d-semantics/data_3d_semantics/train/2013_05_28_drive_0006_sync/static/0000001906_0000002133.ply\n",
      "/kaggle/input/kitti360-3d-semantics/data_3d_semantics/train/2013_05_28_drive_0006_sync/static/0000007027_0000007239.ply\n",
      "\u001b[1;33m[Open3D WARNING] Read PLY failed: number of vertex <= 0.\u001b[0;m\n",
      "Пропуск пустого: static=/kaggle/input/kitti360-3d-semantics/data_3d_semantics/train/2013_05_28_drive_0006_sync/static/0000007027_0000007239.ply, dynamic=/kaggle/input/kitti360-3d-semantics/data_3d_semantics/train/2013_05_28_drive_0006_sync/dynamic/0000007027_0000007239.ply\n",
      "/kaggle/input/kitti360-3d-semantics/data_3d_semantics/train/2013_05_28_drive_0006_sync/static/0000009213_0000009393.ply\n",
      "/kaggle/input/kitti360-3d-semantics/data_3d_semantics/train/2013_05_28_drive_0006_sync/static/0000001423_0000001711.ply\n",
      "/kaggle/input/kitti360-3d-semantics/data_3d_semantics/train/2013_05_28_drive_0006_sync/static/0000000387_0000000772.ply\n",
      "/kaggle/input/kitti360-3d-semantics/data_3d_semantics/train/2013_05_28_drive_0006_sync/static/0000008694_0000008906.ply\n",
      "/kaggle/input/kitti360-3d-semantics/data_3d_semantics/train/2013_05_28_drive_0006_sync/static/0000000754_0000001010.ply\n",
      "\u001b[1;33m[Open3D WARNING] Read PLY failed: number of vertex <= 0.\u001b[0;m\n",
      "Пропуск пустого: static=/kaggle/input/kitti360-3d-semantics/data_3d_semantics/train/2013_05_28_drive_0006_sync/static/0000000754_0000001010.ply, dynamic=/kaggle/input/kitti360-3d-semantics/data_3d_semantics/train/2013_05_28_drive_0006_sync/dynamic/0000000754_0000001010.ply\n",
      "/kaggle/input/kitti360-3d-semantics/data_3d_semantics/train/2013_05_28_drive_0006_sync/static/0000007826_0000008063.ply\n",
      "/kaggle/input/kitti360-3d-semantics/data_3d_semantics/train/2013_05_28_drive_0006_sync/static/0000003001_0000003265.ply\n",
      "/kaggle/input/kitti360-3d-semantics/data_3d_semantics/train/2013_05_28_drive_0006_sync/static/0000006393_0000006648.ply\n",
      "\u001b[1;33m[Open3D WARNING] Read PLY failed: number of vertex <= 0.\u001b[0;m\n",
      "Пропуск пустого: static=/kaggle/input/kitti360-3d-semantics/data_3d_semantics/train/2013_05_28_drive_0006_sync/static/0000006393_0000006648.ply, dynamic=/kaggle/input/kitti360-3d-semantics/data_3d_semantics/train/2013_05_28_drive_0006_sync/dynamic/0000006393_0000006648.ply\n",
      "/kaggle/input/kitti360-3d-semantics/data_3d_semantics/train/2013_05_28_drive_0006_sync/static/0000008271_0000008499.ply\n",
      "/kaggle/input/kitti360-3d-semantics/data_3d_semantics/train/2013_05_28_drive_0006_sync/static/0000005801_0000005966.ply\n",
      "\u001b[1;33m[Open3D WARNING] Read PLY failed: number of vertex <= 0.\u001b[0;m\n",
      "Пропуск пустого: static=/kaggle/input/kitti360-3d-semantics/data_3d_semantics/train/2013_05_28_drive_0006_sync/static/0000005801_0000005966.ply, dynamic=/kaggle/input/kitti360-3d-semantics/data_3d_semantics/train/2013_05_28_drive_0006_sync/dynamic/0000005801_0000005966.ply\n",
      "/kaggle/input/kitti360-3d-semantics/data_3d_semantics/train/2013_05_28_drive_0006_sync/static/0000006639_0000006827.ply\n",
      "\u001b[1;33m[Open3D WARNING] Read PLY failed: number of vertex <= 0.\u001b[0;m\n",
      "Пропуск пустого: static=/kaggle/input/kitti360-3d-semantics/data_3d_semantics/train/2013_05_28_drive_0006_sync/static/0000006639_0000006827.ply, dynamic=/kaggle/input/kitti360-3d-semantics/data_3d_semantics/train/2013_05_28_drive_0006_sync/dynamic/0000006639_0000006827.ply\n",
      "/kaggle/input/kitti360-3d-semantics/data_3d_semantics/train/2013_05_28_drive_0006_sync/static/0000004920_0000005128.ply\n",
      "\u001b[1;33m[Open3D WARNING] Read PLY failed: number of vertex <= 0.\u001b[0;m\n",
      "Пропуск пустого: static=/kaggle/input/kitti360-3d-semantics/data_3d_semantics/train/2013_05_28_drive_0006_sync/static/0000004920_0000005128.ply, dynamic=/kaggle/input/kitti360-3d-semantics/data_3d_semantics/train/2013_05_28_drive_0006_sync/dynamic/0000004920_0000005128.ply\n",
      "/kaggle/input/kitti360-3d-semantics/data_3d_semantics/train/2013_05_28_drive_0006_sync/static/0000002124_0000002289.ply\n",
      "/kaggle/input/kitti360-3d-semantics/data_3d_semantics/train/2013_05_28_drive_0006_sync/static/0000008490_0000008705.ply\n",
      "/kaggle/input/kitti360-3d-semantics/data_3d_semantics/train/2013_05_28_drive_0006_sync/static/0000001208_0000001438.ply\n",
      "/kaggle/input/kitti360-3d-semantics/data_3d_semantics/train/2013_05_28_drive_0006_sync/static/0000003895_0000004070.ply\n",
      "\u001b[1;33m[Open3D WARNING] Read PLY failed: number of vertex <= 0.\u001b[0;m\n",
      "Пропуск пустого: static=/kaggle/input/kitti360-3d-semantics/data_3d_semantics/train/2013_05_28_drive_0006_sync/static/0000003895_0000004070.ply, dynamic=/kaggle/input/kitti360-3d-semantics/data_3d_semantics/train/2013_05_28_drive_0006_sync/dynamic/0000003895_0000004070.ply\n",
      "/kaggle/input/kitti360-3d-semantics/data_3d_semantics/train/2013_05_28_drive_0006_sync/static/0000004058_0000004393.ply\n",
      "\u001b[1;33m[Open3D WARNING] Read PLY failed: number of vertex <= 0.\u001b[0;m\n",
      "Пропуск пустого: static=/kaggle/input/kitti360-3d-semantics/data_3d_semantics/train/2013_05_28_drive_0006_sync/static/0000004058_0000004393.ply, dynamic=/kaggle/input/kitti360-3d-semantics/data_3d_semantics/train/2013_05_28_drive_0006_sync/dynamic/0000004058_0000004393.ply\n",
      "/kaggle/input/kitti360-3d-semantics/data_3d_semantics/train/2013_05_28_drive_0006_sync/static/0000003251_0000003634.ply\n",
      "\u001b[1;33m[Open3D WARNING] Read PLY failed: number of vertex <= 0.\u001b[0;m\n",
      "Пропуск пустого: static=/kaggle/input/kitti360-3d-semantics/data_3d_semantics/train/2013_05_28_drive_0006_sync/static/0000003251_0000003634.ply, dynamic=/kaggle/input/kitti360-3d-semantics/data_3d_semantics/train/2013_05_28_drive_0006_sync/dynamic/0000003251_0000003634.ply\n",
      "/kaggle/input/kitti360-3d-semantics/data_3d_semantics/train/2013_05_28_drive_0006_sync/static/0000008052_0000008284.ply\n",
      "/kaggle/input/kitti360-3d-semantics/data_3d_semantics/train/2013_05_28_drive_0006_sync/static/0000004723_0000004930.ply\n",
      "\u001b[1;33m[Open3D WARNING] Read PLY failed: number of vertex <= 0.\u001b[0;m\n",
      "Пропуск пустого: static=/kaggle/input/kitti360-3d-semantics/data_3d_semantics/train/2013_05_28_drive_0006_sync/static/0000004723_0000004930.ply, dynamic=/kaggle/input/kitti360-3d-semantics/data_3d_semantics/train/2013_05_28_drive_0006_sync/dynamic/0000004723_0000004930.ply\n",
      "/kaggle/input/kitti360-3d-semantics/data_3d_semantics/train/2013_05_28_drive_0006_sync/static/0000006177_0000006404.ply\n",
      "\u001b[1;33m[Open3D WARNING] Read PLY failed: number of vertex <= 0.\u001b[0;m\n",
      "Пропуск пустого: static=/kaggle/input/kitti360-3d-semantics/data_3d_semantics/train/2013_05_28_drive_0006_sync/static/0000006177_0000006404.ply, dynamic=/kaggle/input/kitti360-3d-semantics/data_3d_semantics/train/2013_05_28_drive_0006_sync/dynamic/0000006177_0000006404.ply\n",
      "/kaggle/input/kitti360-3d-semantics/data_3d_semantics/train/2013_05_28_drive_0006_sync/static/0000002511_0000002810.ply\n",
      "/kaggle/input/kitti360-3d-semantics/data_3d_semantics/train/2013_05_28_drive_0006_sync/static/0000001700_0000001916.ply\n",
      "/kaggle/input/kitti360-3d-semantics/data_3d_semantics/train/2013_05_28_drive_0006_sync/static/0000003613_0000003905.ply\n",
      "/kaggle/input/kitti360-3d-semantics/data_3d_semantics/train/2013_05_28_drive_0006_sync/static/0000002801_0000003011.ply\n",
      "\u001b[1;33m[Open3D WARNING] Read PLY failed: number of vertex <= 0.\u001b[0;m\n",
      "Пропуск пустого: static=/kaggle/input/kitti360-3d-semantics/data_3d_semantics/train/2013_05_28_drive_0006_sync/static/0000002801_0000003011.ply, dynamic=/kaggle/input/kitti360-3d-semantics/data_3d_semantics/train/2013_05_28_drive_0006_sync/dynamic/0000002801_0000003011.ply\n",
      "/kaggle/input/kitti360-3d-semantics/data_3d_semantics/train/2013_05_28_drive_0006_sync/static/0000007457_0000007651.ply\n",
      "/kaggle/input/kitti360-3d-semantics/data_3d_semantics/train/2013_05_28_drive_0007_sync/static/0000002237_0000002410.ply\n",
      "/kaggle/input/kitti360-3d-semantics/data_3d_semantics/train/2013_05_28_drive_0007_sync/static/0000001577_0000001664.ply\n",
      "/kaggle/input/kitti360-3d-semantics/data_3d_semantics/train/2013_05_28_drive_0007_sync/static/0000000293_0000000383.ply\n",
      "\u001b[1;33m[Open3D WARNING] Read PLY failed: number of vertex <= 0.\u001b[0;m\n",
      "Пропуск пустого: static=/kaggle/input/kitti360-3d-semantics/data_3d_semantics/train/2013_05_28_drive_0007_sync/static/0000000293_0000000383.ply, dynamic=/kaggle/input/kitti360-3d-semantics/data_3d_semantics/train/2013_05_28_drive_0007_sync/dynamic/0000000293_0000000383.ply\n",
      "/kaggle/input/kitti360-3d-semantics/data_3d_semantics/train/2013_05_28_drive_0007_sync/static/0000001841_0000001957.ply\n",
      "/kaggle/input/kitti360-3d-semantics/data_3d_semantics/train/2013_05_28_drive_0007_sync/static/0000000624_0000000710.ply\n",
      "\u001b[1;33m[Open3D WARNING] Read PLY failed: number of vertex <= 0.\u001b[0;m\n",
      "Пропуск пустого: static=/kaggle/input/kitti360-3d-semantics/data_3d_semantics/train/2013_05_28_drive_0007_sync/static/0000000624_0000000710.ply, dynamic=/kaggle/input/kitti360-3d-semantics/data_3d_semantics/train/2013_05_28_drive_0007_sync/dynamic/0000000624_0000000710.ply\n",
      "/kaggle/input/kitti360-3d-semantics/data_3d_semantics/train/2013_05_28_drive_0007_sync/static/0000001122_0000001227.ply\n",
      "/kaggle/input/kitti360-3d-semantics/data_3d_semantics/train/2013_05_28_drive_0007_sync/static/0000001340_0000001490.ply\n",
      "/kaggle/input/kitti360-3d-semantics/data_3d_semantics/train/2013_05_28_drive_0007_sync/static/0000000208_0000000298.ply\n",
      "/kaggle/input/kitti360-3d-semantics/data_3d_semantics/train/2013_05_28_drive_0007_sync/static/0000001745_0000001847.ply\n",
      "/kaggle/input/kitti360-3d-semantics/data_3d_semantics/train/2013_05_28_drive_0007_sync/static/0000000542_0000000629.ply\n",
      "/kaggle/input/kitti360-3d-semantics/data_3d_semantics/train/2013_05_28_drive_0007_sync/static/0000000461_0000000547.ply\n",
      "/kaggle/input/kitti360-3d-semantics/data_3d_semantics/train/2013_05_28_drive_0007_sync/static/0000001034_0000001127.ply\n",
      "/kaggle/input/kitti360-3d-semantics/data_3d_semantics/train/2013_05_28_drive_0007_sync/static/0000000785_0000000870.ply\n",
      "/kaggle/input/kitti360-3d-semantics/data_3d_semantics/train/2013_05_28_drive_0007_sync/static/0000000865_0000000952.ply\n",
      "/kaggle/input/kitti360-3d-semantics/data_3d_semantics/train/2013_05_28_drive_0007_sync/static/0000001659_0000001750.ply\n",
      "/kaggle/input/kitti360-3d-semantics/data_3d_semantics/train/2013_05_28_drive_0007_sync/static/0000001221_0000001348.ply\n",
      "/kaggle/input/kitti360-3d-semantics/data_3d_semantics/train/2013_05_28_drive_0007_sync/static/0000001950_0000002251.ply\n",
      "/kaggle/input/kitti360-3d-semantics/data_3d_semantics/train/2013_05_28_drive_0007_sync/static/0000001483_0000001582.ply\n",
      "/kaggle/input/kitti360-3d-semantics/data_3d_semantics/train/2013_05_28_drive_0007_sync/static/0000000119_0000000213.ply\n",
      "/kaggle/input/kitti360-3d-semantics/data_3d_semantics/train/2013_05_28_drive_0007_sync/static/0000002782_0000002902.ply\n",
      "/kaggle/input/kitti360-3d-semantics/data_3d_semantics/train/2013_05_28_drive_0007_sync/static/0000000002_0000000125.ply\n",
      "/kaggle/input/kitti360-3d-semantics/data_3d_semantics/train/2013_05_28_drive_0007_sync/static/0000000947_0000001039.ply\n",
      "\u001b[1;33m[Open3D WARNING] Read PLY failed: number of vertex <= 0.\u001b[0;m\n",
      "Пропуск пустого: static=/kaggle/input/kitti360-3d-semantics/data_3d_semantics/train/2013_05_28_drive_0007_sync/static/0000000947_0000001039.ply, dynamic=/kaggle/input/kitti360-3d-semantics/data_3d_semantics/train/2013_05_28_drive_0007_sync/dynamic/0000000947_0000001039.ply\n",
      "/kaggle/input/kitti360-3d-semantics/data_3d_semantics/train/2013_05_28_drive_0007_sync/static/0000002395_0000002789.ply\n",
      "/kaggle/input/kitti360-3d-semantics/data_3d_semantics/train/2013_05_28_drive_0007_sync/static/0000000378_0000000466.ply\n",
      "/kaggle/input/kitti360-3d-semantics/data_3d_semantics/train/2013_05_28_drive_0007_sync/static/0000000705_0000000790.ply\n",
      "\u001b[1;33m[Open3D WARNING] Read PLY failed: number of vertex <= 0.\u001b[0;m\n",
      "Пропуск пустого: static=/kaggle/input/kitti360-3d-semantics/data_3d_semantics/train/2013_05_28_drive_0007_sync/static/0000000705_0000000790.ply, dynamic=/kaggle/input/kitti360-3d-semantics/data_3d_semantics/train/2013_05_28_drive_0007_sync/dynamic/0000000705_0000000790.ply\n",
      "/kaggle/input/kitti360-3d-semantics/data_3d_semantics/train/2013_05_28_drive_0009_sync/static/0000011351_0000011646.ply\n",
      "/kaggle/input/kitti360-3d-semantics/data_3d_semantics/train/2013_05_28_drive_0009_sync/static/0000002117_0000002353.ply\n",
      "/kaggle/input/kitti360-3d-semantics/data_3d_semantics/train/2013_05_28_drive_0009_sync/static/0000001234_0000001393.ply\n",
      "\u001b[1;33m[Open3D WARNING] Read PLY failed: number of vertex <= 0.\u001b[0;m\n",
      "Пропуск пустого: static=/kaggle/input/kitti360-3d-semantics/data_3d_semantics/train/2013_05_28_drive_0009_sync/static/0000001234_0000001393.ply, dynamic=/kaggle/input/kitti360-3d-semantics/data_3d_semantics/train/2013_05_28_drive_0009_sync/dynamic/0000001234_0000001393.ply\n",
      "/kaggle/input/kitti360-3d-semantics/data_3d_semantics/train/2013_05_28_drive_0009_sync/static/0000008096_0000008413.ply\n",
      "/kaggle/input/kitti360-3d-semantics/data_3d_semantics/train/2013_05_28_drive_0009_sync/static/0000003188_0000003457.ply\n",
      "/kaggle/input/kitti360-3d-semantics/data_3d_semantics/train/2013_05_28_drive_0009_sync/static/0000003972_0000004258.ply\n",
      "/kaggle/input/kitti360-3d-semantics/data_3d_semantics/train/2013_05_28_drive_0009_sync/static/0000002826_0000003034.ply\n",
      "/kaggle/input/kitti360-3d-semantics/data_3d_semantics/train/2013_05_28_drive_0009_sync/static/0000000284_0000000460.ply\n",
      "/kaggle/input/kitti360-3d-semantics/data_3d_semantics/train/2013_05_28_drive_0009_sync/static/0000013133_0000013380.ply\n",
      "\u001b[1;33m[Open3D WARNING] Read PLY failed: number of vertex <= 0.\u001b[0;m\n",
      "Пропуск пустого: static=/kaggle/input/kitti360-3d-semantics/data_3d_semantics/train/2013_05_28_drive_0009_sync/static/0000013133_0000013380.ply, dynamic=/kaggle/input/kitti360-3d-semantics/data_3d_semantics/train/2013_05_28_drive_0009_sync/dynamic/0000013133_0000013380.ply\n",
      "/kaggle/input/kitti360-3d-semantics/data_3d_semantics/train/2013_05_28_drive_0009_sync/static/0000001385_0000001543.ply\n",
      "/kaggle/input/kitti360-3d-semantics/data_3d_semantics/train/2013_05_28_drive_0009_sync/static/0000012398_0000012693.ply\n",
      "/kaggle/input/kitti360-3d-semantics/data_3d_semantics/train/2013_05_28_drive_0009_sync/static/0000009489_0000009738.ply\n",
      "/kaggle/input/kitti360-3d-semantics/data_3d_semantics/train/2013_05_28_drive_0009_sync/static/0000004475_0000004916.ply\n",
      "/kaggle/input/kitti360-3d-semantics/data_3d_semantics/train/2013_05_28_drive_0009_sync/static/0000013370_0000013582.ply\n",
      "/kaggle/input/kitti360-3d-semantics/data_3d_semantics/train/2013_05_28_drive_0009_sync/static/0000006740_0000007052.ply\n",
      "\u001b[1;33m[Open3D WARNING] Read PLY failed: number of vertex <= 0.\u001b[0;m\n",
      "Пропуск пустого: static=/kaggle/input/kitti360-3d-semantics/data_3d_semantics/train/2013_05_28_drive_0009_sync/static/0000006740_0000007052.ply, dynamic=/kaggle/input/kitti360-3d-semantics/data_3d_semantics/train/2013_05_28_drive_0009_sync/dynamic/0000006740_0000007052.ply\n",
      "/kaggle/input/kitti360-3d-semantics/data_3d_semantics/train/2013_05_28_drive_0009_sync/static/0000011099_0000011363.ply\n",
      "/kaggle/input/kitti360-3d-semantics/data_3d_semantics/train/2013_05_28_drive_0009_sync/static/0000008953_0000009208.ply\n",
      "/kaggle/input/kitti360-3d-semantics/data_3d_semantics/train/2013_05_28_drive_0009_sync/static/0000000002_0000000292.ply\n",
      "/kaggle/input/kitti360-3d-semantics/data_3d_semantics/train/2013_05_28_drive_0009_sync/static/0000002342_0000002630.ply\n",
      "/kaggle/input/kitti360-3d-semantics/data_3d_semantics/train/2013_05_28_drive_0009_sync/static/0000010703_0000011118.ply\n",
      "/kaggle/input/kitti360-3d-semantics/data_3d_semantics/train/2013_05_28_drive_0009_sync/static/0000001951_0000002126.ply\n",
      "/kaggle/input/kitti360-3d-semantics/data_3d_semantics/train/2013_05_28_drive_0009_sync/static/0000007264_0000007537.ply\n",
      "/kaggle/input/kitti360-3d-semantics/data_3d_semantics/train/2013_05_28_drive_0009_sync/static/0000012683_0000012899.ply\n",
      "/kaggle/input/kitti360-3d-semantics/data_3d_semantics/train/2013_05_28_drive_0009_sync/static/0000005719_0000005993.ply\n",
      "/kaggle/input/kitti360-3d-semantics/data_3d_semantics/train/2013_05_28_drive_0009_sync/static/0000000778_0000001026.ply\n",
      "\u001b[1;33m[Open3D WARNING] Read PLY failed: number of vertex <= 0.\u001b[0;m\n",
      "Пропуск пустого: static=/kaggle/input/kitti360-3d-semantics/data_3d_semantics/train/2013_05_28_drive_0009_sync/static/0000000778_0000001026.ply, dynamic=/kaggle/input/kitti360-3d-semantics/data_3d_semantics/train/2013_05_28_drive_0009_sync/dynamic/0000000778_0000001026.ply\n",
      "/kaggle/input/kitti360-3d-semantics/data_3d_semantics/train/2013_05_28_drive_0009_sync/static/0000009727_0000010097.ply\n",
      "/kaggle/input/kitti360-3d-semantics/data_3d_semantics/train/2013_05_28_drive_0009_sync/static/0000002615_0000002835.ply\n",
      "/kaggle/input/kitti360-3d-semantics/data_3d_semantics/train/2013_05_28_drive_0009_sync/static/0000008391_0000008694.ply\n",
      "/kaggle/input/kitti360-3d-semantics/data_3d_semantics/train/2013_05_28_drive_0009_sync/static/0000007038_0000007278.ply\n",
      "/kaggle/input/kitti360-3d-semantics/data_3d_semantics/train/2013_05_28_drive_0009_sync/static/0000010086_0000010717.ply\n",
      "/kaggle/input/kitti360-3d-semantics/data_3d_semantics/train/2013_05_28_drive_0009_sync/static/0000006272_0000006526.ply\n",
      "/kaggle/input/kitti360-3d-semantics/data_3d_semantics/train/2013_05_28_drive_0009_sync/static/0000003441_0000003725.ply\n",
      "/kaggle/input/kitti360-3d-semantics/data_3d_semantics/train/2013_05_28_drive_0009_sync/static/0000009195_0000009502.ply\n",
      "/kaggle/input/kitti360-3d-semantics/data_3d_semantics/train/2013_05_28_drive_0009_sync/static/0000013701_0000013838.ply\n",
      "/kaggle/input/kitti360-3d-semantics/data_3d_semantics/train/2013_05_28_drive_0009_sync/static/0000006515_0000006753.ply\n",
      "\u001b[1;33m[Open3D WARNING] Read PLY failed: number of vertex <= 0.\u001b[0;m\n",
      "Пропуск пустого: static=/kaggle/input/kitti360-3d-semantics/data_3d_semantics/train/2013_05_28_drive_0009_sync/static/0000006515_0000006753.ply, dynamic=/kaggle/input/kitti360-3d-semantics/data_3d_semantics/train/2013_05_28_drive_0009_sync/dynamic/0000006515_0000006753.ply\n",
      "/kaggle/input/kitti360-3d-semantics/data_3d_semantics/train/2013_05_28_drive_0009_sync/static/0000008681_0000008963.ply\n",
      "/kaggle/input/kitti360-3d-semantics/data_3d_semantics/train/2013_05_28_drive_0009_sync/static/0000007524_0000007859.ply\n",
      "/kaggle/input/kitti360-3d-semantics/data_3d_semantics/train/2013_05_28_drive_0009_sync/static/0000013575_0000013709.ply\n",
      "/kaggle/input/kitti360-3d-semantics/data_3d_semantics/train/2013_05_28_drive_0009_sync/static/0000005422_0000005732.ply\n",
      "/kaggle/input/kitti360-3d-semantics/data_3d_semantics/train/2013_05_28_drive_0009_sync/static/0000007838_0000008107.ply\n",
      "/kaggle/input/kitti360-3d-semantics/data_3d_semantics/train/2013_05_28_drive_0009_sync/static/0000011630_0000011912.ply\n",
      "/kaggle/input/kitti360-3d-semantics/data_3d_semantics/train/2013_05_28_drive_0009_sync/static/0000005156_0000005440.ply\n",
      "\u001b[1;33m[Open3D WARNING] Read PLY failed: number of vertex <= 0.\u001b[0;m\n",
      "Пропуск пустого: static=/kaggle/input/kitti360-3d-semantics/data_3d_semantics/train/2013_05_28_drive_0009_sync/static/0000005156_0000005440.ply, dynamic=/kaggle/input/kitti360-3d-semantics/data_3d_semantics/train/2013_05_28_drive_0009_sync/dynamic/0000005156_0000005440.ply\n",
      "/kaggle/input/kitti360-3d-semantics/data_3d_semantics/train/2013_05_28_drive_0009_sync/static/0000012167_0000012410.ply\n",
      "/kaggle/input/kitti360-3d-semantics/data_3d_semantics/train/2013_05_28_drive_0009_sync/static/0000004246_0000004489.ply\n",
      "/kaggle/input/kitti360-3d-semantics/data_3d_semantics/train/2013_05_28_drive_0009_sync/static/0000001005_0000001244.ply\n",
      "\u001b[1;33m[Open3D WARNING] Read PLY failed: number of vertex <= 0.\u001b[0;m\n",
      "Пропуск пустого: static=/kaggle/input/kitti360-3d-semantics/data_3d_semantics/train/2013_05_28_drive_0009_sync/static/0000001005_0000001244.ply, dynamic=/kaggle/input/kitti360-3d-semantics/data_3d_semantics/train/2013_05_28_drive_0009_sync/dynamic/0000001005_0000001244.ply\n",
      "/kaggle/input/kitti360-3d-semantics/data_3d_semantics/train/2013_05_28_drive_0009_sync/static/0000001534_0000001694.ply\n",
      "/kaggle/input/kitti360-3d-semantics/data_3d_semantics/train/2013_05_28_drive_0009_sync/static/0000005976_0000006285.ply\n",
      "/kaggle/input/kitti360-3d-semantics/data_3d_semantics/train/2013_05_28_drive_0009_sync/static/0000011896_0000012181.ply\n",
      "/kaggle/input/kitti360-3d-semantics/data_3d_semantics/train/2013_05_28_drive_0009_sync/static/0000012876_0000013148.ply\n",
      "\u001b[1;33m[Open3D WARNING] Read PLY failed: number of vertex <= 0.\u001b[0;m\n",
      "Пропуск пустого: static=/kaggle/input/kitti360-3d-semantics/data_3d_semantics/train/2013_05_28_drive_0009_sync/static/0000012876_0000013148.ply, dynamic=/kaggle/input/kitti360-3d-semantics/data_3d_semantics/train/2013_05_28_drive_0009_sync/dynamic/0000012876_0000013148.ply\n",
      "/kaggle/input/kitti360-3d-semantics/data_3d_semantics/train/2013_05_28_drive_0009_sync/static/0000000451_0000000633.ply\n",
      "\u001b[1;33m[Open3D WARNING] Read PLY failed: number of vertex <= 0.\u001b[0;m\n",
      "Пропуск пустого: static=/kaggle/input/kitti360-3d-semantics/data_3d_semantics/train/2013_05_28_drive_0009_sync/static/0000000451_0000000633.ply, dynamic=/kaggle/input/kitti360-3d-semantics/data_3d_semantics/train/2013_05_28_drive_0009_sync/dynamic/0000000451_0000000633.ply\n",
      "/kaggle/input/kitti360-3d-semantics/data_3d_semantics/train/2013_05_28_drive_0009_sync/static/0000001686_0000001961.ply\n",
      "/kaggle/input/kitti360-3d-semantics/data_3d_semantics/train/2013_05_28_drive_0009_sync/static/0000003712_0000003987.ply\n",
      "\u001b[1;33m[Open3D WARNING] Read PLY failed: number of vertex <= 0.\u001b[0;m\n",
      "Пропуск пустого: static=/kaggle/input/kitti360-3d-semantics/data_3d_semantics/train/2013_05_28_drive_0009_sync/static/0000003712_0000003987.ply, dynamic=/kaggle/input/kitti360-3d-semantics/data_3d_semantics/train/2013_05_28_drive_0009_sync/dynamic/0000003712_0000003987.ply\n",
      "/kaggle/input/kitti360-3d-semantics/data_3d_semantics/train/2013_05_28_drive_0009_sync/static/0000003026_0000003200.ply\n",
      "/kaggle/input/kitti360-3d-semantics/data_3d_semantics/train/2013_05_28_drive_0009_sync/static/0000000623_0000000787.ply\n",
      "\u001b[1;33m[Open3D WARNING] Read PLY failed: number of vertex <= 0.\u001b[0;m\n",
      "Пропуск пустого: static=/kaggle/input/kitti360-3d-semantics/data_3d_semantics/train/2013_05_28_drive_0009_sync/static/0000000623_0000000787.ply, dynamic=/kaggle/input/kitti360-3d-semantics/data_3d_semantics/train/2013_05_28_drive_0009_sync/dynamic/0000000623_0000000787.ply\n",
      "/kaggle/input/kitti360-3d-semantics/data_3d_semantics/train/2013_05_28_drive_0009_sync/static/0000004905_0000005179.ply\n",
      "/kaggle/input/kitti360-3d-semantics/data_3d_semantics/train/2013_05_28_drive_0010_sync/static/0000000984_0000001116.ply\n",
      "/kaggle/input/kitti360-3d-semantics/data_3d_semantics/train/2013_05_28_drive_0010_sync/static/0000002024_0000002177.ply\n",
      "/kaggle/input/kitti360-3d-semantics/data_3d_semantics/train/2013_05_28_drive_0010_sync/static/0000000002_0000000208.ply\n",
      "/kaggle/input/kitti360-3d-semantics/data_3d_semantics/train/2013_05_28_drive_0010_sync/static/0000001872_0000002033.ply\n",
      "/kaggle/input/kitti360-3d-semantics/data_3d_semantics/train/2013_05_28_drive_0010_sync/static/0000001245_0000001578.ply\n",
      "/kaggle/input/kitti360-3d-semantics/data_3d_semantics/train/2013_05_28_drive_0010_sync/static/0000001724_0000001879.ply\n",
      "/kaggle/input/kitti360-3d-semantics/data_3d_semantics/train/2013_05_28_drive_0010_sync/static/0000000718_0000000881.ply\n",
      "/kaggle/input/kitti360-3d-semantics/data_3d_semantics/train/2013_05_28_drive_0010_sync/static/0000000353_0000000557.ply\n",
      "/kaggle/input/kitti360-3d-semantics/data_3d_semantics/train/2013_05_28_drive_0010_sync/static/0000000549_0000000726.ply\n",
      "/kaggle/input/kitti360-3d-semantics/data_3d_semantics/train/2013_05_28_drive_0010_sync/static/0000001563_0000001733.ply\n",
      "/kaggle/input/kitti360-3d-semantics/data_3d_semantics/train/2013_05_28_drive_0010_sync/static/0000003106_0000003313.ply\n",
      "/kaggle/input/kitti360-3d-semantics/data_3d_semantics/train/2013_05_28_drive_0010_sync/static/0000001109_0000001252.ply\n",
      "/kaggle/input/kitti360-3d-semantics/data_3d_semantics/train/2013_05_28_drive_0010_sync/static/0000002168_0000002765.ply\n",
      "/kaggle/input/kitti360-3d-semantics/data_3d_semantics/train/2013_05_28_drive_0010_sync/static/0000000199_0000000361.ply\n",
      "/kaggle/input/kitti360-3d-semantics/data_3d_semantics/train/2013_05_28_drive_0010_sync/static/0000002911_0000003114.ply\n",
      "/kaggle/input/kitti360-3d-semantics/data_3d_semantics/train/2013_05_28_drive_0010_sync/static/0000000854_0000000991.ply\n",
      "/kaggle/input/kitti360-3d-semantics/data_3d_semantics/train/2013_05_28_drive_0010_sync/static/0000002756_0000002920.ply\n",
      "Сохранено 205 файлов в /kaggle/working/preprocessed_pairs, пропущенно: 95\n"
     ]
    }
   ],
   "source": [
    "def collect_data(data_path, voxel_size=0.1):\n",
    "    \"\"\"\n",
    "    data_path = '/kaggle/input/kitti360-3d-semantics/data_3d_semantics/train'\n",
    "    \"\"\"\n",
    "    all_files = 0\n",
    "    skipped_files = 0\n",
    "    pairs = []\n",
    "    source_dirs = sorted(os.listdir(data_path))#[:1]\n",
    "    for dir in source_dirs:#[:1]\n",
    "        source_path = os.path.join(data_path, dir)\n",
    "        static_path = os.path.join(source_path, \"static\")\n",
    "        dynamic_path = os.path.join(source_path, \"dynamic\")\n",
    "\n",
    "        static_files = glob.glob(os.path.join(static_path, \"*.ply\"))\n",
    "        for static in static_files:#[:10]:#[:1]\n",
    "            name = os.path.basename(static)\n",
    "            dynamic = os.path.join(dynamic_path, name)\n",
    "            if (os.path.exists(dynamic)):\n",
    "                print(static)\n",
    "                all_files+=1\n",
    "                # pairs.append((static, dynamic))\n",
    "                static_pcd = o3d.io.read_point_cloud(static)\n",
    "                dynamic_pcd = o3d.io.read_point_cloud(dynamic)\n",
    "                if static_pcd.has_points() and dynamic_pcd.has_points():\n",
    "                    # pairs.append((static, dynamic))\n",
    "                    static_pcd = static_pcd.voxel_down_sample(voxel_size)\n",
    "                    dynamic_pcd = dynamic_pcd.voxel_down_sample(voxel_size)\n",
    "\n",
    "                    static_pcd.estimate_normals(search_param=o3d.geometry.KDTreeSearchParamHybrid(radius=0.2, max_nn=30))\n",
    "                    dynamic_pcd.estimate_normals(search_param=o3d.geometry.KDTreeSearchParamHybrid(radius=0.2, max_nn=30))\n",
    "\n",
    "                    static_normals = np.array(static_pcd.normals)\n",
    "                    dynamic_normals = np.array(dynamic_pcd.normals)                    \n",
    "\n",
    "                    static = np.array(static_pcd.points)\n",
    "                    dynamic = np.array(dynamic_pcd.points)\n",
    "\n",
    "                    if len(static) == 0 and len(dynamic) < 1:\n",
    "                        return None\n",
    "\n",
    "                    static_colors = np.asarray(static_pcd.colors) \n",
    "                    dynamic_colors = np.asarray(dynamic_pcd.colors)\n",
    "                    # print(static_colors, dynamic_colors)\n",
    "\n",
    "                    static = np.hstack([static, static_colors, static_normals])\n",
    "                    dynamic = np.hstack([dynamic, dynamic_colors, dynamic_normals])\n",
    "                    pairs.append((static, dynamic))\n",
    "                else:\n",
    "                    skipped_files+=1\n",
    "                    print(f\"Пропуск пустого: static={static}, dynamic={dynamic}\")\n",
    "    return pairs, all_files, skipped_files\n",
    "\n",
    "pairs, all_files, skipped_files = collect_data('/kaggle/input/kitti360-3d-semantics/data_3d_semantics/train')\n",
    "output_dir = '/kaggle/working/preprocessed_pairs'\n",
    "os.makedirs(output_dir, exist_ok=True)\n",
    "\n",
    "for i, (static, dynamic) in enumerate(pairs):\n",
    "    np.savez(os.path.join(output_dir, f'pair_{i}.npz'), static=static, dynamic=dynamic)\n",
    "\n",
    "print(f\"Сохранено {len(pairs)} файлов в {output_dir}, пропущенно: {skipped_files}\")"
   ]
  },
  {
   "cell_type": "code",
   "execution_count": 10,
   "id": "09b96a9d",
   "metadata": {},
   "outputs": [],
   "source": [
    "import json\n",
    "import subprocess\n",
    "\n",
    "KAGGLE_JSON_PATH = '/kaggle/input/kaggle/kaggle.json'  \n",
    "!mkdir -p /root/.kaggle\n",
    "!cp {KAGGLE_JSON_PATH} /root/.kaggle/\n",
    "!chmod 600 /root/.kaggle/kaggle.json"
   ]
  },
  {
   "cell_type": "code",
   "execution_count": 11,
   "id": "a81bbf4c",
   "metadata": {},
   "outputs": [],
   "source": [
    "dataset_metadata = {\n",
    "    \"title\": \"Preprocessed-KITTI360-Pairs\",\n",
    "    \"id\": \"cvbnqq/kitti360-preprocessed-pairs\",  \n",
    "    \"licenses\": [{\"name\": \"CC0-1.0\"}],\n",
    "    \"description\": \"Preprocessed pairs (static and dynamic point clouds) from KITTI-360 semantics dataset\"\n",
    "}\n",
    "\n",
    "metadata_path = os.path.join(output_dir, 'dataset-metadata.json')\n",
    "with open(metadata_path, 'w') as f:\n",
    "    json.dump(dataset_metadata, f)"
   ]
  },
  {
   "cell_type": "code",
   "execution_count": null,
   "id": "bb6942ea",
   "metadata": {},
   "outputs": [
    {
     "name": "stdout",
     "output_type": "stream",
     "text": [
      "Starting upload for file pair_203.npz\n",
      "Error while trying to load upload info: ApiStartBlobUploadRequest.__init__() got an unexpected keyword argument 'type'\n"
     ]
    },
    {
     "name": "stderr",
     "output_type": "stream",
     "text": [
      "100%|██████████| 52.0M/52.0M [00:02<00:00, 22.9MB/s]\n",
      "  0%|          | 0.00/65.9M [00:00<?, ?B/s]"
     ]
    },
    {
     "name": "stdout",
     "output_type": "stream",
     "text": [
      "Upload successful: pair_203.npz (52MB)\n",
      "Starting upload for file pair_140.npz\n",
      "Error while trying to load upload info: ApiStartBlobUploadRequest.__init__() got an unexpected keyword argument 'type'\n"
     ]
    },
    {
     "name": "stderr",
     "output_type": "stream",
     "text": [
      "100%|██████████| 65.9M/65.9M [00:02<00:00, 24.6MB/s]\n",
      "  0%|          | 0.00/80.7M [00:00<?, ?B/s]"
     ]
    },
    {
     "name": "stdout",
     "output_type": "stream",
     "text": [
      "Upload successful: pair_140.npz (66MB)\n",
      "Starting upload for file pair_204.npz\n",
      "Error while trying to load upload info: ApiStartBlobUploadRequest.__init__() got an unexpected keyword argument 'type'\n"
     ]
    },
    {
     "name": "stderr",
     "output_type": "stream",
     "text": [
      "100%|██████████| 80.7M/80.7M [00:03<00:00, 28.0MB/s]\n",
      "  0%|          | 0.00/94.7M [00:00<?, ?B/s]"
     ]
    },
    {
     "name": "stdout",
     "output_type": "stream",
     "text": [
      "Upload successful: pair_204.npz (81MB)\n",
      "Starting upload for file pair_45.npz\n",
      "Error while trying to load upload info: ApiStartBlobUploadRequest.__init__() got an unexpected keyword argument 'type'\n"
     ]
    },
    {
     "name": "stderr",
     "output_type": "stream",
     "text": [
      "100%|██████████| 94.7M/94.7M [00:03<00:00, 29.4MB/s]\n",
      "  0%|          | 0.00/77.3M [00:00<?, ?B/s]"
     ]
    },
    {
     "name": "stdout",
     "output_type": "stream",
     "text": [
      "Upload successful: pair_45.npz (95MB)\n",
      "Starting upload for file pair_39.npz\n",
      "Error while trying to load upload info: ApiStartBlobUploadRequest.__init__() got an unexpected keyword argument 'type'\n"
     ]
    },
    {
     "name": "stderr",
     "output_type": "stream",
     "text": [
      "100%|██████████| 77.3M/77.3M [00:03<00:00, 26.9MB/s]\n",
      "  0%|          | 0.00/73.8M [00:00<?, ?B/s]"
     ]
    },
    {
     "name": "stdout",
     "output_type": "stream",
     "text": [
      "Upload successful: pair_39.npz (77MB)\n",
      "Starting upload for file pair_128.npz\n",
      "Error while trying to load upload info: ApiStartBlobUploadRequest.__init__() got an unexpected keyword argument 'type'\n"
     ]
    },
    {
     "name": "stderr",
     "output_type": "stream",
     "text": [
      "100%|██████████| 73.8M/73.8M [00:02<00:00, 27.2MB/s]\n",
      "  0%|          | 0.00/81.7M [00:00<?, ?B/s]"
     ]
    },
    {
     "name": "stdout",
     "output_type": "stream",
     "text": [
      "Upload successful: pair_128.npz (74MB)\n",
      "Starting upload for file pair_35.npz\n",
      "Error while trying to load upload info: ApiStartBlobUploadRequest.__init__() got an unexpected keyword argument 'type'\n"
     ]
    },
    {
     "name": "stderr",
     "output_type": "stream",
     "text": [
      "100%|██████████| 81.7M/81.7M [00:03<00:00, 24.7MB/s]\n",
      "  0%|          | 0.00/95.8M [00:00<?, ?B/s]"
     ]
    },
    {
     "name": "stdout",
     "output_type": "stream",
     "text": [
      "Upload successful: pair_35.npz (82MB)\n",
      "Starting upload for file pair_78.npz\n",
      "Error while trying to load upload info: ApiStartBlobUploadRequest.__init__() got an unexpected keyword argument 'type'\n"
     ]
    },
    {
     "name": "stderr",
     "output_type": "stream",
     "text": [
      "100%|██████████| 95.8M/95.8M [00:03<00:00, 29.7MB/s]\n",
      "  0%|          | 0.00/99.1M [00:00<?, ?B/s]"
     ]
    },
    {
     "name": "stdout",
     "output_type": "stream",
     "text": [
      "Upload successful: pair_78.npz (96MB)\n",
      "Starting upload for file pair_185.npz\n",
      "Error while trying to load upload info: ApiStartBlobUploadRequest.__init__() got an unexpected keyword argument 'type'\n"
     ]
    },
    {
     "name": "stderr",
     "output_type": "stream",
     "text": [
      "100%|██████████| 99.1M/99.1M [00:03<00:00, 30.2MB/s]\n",
      "  0%|          | 0.00/100M [00:00<?, ?B/s]"
     ]
    },
    {
     "name": "stdout",
     "output_type": "stream",
     "text": [
      "Upload successful: pair_185.npz (99MB)\n",
      "Starting upload for file pair_158.npz\n",
      "Error while trying to load upload info: ApiStartBlobUploadRequest.__init__() got an unexpected keyword argument 'type'\n"
     ]
    },
    {
     "name": "stderr",
     "output_type": "stream",
     "text": [
      "100%|██████████| 100M/100M [00:03<00:00, 30.0MB/s] \n",
      "  0%|          | 0.00/72.3M [00:00<?, ?B/s]"
     ]
    },
    {
     "name": "stdout",
     "output_type": "stream",
     "text": [
      "Upload successful: pair_158.npz (100MB)\n",
      "Starting upload for file pair_0.npz\n",
      "Error while trying to load upload info: ApiStartBlobUploadRequest.__init__() got an unexpected keyword argument 'type'\n"
     ]
    },
    {
     "name": "stderr",
     "output_type": "stream",
     "text": [
      "100%|██████████| 72.3M/72.3M [00:02<00:00, 26.4MB/s]\n",
      "  0%|          | 0.00/80.3M [00:00<?, ?B/s]"
     ]
    },
    {
     "name": "stdout",
     "output_type": "stream",
     "text": [
      "Upload successful: pair_0.npz (72MB)\n",
      "Starting upload for file pair_66.npz\n",
      "Error while trying to load upload info: ApiStartBlobUploadRequest.__init__() got an unexpected keyword argument 'type'\n"
     ]
    },
    {
     "name": "stderr",
     "output_type": "stream",
     "text": [
      "100%|██████████| 80.3M/80.3M [00:03<00:00, 24.2MB/s]\n",
      "  0%|          | 0.00/109M [00:00<?, ?B/s]"
     ]
    },
    {
     "name": "stdout",
     "output_type": "stream",
     "text": [
      "Upload successful: pair_66.npz (80MB)\n",
      "Starting upload for file pair_2.npz\n",
      "Error while trying to load upload info: ApiStartBlobUploadRequest.__init__() got an unexpected keyword argument 'type'\n"
     ]
    },
    {
     "name": "stderr",
     "output_type": "stream",
     "text": [
      "100%|██████████| 109M/109M [00:04<00:00, 27.2MB/s] \n",
      "  0%|          | 0.00/90.1M [00:00<?, ?B/s]"
     ]
    },
    {
     "name": "stdout",
     "output_type": "stream",
     "text": [
      "Upload successful: pair_2.npz (109MB)\n",
      "Starting upload for file pair_127.npz\n",
      "Error while trying to load upload info: ApiStartBlobUploadRequest.__init__() got an unexpected keyword argument 'type'\n"
     ]
    },
    {
     "name": "stderr",
     "output_type": "stream",
     "text": [
      "100%|██████████| 90.1M/90.1M [00:03<00:00, 28.9MB/s]\n",
      "  0%|          | 0.00/103M [00:00<?, ?B/s]"
     ]
    },
    {
     "name": "stdout",
     "output_type": "stream",
     "text": [
      "Upload successful: pair_127.npz (90MB)\n",
      "Starting upload for file pair_60.npz\n",
      "Error while trying to load upload info: ApiStartBlobUploadRequest.__init__() got an unexpected keyword argument 'type'\n"
     ]
    },
    {
     "name": "stderr",
     "output_type": "stream",
     "text": [
      "100%|██████████| 103M/103M [00:03<00:00, 27.5MB/s] \n",
      "  0%|          | 0.00/114M [00:00<?, ?B/s]"
     ]
    },
    {
     "name": "stdout",
     "output_type": "stream",
     "text": [
      "Upload successful: pair_60.npz (103MB)\n",
      "Starting upload for file pair_31.npz\n",
      "Error while trying to load upload info: ApiStartBlobUploadRequest.__init__() got an unexpected keyword argument 'type'\n"
     ]
    },
    {
     "name": "stderr",
     "output_type": "stream",
     "text": [
      "100%|██████████| 114M/114M [00:03<00:00, 31.5MB/s] \n",
      "  0%|          | 0.00/78.3M [00:00<?, ?B/s]"
     ]
    },
    {
     "name": "stdout",
     "output_type": "stream",
     "text": [
      "Upload successful: pair_31.npz (114MB)\n",
      "Starting upload for file pair_8.npz\n",
      "Error while trying to load upload info: ApiStartBlobUploadRequest.__init__() got an unexpected keyword argument 'type'\n"
     ]
    },
    {
     "name": "stderr",
     "output_type": "stream",
     "text": [
      "100%|██████████| 78.3M/78.3M [00:02<00:00, 27.6MB/s]\n",
      "  0%|          | 0.00/106M [00:00<?, ?B/s]"
     ]
    },
    {
     "name": "stdout",
     "output_type": "stream",
     "text": [
      "Upload successful: pair_8.npz (78MB)\n",
      "Starting upload for file pair_3.npz\n",
      "Error while trying to load upload info: ApiStartBlobUploadRequest.__init__() got an unexpected keyword argument 'type'\n"
     ]
    },
    {
     "name": "stderr",
     "output_type": "stream",
     "text": [
      "100%|██████████| 106M/106M [00:03<00:00, 30.9MB/s] \n",
      "  0%|          | 0.00/99.4M [00:00<?, ?B/s]"
     ]
    },
    {
     "name": "stdout",
     "output_type": "stream",
     "text": [
      "Upload successful: pair_3.npz (106MB)\n",
      "Starting upload for file pair_24.npz\n",
      "Error while trying to load upload info: ApiStartBlobUploadRequest.__init__() got an unexpected keyword argument 'type'\n"
     ]
    },
    {
     "name": "stderr",
     "output_type": "stream",
     "text": [
      "100%|██████████| 99.4M/99.4M [00:03<00:00, 30.1MB/s]\n",
      "  0%|          | 0.00/83.7M [00:00<?, ?B/s]"
     ]
    },
    {
     "name": "stdout",
     "output_type": "stream",
     "text": [
      "Upload successful: pair_24.npz (99MB)\n",
      "Starting upload for file pair_163.npz\n",
      "Error while trying to load upload info: ApiStartBlobUploadRequest.__init__() got an unexpected keyword argument 'type'\n"
     ]
    },
    {
     "name": "stderr",
     "output_type": "stream",
     "text": [
      "100%|██████████| 83.7M/83.7M [00:03<00:00, 24.4MB/s]\n",
      "  0%|          | 0.00/99.0M [00:00<?, ?B/s]"
     ]
    },
    {
     "name": "stdout",
     "output_type": "stream",
     "text": [
      "Upload successful: pair_163.npz (84MB)\n",
      "Starting upload for file pair_44.npz\n",
      "Error while trying to load upload info: ApiStartBlobUploadRequest.__init__() got an unexpected keyword argument 'type'\n"
     ]
    },
    {
     "name": "stderr",
     "output_type": "stream",
     "text": [
      "100%|██████████| 99.0M/99.0M [00:03<00:00, 29.1MB/s]\n",
      "  0%|          | 0.00/99.7M [00:00<?, ?B/s]"
     ]
    },
    {
     "name": "stdout",
     "output_type": "stream",
     "text": [
      "Upload successful: pair_44.npz (99MB)\n",
      "Starting upload for file pair_159.npz\n",
      "Error while trying to load upload info: ApiStartBlobUploadRequest.__init__() got an unexpected keyword argument 'type'\n"
     ]
    },
    {
     "name": "stderr",
     "output_type": "stream",
     "text": [
      "100%|██████████| 99.7M/99.7M [00:03<00:00, 30.2MB/s]\n",
      "  0%|          | 0.00/67.2M [00:00<?, ?B/s]"
     ]
    },
    {
     "name": "stdout",
     "output_type": "stream",
     "text": [
      "Upload successful: pair_159.npz (100MB)\n",
      "Starting upload for file pair_126.npz\n",
      "Error while trying to load upload info: ApiStartBlobUploadRequest.__init__() got an unexpected keyword argument 'type'\n"
     ]
    },
    {
     "name": "stderr",
     "output_type": "stream",
     "text": [
      "100%|██████████| 67.2M/67.2M [00:02<00:00, 26.2MB/s]\n",
      "  0%|          | 0.00/104M [00:00<?, ?B/s]"
     ]
    },
    {
     "name": "stdout",
     "output_type": "stream",
     "text": [
      "Upload successful: pair_126.npz (67MB)\n",
      "Starting upload for file pair_102.npz\n",
      "Error while trying to load upload info: ApiStartBlobUploadRequest.__init__() got an unexpected keyword argument 'type'\n"
     ]
    },
    {
     "name": "stderr",
     "output_type": "stream",
     "text": [
      "100%|██████████| 104M/104M [00:05<00:00, 21.6MB/s] \n",
      "  0%|          | 0.00/78.8M [00:00<?, ?B/s]"
     ]
    },
    {
     "name": "stdout",
     "output_type": "stream",
     "text": [
      "Upload successful: pair_102.npz (104MB)\n",
      "Starting upload for file pair_107.npz\n",
      "Error while trying to load upload info: ApiStartBlobUploadRequest.__init__() got an unexpected keyword argument 'type'\n"
     ]
    },
    {
     "name": "stderr",
     "output_type": "stream",
     "text": [
      "100%|██████████| 78.8M/78.8M [00:03<00:00, 26.7MB/s]\n",
      "  0%|          | 0.00/95.1M [00:00<?, ?B/s]"
     ]
    },
    {
     "name": "stdout",
     "output_type": "stream",
     "text": [
      "Upload successful: pair_107.npz (79MB)\n",
      "Starting upload for file pair_146.npz\n",
      "Error while trying to load upload info: ApiStartBlobUploadRequest.__init__() got an unexpected keyword argument 'type'\n"
     ]
    },
    {
     "name": "stderr",
     "output_type": "stream",
     "text": [
      "100%|██████████| 95.1M/95.1M [00:03<00:00, 29.2MB/s]\n",
      "  0%|          | 0.00/81.0M [00:00<?, ?B/s]"
     ]
    },
    {
     "name": "stdout",
     "output_type": "stream",
     "text": [
      "Upload successful: pair_146.npz (95MB)\n",
      "Starting upload for file pair_15.npz\n",
      "Error while trying to load upload info: ApiStartBlobUploadRequest.__init__() got an unexpected keyword argument 'type'\n"
     ]
    },
    {
     "name": "stderr",
     "output_type": "stream",
     "text": [
      "100%|██████████| 81.0M/81.0M [00:03<00:00, 27.9MB/s]\n",
      "  0%|          | 0.00/90.0M [00:00<?, ?B/s]"
     ]
    },
    {
     "name": "stdout",
     "output_type": "stream",
     "text": [
      "Upload successful: pair_15.npz (81MB)\n",
      "Starting upload for file pair_161.npz\n",
      "Error while trying to load upload info: ApiStartBlobUploadRequest.__init__() got an unexpected keyword argument 'type'\n"
     ]
    },
    {
     "name": "stderr",
     "output_type": "stream",
     "text": [
      "100%|██████████| 90.0M/90.0M [00:03<00:00, 29.3MB/s]\n",
      "  0%|          | 0.00/99.1M [00:00<?, ?B/s]"
     ]
    },
    {
     "name": "stdout",
     "output_type": "stream",
     "text": [
      "Upload successful: pair_161.npz (90MB)\n",
      "Starting upload for file pair_95.npz\n",
      "Error while trying to load upload info: ApiStartBlobUploadRequest.__init__() got an unexpected keyword argument 'type'\n"
     ]
    },
    {
     "name": "stderr",
     "output_type": "stream",
     "text": [
      "100%|██████████| 99.1M/99.1M [00:03<00:00, 26.5MB/s]\n",
      "  0%|          | 0.00/74.8M [00:00<?, ?B/s]"
     ]
    },
    {
     "name": "stdout",
     "output_type": "stream",
     "text": [
      "Upload successful: pair_95.npz (99MB)\n",
      "Starting upload for file pair_74.npz\n",
      "Error while trying to load upload info: ApiStartBlobUploadRequest.__init__() got an unexpected keyword argument 'type'\n"
     ]
    },
    {
     "name": "stderr",
     "output_type": "stream",
     "text": [
      "100%|██████████| 74.8M/74.8M [00:02<00:00, 26.3MB/s]\n",
      "  0%|          | 0.00/106M [00:00<?, ?B/s]"
     ]
    },
    {
     "name": "stdout",
     "output_type": "stream",
     "text": [
      "Upload successful: pair_74.npz (75MB)\n",
      "Starting upload for file pair_14.npz\n",
      "Error while trying to load upload info: ApiStartBlobUploadRequest.__init__() got an unexpected keyword argument 'type'\n"
     ]
    },
    {
     "name": "stderr",
     "output_type": "stream",
     "text": [
      "100%|██████████| 106M/106M [00:03<00:00, 30.4MB/s] \n",
      "  0%|          | 0.00/71.8M [00:00<?, ?B/s]"
     ]
    },
    {
     "name": "stdout",
     "output_type": "stream",
     "text": [
      "Upload successful: pair_14.npz (106MB)\n",
      "Starting upload for file pair_76.npz\n",
      "Error while trying to load upload info: ApiStartBlobUploadRequest.__init__() got an unexpected keyword argument 'type'\n"
     ]
    },
    {
     "name": "stderr",
     "output_type": "stream",
     "text": [
      "100%|██████████| 71.8M/71.8M [00:03<00:00, 23.2MB/s]\n",
      "  0%|          | 0.00/72.9M [00:00<?, ?B/s]"
     ]
    },
    {
     "name": "stdout",
     "output_type": "stream",
     "text": [
      "Upload successful: pair_76.npz (72MB)\n",
      "Starting upload for file pair_129.npz\n",
      "Error while trying to load upload info: ApiStartBlobUploadRequest.__init__() got an unexpected keyword argument 'type'\n"
     ]
    },
    {
     "name": "stderr",
     "output_type": "stream",
     "text": [
      "100%|██████████| 72.9M/72.9M [00:02<00:00, 26.9MB/s]\n",
      "  0%|          | 0.00/79.8M [00:00<?, ?B/s]"
     ]
    },
    {
     "name": "stdout",
     "output_type": "stream",
     "text": [
      "Upload successful: pair_129.npz (73MB)\n",
      "Starting upload for file pair_23.npz\n",
      "Error while trying to load upload info: ApiStartBlobUploadRequest.__init__() got an unexpected keyword argument 'type'\n"
     ]
    },
    {
     "name": "stderr",
     "output_type": "stream",
     "text": [
      "100%|██████████| 79.8M/79.8M [00:03<00:00, 27.8MB/s]\n",
      "  0%|          | 0.00/102M [00:00<?, ?B/s]"
     ]
    },
    {
     "name": "stdout",
     "output_type": "stream",
     "text": [
      "Upload successful: pair_23.npz (80MB)\n",
      "Starting upload for file pair_113.npz\n",
      "Error while trying to load upload info: ApiStartBlobUploadRequest.__init__() got an unexpected keyword argument 'type'\n"
     ]
    },
    {
     "name": "stderr",
     "output_type": "stream",
     "text": [
      "100%|██████████| 102M/102M [00:03<00:00, 30.5MB/s] \n",
      "  0%|          | 0.00/78.1M [00:00<?, ?B/s]"
     ]
    },
    {
     "name": "stdout",
     "output_type": "stream",
     "text": [
      "Upload successful: pair_113.npz (102MB)\n",
      "Starting upload for file pair_125.npz\n",
      "Error while trying to load upload info: ApiStartBlobUploadRequest.__init__() got an unexpected keyword argument 'type'\n"
     ]
    },
    {
     "name": "stderr",
     "output_type": "stream",
     "text": [
      "100%|██████████| 78.1M/78.1M [00:02<00:00, 27.7MB/s]\n",
      "  0%|          | 0.00/57.4M [00:00<?, ?B/s]"
     ]
    },
    {
     "name": "stdout",
     "output_type": "stream",
     "text": [
      "Upload successful: pair_125.npz (78MB)\n",
      "Starting upload for file pair_133.npz\n",
      "Error while trying to load upload info: ApiStartBlobUploadRequest.__init__() got an unexpected keyword argument 'type'\n"
     ]
    },
    {
     "name": "stderr",
     "output_type": "stream",
     "text": [
      "100%|██████████| 57.4M/57.4M [00:02<00:00, 24.3MB/s]\n",
      "  0%|          | 0.00/78.5M [00:00<?, ?B/s]"
     ]
    },
    {
     "name": "stdout",
     "output_type": "stream",
     "text": [
      "Upload successful: pair_133.npz (57MB)\n",
      "Starting upload for file pair_91.npz\n",
      "Error while trying to load upload info: ApiStartBlobUploadRequest.__init__() got an unexpected keyword argument 'type'\n"
     ]
    },
    {
     "name": "stderr",
     "output_type": "stream",
     "text": [
      "100%|██████████| 78.5M/78.5M [00:03<00:00, 26.3MB/s]\n",
      "  0%|          | 0.00/90.9M [00:00<?, ?B/s]"
     ]
    },
    {
     "name": "stdout",
     "output_type": "stream",
     "text": [
      "Upload successful: pair_91.npz (79MB)\n",
      "Starting upload for file pair_51.npz\n",
      "Error while trying to load upload info: ApiStartBlobUploadRequest.__init__() got an unexpected keyword argument 'type'\n"
     ]
    },
    {
     "name": "stderr",
     "output_type": "stream",
     "text": [
      "100%|██████████| 90.9M/90.9M [00:03<00:00, 28.9MB/s]\n",
      "  0%|          | 0.00/66.4M [00:00<?, ?B/s]"
     ]
    },
    {
     "name": "stdout",
     "output_type": "stream",
     "text": [
      "Upload successful: pair_51.npz (91MB)\n",
      "Starting upload for file pair_188.npz\n",
      "Error while trying to load upload info: ApiStartBlobUploadRequest.__init__() got an unexpected keyword argument 'type'\n"
     ]
    },
    {
     "name": "stderr",
     "output_type": "stream",
     "text": [
      "100%|██████████| 66.4M/66.4M [00:02<00:00, 25.9MB/s]\n",
      "  0%|          | 0.00/115M [00:00<?, ?B/s]"
     ]
    },
    {
     "name": "stdout",
     "output_type": "stream",
     "text": [
      "Upload successful: pair_188.npz (66MB)\n",
      "Starting upload for file pair_20.npz\n",
      "Error while trying to load upload info: ApiStartBlobUploadRequest.__init__() got an unexpected keyword argument 'type'\n"
     ]
    },
    {
     "name": "stderr",
     "output_type": "stream",
     "text": [
      "100%|██████████| 115M/115M [00:03<00:00, 31.7MB/s] \n",
      "  0%|          | 0.00/77.9M [00:00<?, ?B/s]"
     ]
    },
    {
     "name": "stdout",
     "output_type": "stream",
     "text": [
      "Upload successful: pair_20.npz (115MB)\n",
      "Starting upload for file pair_138.npz\n",
      "Error while trying to load upload info: ApiStartBlobUploadRequest.__init__() got an unexpected keyword argument 'type'\n"
     ]
    },
    {
     "name": "stderr",
     "output_type": "stream",
     "text": [
      "100%|██████████| 77.9M/77.9M [00:02<00:00, 27.9MB/s]\n",
      "  0%|          | 0.00/63.4M [00:00<?, ?B/s]"
     ]
    },
    {
     "name": "stdout",
     "output_type": "stream",
     "text": [
      "Upload successful: pair_138.npz (78MB)\n",
      "Starting upload for file pair_62.npz\n",
      "Error while trying to load upload info: ApiStartBlobUploadRequest.__init__() got an unexpected keyword argument 'type'\n"
     ]
    },
    {
     "name": "stderr",
     "output_type": "stream",
     "text": [
      "100%|██████████| 63.4M/63.4M [00:02<00:00, 25.5MB/s]\n",
      "  0%|          | 0.00/115M [00:00<?, ?B/s]"
     ]
    },
    {
     "name": "stdout",
     "output_type": "stream",
     "text": [
      "Upload successful: pair_62.npz (63MB)\n",
      "Starting upload for file pair_16.npz\n",
      "Error while trying to load upload info: ApiStartBlobUploadRequest.__init__() got an unexpected keyword argument 'type'\n"
     ]
    },
    {
     "name": "stderr",
     "output_type": "stream",
     "text": [
      "100%|██████████| 115M/115M [00:04<00:00, 25.6MB/s] \n",
      "  0%|          | 0.00/93.0M [00:00<?, ?B/s]"
     ]
    },
    {
     "name": "stdout",
     "output_type": "stream",
     "text": [
      "Upload successful: pair_16.npz (115MB)\n",
      "Starting upload for file pair_157.npz\n",
      "Error while trying to load upload info: ApiStartBlobUploadRequest.__init__() got an unexpected keyword argument 'type'\n"
     ]
    },
    {
     "name": "stderr",
     "output_type": "stream",
     "text": [
      "100%|██████████| 93.0M/93.0M [00:03<00:00, 29.5MB/s]\n",
      "  0%|          | 0.00/89.4M [00:00<?, ?B/s]"
     ]
    },
    {
     "name": "stdout",
     "output_type": "stream",
     "text": [
      "Upload successful: pair_157.npz (93MB)\n",
      "Starting upload for file pair_168.npz\n",
      "Error while trying to load upload info: ApiStartBlobUploadRequest.__init__() got an unexpected keyword argument 'type'\n"
     ]
    },
    {
     "name": "stderr",
     "output_type": "stream",
     "text": [
      "100%|██████████| 89.4M/89.4M [00:03<00:00, 28.6MB/s]\n",
      "  0%|          | 0.00/83.3M [00:00<?, ?B/s]"
     ]
    },
    {
     "name": "stdout",
     "output_type": "stream",
     "text": [
      "Upload successful: pair_168.npz (89MB)\n",
      "Starting upload for file pair_89.npz\n",
      "Error while trying to load upload info: ApiStartBlobUploadRequest.__init__() got an unexpected keyword argument 'type'\n"
     ]
    },
    {
     "name": "stderr",
     "output_type": "stream",
     "text": [
      "100%|██████████| 83.3M/83.3M [00:03<00:00, 27.7MB/s]\n",
      "  0%|          | 0.00/95.7M [00:00<?, ?B/s]"
     ]
    },
    {
     "name": "stdout",
     "output_type": "stream",
     "text": [
      "Upload successful: pair_89.npz (83MB)\n",
      "Starting upload for file pair_85.npz\n",
      "Error while trying to load upload info: ApiStartBlobUploadRequest.__init__() got an unexpected keyword argument 'type'\n"
     ]
    },
    {
     "name": "stderr",
     "output_type": "stream",
     "text": [
      "100%|██████████| 95.7M/95.7M [00:03<00:00, 29.7MB/s]\n",
      "  0%|          | 0.00/94.8M [00:00<?, ?B/s]"
     ]
    },
    {
     "name": "stdout",
     "output_type": "stream",
     "text": [
      "Upload successful: pair_85.npz (96MB)\n",
      "Starting upload for file pair_121.npz\n",
      "Error while trying to load upload info: ApiStartBlobUploadRequest.__init__() got an unexpected keyword argument 'type'\n"
     ]
    },
    {
     "name": "stderr",
     "output_type": "stream",
     "text": [
      "100%|██████████| 94.8M/94.8M [00:03<00:00, 26.3MB/s]\n",
      "  0%|          | 0.00/101M [00:00<?, ?B/s]"
     ]
    },
    {
     "name": "stdout",
     "output_type": "stream",
     "text": [
      "Upload successful: pair_121.npz (95MB)\n",
      "Starting upload for file pair_175.npz\n",
      "Error while trying to load upload info: ApiStartBlobUploadRequest.__init__() got an unexpected keyword argument 'type'\n"
     ]
    },
    {
     "name": "stderr",
     "output_type": "stream",
     "text": [
      "100%|██████████| 101M/101M [00:03<00:00, 30.4MB/s] \n",
      "  0%|          | 0.00/92.2M [00:00<?, ?B/s]"
     ]
    },
    {
     "name": "stdout",
     "output_type": "stream",
     "text": [
      "Upload successful: pair_175.npz (101MB)\n",
      "Starting upload for file pair_120.npz\n",
      "Error while trying to load upload info: ApiStartBlobUploadRequest.__init__() got an unexpected keyword argument 'type'\n"
     ]
    },
    {
     "name": "stderr",
     "output_type": "stream",
     "text": [
      "100%|██████████| 92.2M/92.2M [00:03<00:00, 25.3MB/s]\n",
      "  0%|          | 0.00/89.6M [00:00<?, ?B/s]"
     ]
    },
    {
     "name": "stdout",
     "output_type": "stream",
     "text": [
      "Upload successful: pair_120.npz (92MB)\n",
      "Starting upload for file pair_38.npz\n",
      "Error while trying to load upload info: ApiStartBlobUploadRequest.__init__() got an unexpected keyword argument 'type'\n"
     ]
    },
    {
     "name": "stderr",
     "output_type": "stream",
     "text": [
      "100%|██████████| 89.6M/89.6M [00:03<00:00, 29.2MB/s]\n",
      "  0%|          | 0.00/89.8M [00:00<?, ?B/s]"
     ]
    },
    {
     "name": "stdout",
     "output_type": "stream",
     "text": [
      "Upload successful: pair_38.npz (90MB)\n",
      "Starting upload for file pair_4.npz\n",
      "Error while trying to load upload info: ApiStartBlobUploadRequest.__init__() got an unexpected keyword argument 'type'\n"
     ]
    },
    {
     "name": "stderr",
     "output_type": "stream",
     "text": [
      "100%|██████████| 89.8M/89.8M [00:03<00:00, 29.0MB/s]\n",
      "  0%|          | 0.00/111M [00:00<?, ?B/s]"
     ]
    },
    {
     "name": "stdout",
     "output_type": "stream",
     "text": [
      "Upload successful: pair_4.npz (90MB)\n",
      "Starting upload for file pair_153.npz\n",
      "Error while trying to load upload info: ApiStartBlobUploadRequest.__init__() got an unexpected keyword argument 'type'\n"
     ]
    },
    {
     "name": "stderr",
     "output_type": "stream",
     "text": [
      "100%|██████████| 111M/111M [00:03<00:00, 31.5MB/s] \n",
      "  0%|          | 0.00/86.2M [00:00<?, ?B/s]"
     ]
    },
    {
     "name": "stdout",
     "output_type": "stream",
     "text": [
      "Upload successful: pair_153.npz (111MB)\n",
      "Starting upload for file pair_27.npz\n",
      "Error while trying to load upload info: ApiStartBlobUploadRequest.__init__() got an unexpected keyword argument 'type'\n"
     ]
    },
    {
     "name": "stderr",
     "output_type": "stream",
     "text": [
      "100%|██████████| 86.2M/86.2M [00:03<00:00, 28.4MB/s]\n",
      "  0%|          | 0.00/75.1M [00:00<?, ?B/s]"
     ]
    },
    {
     "name": "stdout",
     "output_type": "stream",
     "text": [
      "Upload successful: pair_27.npz (86MB)\n",
      "Starting upload for file pair_86.npz\n",
      "Error while trying to load upload info: ApiStartBlobUploadRequest.__init__() got an unexpected keyword argument 'type'\n"
     ]
    },
    {
     "name": "stderr",
     "output_type": "stream",
     "text": [
      "100%|██████████| 75.1M/75.1M [00:02<00:00, 27.1MB/s]\n",
      "  0%|          | 0.00/83.7M [00:00<?, ?B/s]"
     ]
    },
    {
     "name": "stdout",
     "output_type": "stream",
     "text": [
      "Upload successful: pair_86.npz (75MB)\n",
      "Starting upload for file pair_13.npz\n",
      "Error while trying to load upload info: ApiStartBlobUploadRequest.__init__() got an unexpected keyword argument 'type'\n"
     ]
    },
    {
     "name": "stderr",
     "output_type": "stream",
     "text": [
      "100%|██████████| 83.7M/83.7M [00:03<00:00, 28.6MB/s]\n",
      "  0%|          | 0.00/83.0M [00:00<?, ?B/s]"
     ]
    },
    {
     "name": "stdout",
     "output_type": "stream",
     "text": [
      "Upload successful: pair_13.npz (84MB)\n",
      "Starting upload for file pair_196.npz\n",
      "Error while trying to load upload info: ApiStartBlobUploadRequest.__init__() got an unexpected keyword argument 'type'\n"
     ]
    },
    {
     "name": "stderr",
     "output_type": "stream",
     "text": [
      "100%|██████████| 83.0M/83.0M [00:03<00:00, 27.4MB/s]\n",
      "  0%|          | 0.00/74.6M [00:00<?, ?B/s]"
     ]
    },
    {
     "name": "stdout",
     "output_type": "stream",
     "text": [
      "Upload successful: pair_196.npz (83MB)\n",
      "Starting upload for file pair_139.npz\n",
      "Error while trying to load upload info: ApiStartBlobUploadRequest.__init__() got an unexpected keyword argument 'type'\n"
     ]
    },
    {
     "name": "stderr",
     "output_type": "stream",
     "text": [
      "100%|██████████| 74.6M/74.6M [00:03<00:00, 23.2MB/s]\n",
      "  0%|          | 0.00/79.9M [00:00<?, ?B/s]"
     ]
    },
    {
     "name": "stdout",
     "output_type": "stream",
     "text": [
      "Upload successful: pair_139.npz (75MB)\n",
      "Starting upload for file pair_59.npz\n",
      "Error while trying to load upload info: ApiStartBlobUploadRequest.__init__() got an unexpected keyword argument 'type'\n"
     ]
    },
    {
     "name": "stderr",
     "output_type": "stream",
     "text": [
      "100%|██████████| 79.9M/79.9M [00:02<00:00, 28.5MB/s]\n",
      "  0%|          | 0.00/102M [00:00<?, ?B/s]"
     ]
    },
    {
     "name": "stdout",
     "output_type": "stream",
     "text": [
      "Upload successful: pair_59.npz (80MB)\n",
      "Starting upload for file pair_177.npz\n",
      "Error while trying to load upload info: ApiStartBlobUploadRequest.__init__() got an unexpected keyword argument 'type'\n"
     ]
    },
    {
     "name": "stderr",
     "output_type": "stream",
     "text": [
      "100%|██████████| 102M/102M [00:03<00:00, 31.1MB/s] \n",
      "  0%|          | 0.00/110M [00:00<?, ?B/s]"
     ]
    },
    {
     "name": "stdout",
     "output_type": "stream",
     "text": [
      "Upload successful: pair_177.npz (102MB)\n",
      "Starting upload for file pair_92.npz\n",
      "Error while trying to load upload info: ApiStartBlobUploadRequest.__init__() got an unexpected keyword argument 'type'\n"
     ]
    },
    {
     "name": "stderr",
     "output_type": "stream",
     "text": [
      "100%|██████████| 110M/110M [00:03<00:00, 31.6MB/s] \n",
      "  0%|          | 0.00/83.1M [00:00<?, ?B/s]"
     ]
    },
    {
     "name": "stdout",
     "output_type": "stream",
     "text": [
      "Upload successful: pair_92.npz (110MB)\n",
      "Starting upload for file pair_195.npz\n",
      "Error while trying to load upload info: ApiStartBlobUploadRequest.__init__() got an unexpected keyword argument 'type'\n"
     ]
    },
    {
     "name": "stderr",
     "output_type": "stream",
     "text": [
      "100%|██████████| 83.1M/83.1M [00:03<00:00, 28.9MB/s]\n",
      "  0%|          | 0.00/69.2M [00:00<?, ?B/s]"
     ]
    },
    {
     "name": "stdout",
     "output_type": "stream",
     "text": [
      "Upload successful: pair_195.npz (83MB)\n",
      "Starting upload for file pair_96.npz\n",
      "Error while trying to load upload info: ApiStartBlobUploadRequest.__init__() got an unexpected keyword argument 'type'\n"
     ]
    },
    {
     "name": "stderr",
     "output_type": "stream",
     "text": [
      "100%|██████████| 69.2M/69.2M [00:02<00:00, 26.9MB/s]\n",
      "  0%|          | 0.00/94.5M [00:00<?, ?B/s]"
     ]
    },
    {
     "name": "stdout",
     "output_type": "stream",
     "text": [
      "Upload successful: pair_96.npz (69MB)\n",
      "Starting upload for file pair_144.npz\n",
      "Error while trying to load upload info: ApiStartBlobUploadRequest.__init__() got an unexpected keyword argument 'type'\n"
     ]
    },
    {
     "name": "stderr",
     "output_type": "stream",
     "text": [
      "100%|██████████| 94.5M/94.5M [00:03<00:00, 29.8MB/s]\n",
      "  0%|          | 0.00/71.5M [00:00<?, ?B/s]"
     ]
    },
    {
     "name": "stdout",
     "output_type": "stream",
     "text": [
      "Upload successful: pair_144.npz (95MB)\n",
      "Starting upload for file pair_176.npz\n",
      "Error while trying to load upload info: ApiStartBlobUploadRequest.__init__() got an unexpected keyword argument 'type'\n"
     ]
    },
    {
     "name": "stderr",
     "output_type": "stream",
     "text": [
      "100%|██████████| 71.5M/71.5M [00:02<00:00, 26.8MB/s]\n",
      "  0%|          | 0.00/86.5M [00:00<?, ?B/s]"
     ]
    },
    {
     "name": "stdout",
     "output_type": "stream",
     "text": [
      "Upload successful: pair_176.npz (72MB)\n",
      "Starting upload for file pair_12.npz\n",
      "Error while trying to load upload info: ApiStartBlobUploadRequest.__init__() got an unexpected keyword argument 'type'\n"
     ]
    },
    {
     "name": "stderr",
     "output_type": "stream",
     "text": [
      "100%|██████████| 86.5M/86.5M [00:03<00:00, 29.5MB/s]\n",
      "  0%|          | 0.00/105M [00:00<?, ?B/s]"
     ]
    },
    {
     "name": "stdout",
     "output_type": "stream",
     "text": [
      "Upload successful: pair_12.npz (87MB)\n",
      "Starting upload for file pair_183.npz\n",
      "Error while trying to load upload info: ApiStartBlobUploadRequest.__init__() got an unexpected keyword argument 'type'\n"
     ]
    },
    {
     "name": "stderr",
     "output_type": "stream",
     "text": [
      "100%|██████████| 105M/105M [00:03<00:00, 31.2MB/s] \n",
      "  0%|          | 0.00/87.8M [00:00<?, ?B/s]"
     ]
    },
    {
     "name": "stdout",
     "output_type": "stream",
     "text": [
      "Upload successful: pair_183.npz (105MB)\n",
      "Starting upload for file pair_186.npz\n",
      "Error while trying to load upload info: ApiStartBlobUploadRequest.__init__() got an unexpected keyword argument 'type'\n"
     ]
    },
    {
     "name": "stderr",
     "output_type": "stream",
     "text": [
      "100%|██████████| 87.8M/87.8M [00:03<00:00, 29.5MB/s]\n",
      "  0%|          | 0.00/105M [00:00<?, ?B/s]"
     ]
    },
    {
     "name": "stdout",
     "output_type": "stream",
     "text": [
      "Upload successful: pair_186.npz (88MB)\n",
      "Starting upload for file pair_117.npz\n",
      "Error while trying to load upload info: ApiStartBlobUploadRequest.__init__() got an unexpected keyword argument 'type'\n"
     ]
    },
    {
     "name": "stderr",
     "output_type": "stream",
     "text": [
      "100%|██████████| 105M/105M [00:03<00:00, 31.4MB/s] \n",
      "  0%|          | 0.00/103M [00:00<?, ?B/s]"
     ]
    },
    {
     "name": "stdout",
     "output_type": "stream",
     "text": [
      "Upload successful: pair_117.npz (105MB)\n",
      "Starting upload for file pair_160.npz\n",
      "Error while trying to load upload info: ApiStartBlobUploadRequest.__init__() got an unexpected keyword argument 'type'\n"
     ]
    },
    {
     "name": "stderr",
     "output_type": "stream",
     "text": [
      "100%|██████████| 103M/103M [00:03<00:00, 30.9MB/s] \n",
      "  0%|          | 0.00/88.8M [00:00<?, ?B/s]"
     ]
    },
    {
     "name": "stdout",
     "output_type": "stream",
     "text": [
      "Upload successful: pair_160.npz (103MB)\n",
      "Starting upload for file pair_72.npz\n",
      "Error while trying to load upload info: ApiStartBlobUploadRequest.__init__() got an unexpected keyword argument 'type'\n"
     ]
    },
    {
     "name": "stderr",
     "output_type": "stream",
     "text": [
      "100%|██████████| 88.8M/88.8M [00:03<00:00, 28.7MB/s]\n",
      "  0%|          | 0.00/75.8M [00:00<?, ?B/s]"
     ]
    },
    {
     "name": "stdout",
     "output_type": "stream",
     "text": [
      "Upload successful: pair_72.npz (89MB)\n",
      "Starting upload for file pair_18.npz\n",
      "Error while trying to load upload info: ApiStartBlobUploadRequest.__init__() got an unexpected keyword argument 'type'\n"
     ]
    },
    {
     "name": "stderr",
     "output_type": "stream",
     "text": [
      "100%|██████████| 75.8M/75.8M [00:02<00:00, 27.9MB/s]\n",
      "  0%|          | 0.00/90.7M [00:00<?, ?B/s]"
     ]
    },
    {
     "name": "stdout",
     "output_type": "stream",
     "text": [
      "Upload successful: pair_18.npz (76MB)\n",
      "Starting upload for file pair_73.npz\n",
      "Error while trying to load upload info: ApiStartBlobUploadRequest.__init__() got an unexpected keyword argument 'type'\n"
     ]
    },
    {
     "name": "stderr",
     "output_type": "stream",
     "text": [
      "100%|██████████| 90.7M/90.7M [00:03<00:00, 29.8MB/s]\n",
      "  0%|          | 0.00/105M [00:00<?, ?B/s]"
     ]
    },
    {
     "name": "stdout",
     "output_type": "stream",
     "text": [
      "Upload successful: pair_73.npz (91MB)\n",
      "Starting upload for file pair_49.npz\n",
      "Error while trying to load upload info: ApiStartBlobUploadRequest.__init__() got an unexpected keyword argument 'type'\n"
     ]
    },
    {
     "name": "stderr",
     "output_type": "stream",
     "text": [
      "100%|██████████| 105M/105M [00:03<00:00, 30.9MB/s] \n",
      "  0%|          | 0.00/70.7M [00:00<?, ?B/s]"
     ]
    },
    {
     "name": "stdout",
     "output_type": "stream",
     "text": [
      "Upload successful: pair_49.npz (105MB)\n",
      "Starting upload for file pair_63.npz\n",
      "Error while trying to load upload info: ApiStartBlobUploadRequest.__init__() got an unexpected keyword argument 'type'\n"
     ]
    },
    {
     "name": "stderr",
     "output_type": "stream",
     "text": [
      "100%|██████████| 70.7M/70.7M [00:03<00:00, 23.1MB/s]\n",
      "  0%|          | 0.00/93.6M [00:00<?, ?B/s]"
     ]
    },
    {
     "name": "stdout",
     "output_type": "stream",
     "text": [
      "Upload successful: pair_63.npz (71MB)\n",
      "Starting upload for file pair_71.npz\n",
      "Error while trying to load upload info: ApiStartBlobUploadRequest.__init__() got an unexpected keyword argument 'type'\n"
     ]
    },
    {
     "name": "stderr",
     "output_type": "stream",
     "text": [
      "100%|██████████| 93.6M/93.6M [00:03<00:00, 29.3MB/s]\n",
      "  0%|          | 0.00/82.0M [00:00<?, ?B/s]"
     ]
    },
    {
     "name": "stdout",
     "output_type": "stream",
     "text": [
      "Upload successful: pair_71.npz (94MB)\n",
      "Starting upload for file pair_114.npz\n",
      "Error while trying to load upload info: ApiStartBlobUploadRequest.__init__() got an unexpected keyword argument 'type'\n"
     ]
    },
    {
     "name": "stderr",
     "output_type": "stream",
     "text": [
      "100%|██████████| 82.0M/82.0M [00:02<00:00, 28.8MB/s]\n",
      "  0%|          | 0.00/81.4M [00:00<?, ?B/s]"
     ]
    },
    {
     "name": "stdout",
     "output_type": "stream",
     "text": [
      "Upload successful: pair_114.npz (82MB)\n",
      "Starting upload for file pair_112.npz\n",
      "Error while trying to load upload info: ApiStartBlobUploadRequest.__init__() got an unexpected keyword argument 'type'\n"
     ]
    },
    {
     "name": "stderr",
     "output_type": "stream",
     "text": [
      "100%|██████████| 81.4M/81.4M [00:03<00:00, 28.4MB/s]\n",
      "  0%|          | 0.00/99.7M [00:00<?, ?B/s]"
     ]
    },
    {
     "name": "stdout",
     "output_type": "stream",
     "text": [
      "Upload successful: pair_112.npz (81MB)\n",
      "Starting upload for file pair_165.npz\n",
      "Error while trying to load upload info: ApiStartBlobUploadRequest.__init__() got an unexpected keyword argument 'type'\n"
     ]
    },
    {
     "name": "stderr",
     "output_type": "stream",
     "text": [
      "100%|██████████| 99.7M/99.7M [00:03<00:00, 31.0MB/s]\n",
      "  0%|          | 0.00/100M [00:00<?, ?B/s]"
     ]
    },
    {
     "name": "stdout",
     "output_type": "stream",
     "text": [
      "Upload successful: pair_165.npz (100MB)\n",
      "Starting upload for file pair_57.npz\n",
      "Error while trying to load upload info: ApiStartBlobUploadRequest.__init__() got an unexpected keyword argument 'type'\n"
     ]
    },
    {
     "name": "stderr",
     "output_type": "stream",
     "text": [
      "100%|██████████| 100M/100M [00:03<00:00, 29.7MB/s] \n",
      "  0%|          | 0.00/84.4M [00:00<?, ?B/s]"
     ]
    },
    {
     "name": "stdout",
     "output_type": "stream",
     "text": [
      "Upload successful: pair_57.npz (100MB)\n",
      "Starting upload for file pair_198.npz\n",
      "Error while trying to load upload info: ApiStartBlobUploadRequest.__init__() got an unexpected keyword argument 'type'\n"
     ]
    },
    {
     "name": "stderr",
     "output_type": "stream",
     "text": [
      "100%|██████████| 84.4M/84.4M [00:03<00:00, 28.9MB/s]\n",
      "  0%|          | 0.00/95.0M [00:00<?, ?B/s]"
     ]
    },
    {
     "name": "stdout",
     "output_type": "stream",
     "text": [
      "Upload successful: pair_198.npz (84MB)\n",
      "Starting upload for file pair_174.npz\n",
      "Error while trying to load upload info: ApiStartBlobUploadRequest.__init__() got an unexpected keyword argument 'type'\n"
     ]
    },
    {
     "name": "stderr",
     "output_type": "stream",
     "text": [
      "100%|██████████| 95.0M/95.0M [00:03<00:00, 30.3MB/s]\n",
      "  0%|          | 0.00/90.6M [00:00<?, ?B/s]"
     ]
    },
    {
     "name": "stdout",
     "output_type": "stream",
     "text": [
      "Upload successful: pair_174.npz (95MB)\n",
      "Starting upload for file pair_110.npz\n",
      "Error while trying to load upload info: ApiStartBlobUploadRequest.__init__() got an unexpected keyword argument 'type'\n"
     ]
    },
    {
     "name": "stderr",
     "output_type": "stream",
     "text": [
      "100%|██████████| 90.6M/90.6M [00:03<00:00, 27.0MB/s]\n",
      "  0%|          | 0.00/89.2M [00:00<?, ?B/s]"
     ]
    },
    {
     "name": "stdout",
     "output_type": "stream",
     "text": [
      "Upload successful: pair_110.npz (91MB)\n",
      "Starting upload for file pair_42.npz\n",
      "Error while trying to load upload info: ApiStartBlobUploadRequest.__init__() got an unexpected keyword argument 'type'\n"
     ]
    },
    {
     "name": "stderr",
     "output_type": "stream",
     "text": [
      "100%|██████████| 89.2M/89.2M [00:03<00:00, 29.1MB/s]\n",
      "  0%|          | 0.00/99.4M [00:00<?, ?B/s]"
     ]
    },
    {
     "name": "stdout",
     "output_type": "stream",
     "text": [
      "Upload successful: pair_42.npz (89MB)\n",
      "Starting upload for file pair_162.npz\n",
      "Error while trying to load upload info: ApiStartBlobUploadRequest.__init__() got an unexpected keyword argument 'type'\n"
     ]
    },
    {
     "name": "stderr",
     "output_type": "stream",
     "text": [
      "100%|██████████| 99.4M/99.4M [00:03<00:00, 30.4MB/s]\n",
      "  0%|          | 0.00/78.3M [00:00<?, ?B/s]"
     ]
    },
    {
     "name": "stdout",
     "output_type": "stream",
     "text": [
      "Upload successful: pair_162.npz (99MB)\n",
      "Starting upload for file pair_70.npz\n",
      "Error while trying to load upload info: ApiStartBlobUploadRequest.__init__() got an unexpected keyword argument 'type'\n"
     ]
    },
    {
     "name": "stderr",
     "output_type": "stream",
     "text": [
      "100%|██████████| 78.3M/78.3M [00:02<00:00, 28.2MB/s]\n",
      "  0%|          | 0.00/64.0M [00:00<?, ?B/s]"
     ]
    },
    {
     "name": "stdout",
     "output_type": "stream",
     "text": [
      "Upload successful: pair_70.npz (78MB)\n",
      "Starting upload for file pair_194.npz\n",
      "Error while trying to load upload info: ApiStartBlobUploadRequest.__init__() got an unexpected keyword argument 'type'\n"
     ]
    },
    {
     "name": "stderr",
     "output_type": "stream",
     "text": [
      "100%|██████████| 64.0M/64.0M [00:02<00:00, 25.6MB/s]\n",
      "  0%|          | 0.00/67.4M [00:00<?, ?B/s]"
     ]
    },
    {
     "name": "stdout",
     "output_type": "stream",
     "text": [
      "Upload successful: pair_194.npz (64MB)\n",
      "Starting upload for file pair_135.npz\n",
      "Error while trying to load upload info: ApiStartBlobUploadRequest.__init__() got an unexpected keyword argument 'type'\n"
     ]
    },
    {
     "name": "stderr",
     "output_type": "stream",
     "text": [
      "100%|██████████| 67.4M/67.4M [00:03<00:00, 21.9MB/s]\n",
      "  0%|          | 0.00/77.1M [00:00<?, ?B/s]"
     ]
    },
    {
     "name": "stdout",
     "output_type": "stream",
     "text": [
      "Upload successful: pair_135.npz (67MB)\n",
      "Starting upload for file pair_122.npz\n",
      "Error while trying to load upload info: ApiStartBlobUploadRequest.__init__() got an unexpected keyword argument 'type'\n"
     ]
    },
    {
     "name": "stderr",
     "output_type": "stream",
     "text": [
      "100%|██████████| 77.1M/77.1M [00:02<00:00, 27.7MB/s]\n",
      "  0%|          | 0.00/81.9M [00:00<?, ?B/s]"
     ]
    },
    {
     "name": "stdout",
     "output_type": "stream",
     "text": [
      "Upload successful: pair_122.npz (77MB)\n",
      "Starting upload for file pair_111.npz\n",
      "Error while trying to load upload info: ApiStartBlobUploadRequest.__init__() got an unexpected keyword argument 'type'\n"
     ]
    },
    {
     "name": "stderr",
     "output_type": "stream",
     "text": [
      "100%|██████████| 81.9M/81.9M [00:02<00:00, 28.9MB/s]\n",
      "  0%|          | 0.00/64.6M [00:00<?, ?B/s]"
     ]
    },
    {
     "name": "stdout",
     "output_type": "stream",
     "text": [
      "Upload successful: pair_111.npz (82MB)\n",
      "Starting upload for file pair_87.npz\n",
      "Error while trying to load upload info: ApiStartBlobUploadRequest.__init__() got an unexpected keyword argument 'type'\n"
     ]
    },
    {
     "name": "stderr",
     "output_type": "stream",
     "text": [
      "100%|██████████| 64.6M/64.6M [00:02<00:00, 26.4MB/s]\n",
      "  0%|          | 0.00/94.0M [00:00<?, ?B/s]"
     ]
    },
    {
     "name": "stdout",
     "output_type": "stream",
     "text": [
      "Upload successful: pair_87.npz (65MB)\n",
      "Starting upload for file pair_150.npz\n",
      "Error while trying to load upload info: ApiStartBlobUploadRequest.__init__() got an unexpected keyword argument 'type'\n"
     ]
    },
    {
     "name": "stderr",
     "output_type": "stream",
     "text": [
      "100%|██████████| 94.0M/94.0M [00:03<00:00, 30.4MB/s]\n",
      "  0%|          | 0.00/69.5M [00:00<?, ?B/s]"
     ]
    },
    {
     "name": "stdout",
     "output_type": "stream",
     "text": [
      "Upload successful: pair_150.npz (94MB)\n",
      "Starting upload for file pair_191.npz\n",
      "Error while trying to load upload info: ApiStartBlobUploadRequest.__init__() got an unexpected keyword argument 'type'\n"
     ]
    },
    {
     "name": "stderr",
     "output_type": "stream",
     "text": [
      "100%|██████████| 69.5M/69.5M [00:02<00:00, 26.5MB/s]\n",
      "  0%|          | 0.00/73.3M [00:00<?, ?B/s]"
     ]
    },
    {
     "name": "stdout",
     "output_type": "stream",
     "text": [
      "Upload successful: pair_191.npz (70MB)\n",
      "Starting upload for file pair_77.npz\n",
      "Error while trying to load upload info: ApiStartBlobUploadRequest.__init__() got an unexpected keyword argument 'type'\n"
     ]
    },
    {
     "name": "stderr",
     "output_type": "stream",
     "text": [
      "100%|██████████| 73.3M/73.3M [00:03<00:00, 23.6MB/s]\n",
      "  0%|          | 0.00/74.4M [00:00<?, ?B/s]"
     ]
    },
    {
     "name": "stdout",
     "output_type": "stream",
     "text": [
      "Upload successful: pair_77.npz (73MB)\n",
      "Starting upload for file pair_97.npz\n",
      "Error while trying to load upload info: ApiStartBlobUploadRequest.__init__() got an unexpected keyword argument 'type'\n"
     ]
    },
    {
     "name": "stderr",
     "output_type": "stream",
     "text": [
      "100%|██████████| 74.4M/74.4M [00:03<00:00, 23.6MB/s]\n",
      "  0%|          | 0.00/94.2M [00:00<?, ?B/s]"
     ]
    },
    {
     "name": "stdout",
     "output_type": "stream",
     "text": [
      "Upload successful: pair_97.npz (74MB)\n",
      "Starting upload for file pair_166.npz\n",
      "Error while trying to load upload info: ApiStartBlobUploadRequest.__init__() got an unexpected keyword argument 'type'\n"
     ]
    },
    {
     "name": "stderr",
     "output_type": "stream",
     "text": [
      "100%|██████████| 94.2M/94.2M [00:03<00:00, 30.0MB/s]\n",
      "  0%|          | 0.00/76.8M [00:00<?, ?B/s]"
     ]
    },
    {
     "name": "stdout",
     "output_type": "stream",
     "text": [
      "Upload successful: pair_166.npz (94MB)\n",
      "Starting upload for file pair_190.npz\n",
      "Error while trying to load upload info: ApiStartBlobUploadRequest.__init__() got an unexpected keyword argument 'type'\n"
     ]
    },
    {
     "name": "stderr",
     "output_type": "stream",
     "text": [
      "100%|██████████| 76.8M/76.8M [00:02<00:00, 28.2MB/s]\n",
      "  0%|          | 0.00/70.1M [00:00<?, ?B/s]"
     ]
    },
    {
     "name": "stdout",
     "output_type": "stream",
     "text": [
      "Upload successful: pair_190.npz (77MB)\n",
      "Starting upload for file pair_115.npz\n",
      "Error while trying to load upload info: ApiStartBlobUploadRequest.__init__() got an unexpected keyword argument 'type'\n"
     ]
    },
    {
     "name": "stderr",
     "output_type": "stream",
     "text": [
      "100%|██████████| 70.1M/70.1M [00:02<00:00, 27.1MB/s]\n",
      "  0%|          | 0.00/76.0M [00:00<?, ?B/s]"
     ]
    },
    {
     "name": "stdout",
     "output_type": "stream",
     "text": [
      "Upload successful: pair_115.npz (70MB)\n",
      "Starting upload for file pair_143.npz\n",
      "Error while trying to load upload info: ApiStartBlobUploadRequest.__init__() got an unexpected keyword argument 'type'\n"
     ]
    },
    {
     "name": "stderr",
     "output_type": "stream",
     "text": [
      "100%|██████████| 76.0M/76.0M [00:02<00:00, 27.9MB/s]\n",
      "  0%|          | 0.00/84.8M [00:00<?, ?B/s]"
     ]
    },
    {
     "name": "stdout",
     "output_type": "stream",
     "text": [
      "Upload successful: pair_143.npz (76MB)\n",
      "Starting upload for file pair_36.npz\n",
      "Error while trying to load upload info: ApiStartBlobUploadRequest.__init__() got an unexpected keyword argument 'type'\n"
     ]
    },
    {
     "name": "stderr",
     "output_type": "stream",
     "text": [
      "100%|██████████| 84.8M/84.8M [00:03<00:00, 29.1MB/s]\n",
      "  0%|          | 0.00/79.5M [00:00<?, ?B/s]"
     ]
    },
    {
     "name": "stdout",
     "output_type": "stream",
     "text": [
      "Upload successful: pair_36.npz (85MB)\n",
      "Starting upload for file pair_5.npz\n",
      "Error while trying to load upload info: ApiStartBlobUploadRequest.__init__() got an unexpected keyword argument 'type'\n"
     ]
    },
    {
     "name": "stderr",
     "output_type": "stream",
     "text": [
      "100%|██████████| 79.5M/79.5M [00:02<00:00, 28.6MB/s]\n",
      "  0%|          | 0.00/82.8M [00:00<?, ?B/s]"
     ]
    },
    {
     "name": "stdout",
     "output_type": "stream",
     "text": [
      "Upload successful: pair_5.npz (79MB)\n",
      "Starting upload for file pair_182.npz\n",
      "Error while trying to load upload info: ApiStartBlobUploadRequest.__init__() got an unexpected keyword argument 'type'\n"
     ]
    },
    {
     "name": "stderr",
     "output_type": "stream",
     "text": [
      "100%|██████████| 82.8M/82.8M [00:03<00:00, 28.4MB/s]\n",
      "  0%|          | 0.00/93.8M [00:00<?, ?B/s]"
     ]
    },
    {
     "name": "stdout",
     "output_type": "stream",
     "text": [
      "Upload successful: pair_182.npz (83MB)\n",
      "Starting upload for file pair_30.npz\n",
      "Error while trying to load upload info: ApiStartBlobUploadRequest.__init__() got an unexpected keyword argument 'type'\n"
     ]
    },
    {
     "name": "stderr",
     "output_type": "stream",
     "text": [
      "100%|██████████| 93.8M/93.8M [00:03<00:00, 30.0MB/s]\n",
      "  0%|          | 0.00/97.9M [00:00<?, ?B/s]"
     ]
    },
    {
     "name": "stdout",
     "output_type": "stream",
     "text": [
      "Upload successful: pair_30.npz (94MB)\n",
      "Starting upload for file pair_154.npz\n",
      "Error while trying to load upload info: ApiStartBlobUploadRequest.__init__() got an unexpected keyword argument 'type'\n"
     ]
    },
    {
     "name": "stderr",
     "output_type": "stream",
     "text": [
      "100%|██████████| 97.9M/97.9M [00:03<00:00, 27.0MB/s]\n",
      "  0%|          | 0.00/93.5M [00:00<?, ?B/s]"
     ]
    },
    {
     "name": "stdout",
     "output_type": "stream",
     "text": [
      "Upload successful: pair_154.npz (98MB)\n",
      "Starting upload for file pair_149.npz\n",
      "Error while trying to load upload info: ApiStartBlobUploadRequest.__init__() got an unexpected keyword argument 'type'\n"
     ]
    },
    {
     "name": "stderr",
     "output_type": "stream",
     "text": [
      "100%|██████████| 93.5M/93.5M [00:03<00:00, 29.8MB/s]\n",
      "  0%|          | 0.00/106M [00:00<?, ?B/s]"
     ]
    },
    {
     "name": "stdout",
     "output_type": "stream",
     "text": [
      "Upload successful: pair_149.npz (94MB)\n",
      "Starting upload for file pair_29.npz\n",
      "Error while trying to load upload info: ApiStartBlobUploadRequest.__init__() got an unexpected keyword argument 'type'\n"
     ]
    },
    {
     "name": "stderr",
     "output_type": "stream",
     "text": [
      "100%|██████████| 106M/106M [00:04<00:00, 27.5MB/s] \n",
      "  0%|          | 0.00/105M [00:00<?, ?B/s]"
     ]
    },
    {
     "name": "stdout",
     "output_type": "stream",
     "text": [
      "Upload successful: pair_29.npz (106MB)\n",
      "Starting upload for file pair_93.npz\n",
      "Error while trying to load upload info: ApiStartBlobUploadRequest.__init__() got an unexpected keyword argument 'type'\n"
     ]
    },
    {
     "name": "stderr",
     "output_type": "stream",
     "text": [
      "100%|██████████| 105M/105M [00:03<00:00, 31.3MB/s] \n",
      "  0%|          | 0.00/80.0M [00:00<?, ?B/s]"
     ]
    },
    {
     "name": "stdout",
     "output_type": "stream",
     "text": [
      "Upload successful: pair_93.npz (105MB)\n",
      "Starting upload for file pair_33.npz\n",
      "Error while trying to load upload info: ApiStartBlobUploadRequest.__init__() got an unexpected keyword argument 'type'\n"
     ]
    },
    {
     "name": "stderr",
     "output_type": "stream",
     "text": [
      "100%|██████████| 80.0M/80.0M [00:02<00:00, 28.4MB/s]\n",
      "  0%|          | 0.00/89.6M [00:00<?, ?B/s]"
     ]
    },
    {
     "name": "stdout",
     "output_type": "stream",
     "text": [
      "Upload successful: pair_33.npz (80MB)\n",
      "Starting upload for file pair_90.npz\n",
      "Error while trying to load upload info: ApiStartBlobUploadRequest.__init__() got an unexpected keyword argument 'type'\n"
     ]
    },
    {
     "name": "stderr",
     "output_type": "stream",
     "text": [
      "100%|██████████| 89.6M/89.6M [00:03<00:00, 29.9MB/s]\n",
      "  0%|          | 0.00/91.0M [00:00<?, ?B/s]"
     ]
    },
    {
     "name": "stdout",
     "output_type": "stream",
     "text": [
      "Upload successful: pair_90.npz (90MB)\n",
      "Starting upload for file pair_170.npz\n",
      "Error while trying to load upload info: ApiStartBlobUploadRequest.__init__() got an unexpected keyword argument 'type'\n"
     ]
    },
    {
     "name": "stderr",
     "output_type": "stream",
     "text": [
      "100%|██████████| 91.0M/91.0M [00:03<00:00, 29.7MB/s]\n",
      "  0%|          | 0.00/80.8M [00:00<?, ?B/s]"
     ]
    },
    {
     "name": "stdout",
     "output_type": "stream",
     "text": [
      "Upload successful: pair_170.npz (91MB)\n",
      "Starting upload for file pair_61.npz\n",
      "Error while trying to load upload info: ApiStartBlobUploadRequest.__init__() got an unexpected keyword argument 'type'\n"
     ]
    },
    {
     "name": "stderr",
     "output_type": "stream",
     "text": [
      "100%|██████████| 80.8M/80.8M [00:02<00:00, 28.4MB/s]\n",
      "  0%|          | 0.00/94.7M [00:00<?, ?B/s]"
     ]
    },
    {
     "name": "stdout",
     "output_type": "stream",
     "text": [
      "Upload successful: pair_61.npz (81MB)\n",
      "Starting upload for file pair_28.npz\n",
      "Error while trying to load upload info: ApiStartBlobUploadRequest.__init__() got an unexpected keyword argument 'type'\n"
     ]
    },
    {
     "name": "stderr",
     "output_type": "stream",
     "text": [
      "100%|██████████| 94.7M/94.7M [00:03<00:00, 25.9MB/s]\n",
      "  0%|          | 0.00/93.1M [00:00<?, ?B/s]"
     ]
    },
    {
     "name": "stdout",
     "output_type": "stream",
     "text": [
      "Upload successful: pair_28.npz (95MB)\n",
      "Starting upload for file pair_152.npz\n",
      "Error while trying to load upload info: ApiStartBlobUploadRequest.__init__() got an unexpected keyword argument 'type'\n"
     ]
    },
    {
     "name": "stderr",
     "output_type": "stream",
     "text": [
      "100%|██████████| 93.1M/93.1M [00:03<00:00, 30.4MB/s]\n",
      "  0%|          | 0.00/104M [00:00<?, ?B/s]"
     ]
    },
    {
     "name": "stdout",
     "output_type": "stream",
     "text": [
      "Upload successful: pair_152.npz (93MB)\n",
      "Starting upload for file pair_25.npz\n",
      "Error while trying to load upload info: ApiStartBlobUploadRequest.__init__() got an unexpected keyword argument 'type'\n"
     ]
    },
    {
     "name": "stderr",
     "output_type": "stream",
     "text": [
      "100%|██████████| 104M/104M [00:03<00:00, 30.7MB/s] \n",
      "  0%|          | 0.00/71.0M [00:00<?, ?B/s]"
     ]
    },
    {
     "name": "stdout",
     "output_type": "stream",
     "text": [
      "Upload successful: pair_25.npz (104MB)\n",
      "Starting upload for file pair_201.npz\n",
      "Error while trying to load upload info: ApiStartBlobUploadRequest.__init__() got an unexpected keyword argument 'type'\n"
     ]
    },
    {
     "name": "stderr",
     "output_type": "stream",
     "text": [
      "100%|██████████| 71.0M/71.0M [00:02<00:00, 25.1MB/s]\n",
      "  0%|          | 0.00/80.7M [00:00<?, ?B/s]"
     ]
    },
    {
     "name": "stdout",
     "output_type": "stream",
     "text": [
      "Upload successful: pair_201.npz (71MB)\n",
      "Starting upload for file pair_67.npz\n",
      "Error while trying to load upload info: ApiStartBlobUploadRequest.__init__() got an unexpected keyword argument 'type'\n"
     ]
    },
    {
     "name": "stderr",
     "output_type": "stream",
     "text": [
      "100%|██████████| 80.7M/80.7M [00:02<00:00, 28.5MB/s]\n",
      "  0%|          | 0.00/83.9M [00:00<?, ?B/s]"
     ]
    },
    {
     "name": "stdout",
     "output_type": "stream",
     "text": [
      "Upload successful: pair_67.npz (81MB)\n",
      "Starting upload for file pair_155.npz\n",
      "Error while trying to load upload info: ApiStartBlobUploadRequest.__init__() got an unexpected keyword argument 'type'\n"
     ]
    },
    {
     "name": "stderr",
     "output_type": "stream",
     "text": [
      "100%|██████████| 83.9M/83.9M [00:03<00:00, 28.5MB/s]\n",
      "  0%|          | 0.00/70.8M [00:00<?, ?B/s]"
     ]
    },
    {
     "name": "stdout",
     "output_type": "stream",
     "text": [
      "Upload successful: pair_155.npz (84MB)\n",
      "Starting upload for file pair_131.npz\n",
      "Error while trying to load upload info: ApiStartBlobUploadRequest.__init__() got an unexpected keyword argument 'type'\n"
     ]
    },
    {
     "name": "stderr",
     "output_type": "stream",
     "text": [
      "100%|██████████| 70.8M/70.8M [00:02<00:00, 26.7MB/s]\n",
      "  0%|          | 0.00/90.2M [00:00<?, ?B/s]"
     ]
    },
    {
     "name": "stdout",
     "output_type": "stream",
     "text": [
      "Upload successful: pair_131.npz (71MB)\n",
      "Starting upload for file pair_7.npz\n",
      "Error while trying to load upload info: ApiStartBlobUploadRequest.__init__() got an unexpected keyword argument 'type'\n"
     ]
    },
    {
     "name": "stderr",
     "output_type": "stream",
     "text": [
      "100%|██████████| 90.2M/90.2M [00:03<00:00, 29.8MB/s]\n",
      "  0%|          | 0.00/105M [00:00<?, ?B/s]"
     ]
    },
    {
     "name": "stdout",
     "output_type": "stream",
     "text": [
      "Upload successful: pair_7.npz (90MB)\n",
      "Starting upload for file pair_19.npz\n",
      "Error while trying to load upload info: ApiStartBlobUploadRequest.__init__() got an unexpected keyword argument 'type'\n"
     ]
    },
    {
     "name": "stderr",
     "output_type": "stream",
     "text": [
      "100%|██████████| 105M/105M [00:03<00:00, 31.6MB/s] \n",
      "  0%|          | 0.00/78.7M [00:00<?, ?B/s]"
     ]
    },
    {
     "name": "stdout",
     "output_type": "stream",
     "text": [
      "Upload successful: pair_19.npz (105MB)\n",
      "Starting upload for file pair_9.npz\n",
      "Error while trying to load upload info: ApiStartBlobUploadRequest.__init__() got an unexpected keyword argument 'type'\n"
     ]
    },
    {
     "name": "stderr",
     "output_type": "stream",
     "text": [
      "100%|██████████| 78.7M/78.7M [00:02<00:00, 28.4MB/s]\n",
      "  0%|          | 0.00/99.2M [00:00<?, ?B/s]"
     ]
    },
    {
     "name": "stdout",
     "output_type": "stream",
     "text": [
      "Upload successful: pair_9.npz (79MB)\n",
      "Starting upload for file pair_34.npz\n",
      "Error while trying to load upload info: ApiStartBlobUploadRequest.__init__() got an unexpected keyword argument 'type'\n"
     ]
    },
    {
     "name": "stderr",
     "output_type": "stream",
     "text": [
      "100%|██████████| 99.2M/99.2M [00:03<00:00, 30.8MB/s]\n",
      "  0%|          | 0.00/101M [00:00<?, ?B/s]"
     ]
    },
    {
     "name": "stdout",
     "output_type": "stream",
     "text": [
      "Upload successful: pair_34.npz (99MB)\n",
      "Starting upload for file pair_1.npz\n",
      "Error while trying to load upload info: ApiStartBlobUploadRequest.__init__() got an unexpected keyword argument 'type'\n"
     ]
    },
    {
     "name": "stderr",
     "output_type": "stream",
     "text": [
      "100%|██████████| 101M/101M [00:03<00:00, 30.7MB/s] \n",
      "  0%|          | 0.00/98.4M [00:00<?, ?B/s]"
     ]
    },
    {
     "name": "stdout",
     "output_type": "stream",
     "text": [
      "Upload successful: pair_1.npz (101MB)\n",
      "Starting upload for file pair_101.npz\n",
      "Error while trying to load upload info: ApiStartBlobUploadRequest.__init__() got an unexpected keyword argument 'type'\n"
     ]
    },
    {
     "name": "stderr",
     "output_type": "stream",
     "text": [
      "100%|██████████| 98.4M/98.4M [00:03<00:00, 26.3MB/s]\n",
      "  0%|          | 0.00/99.9M [00:00<?, ?B/s]"
     ]
    },
    {
     "name": "stdout",
     "output_type": "stream",
     "text": [
      "Upload successful: pair_101.npz (98MB)\n",
      "Starting upload for file pair_184.npz\n",
      "Error while trying to load upload info: ApiStartBlobUploadRequest.__init__() got an unexpected keyword argument 'type'\n"
     ]
    },
    {
     "name": "stderr",
     "output_type": "stream",
     "text": [
      "100%|██████████| 99.9M/99.9M [00:03<00:00, 30.1MB/s]\n",
      "  0%|          | 0.00/97.8M [00:00<?, ?B/s]"
     ]
    },
    {
     "name": "stdout",
     "output_type": "stream",
     "text": [
      "Upload successful: pair_184.npz (100MB)\n",
      "Starting upload for file pair_147.npz\n",
      "Error while trying to load upload info: ApiStartBlobUploadRequest.__init__() got an unexpected keyword argument 'type'\n"
     ]
    },
    {
     "name": "stderr",
     "output_type": "stream",
     "text": [
      "100%|██████████| 97.8M/97.8M [00:03<00:00, 30.5MB/s]\n",
      "  0%|          | 0.00/76.7M [00:00<?, ?B/s]"
     ]
    },
    {
     "name": "stdout",
     "output_type": "stream",
     "text": [
      "Upload successful: pair_147.npz (98MB)\n",
      "Starting upload for file pair_106.npz\n",
      "Error while trying to load upload info: ApiStartBlobUploadRequest.__init__() got an unexpected keyword argument 'type'\n"
     ]
    },
    {
     "name": "stderr",
     "output_type": "stream",
     "text": [
      "100%|██████████| 76.7M/76.7M [00:02<00:00, 28.3MB/s]\n",
      "  0%|          | 0.00/81.5M [00:00<?, ?B/s]"
     ]
    },
    {
     "name": "stdout",
     "output_type": "stream",
     "text": [
      "Upload successful: pair_106.npz (77MB)\n",
      "Starting upload for file pair_37.npz\n",
      "Error while trying to load upload info: ApiStartBlobUploadRequest.__init__() got an unexpected keyword argument 'type'\n"
     ]
    },
    {
     "name": "stderr",
     "output_type": "stream",
     "text": [
      "100%|██████████| 81.5M/81.5M [00:02<00:00, 28.7MB/s]\n",
      "  0%|          | 0.00/85.4M [00:00<?, ?B/s]"
     ]
    },
    {
     "name": "stdout",
     "output_type": "stream",
     "text": [
      "Upload successful: pair_37.npz (81MB)\n",
      "Starting upload for file pair_123.npz\n",
      "Error while trying to load upload info: ApiStartBlobUploadRequest.__init__() got an unexpected keyword argument 'type'\n"
     ]
    },
    {
     "name": "stderr",
     "output_type": "stream",
     "text": [
      "100%|██████████| 85.4M/85.4M [00:03<00:00, 29.4MB/s]\n",
      "  0%|          | 0.00/89.4M [00:00<?, ?B/s]"
     ]
    },
    {
     "name": "stdout",
     "output_type": "stream",
     "text": [
      "Upload successful: pair_123.npz (85MB)\n",
      "Starting upload for file pair_48.npz\n",
      "Error while trying to load upload info: ApiStartBlobUploadRequest.__init__() got an unexpected keyword argument 'type'\n"
     ]
    },
    {
     "name": "stderr",
     "output_type": "stream",
     "text": [
      "100%|██████████| 89.4M/89.4M [00:03<00:00, 29.3MB/s]\n",
      "  0%|          | 0.00/77.2M [00:00<?, ?B/s]"
     ]
    },
    {
     "name": "stdout",
     "output_type": "stream",
     "text": [
      "Upload successful: pair_48.npz (89MB)\n",
      "Starting upload for file pair_103.npz\n",
      "Error while trying to load upload info: ApiStartBlobUploadRequest.__init__() got an unexpected keyword argument 'type'\n"
     ]
    },
    {
     "name": "stderr",
     "output_type": "stream",
     "text": [
      "100%|██████████| 77.2M/77.2M [00:02<00:00, 28.4MB/s]\n",
      "  0%|          | 0.00/117M [00:00<?, ?B/s]"
     ]
    },
    {
     "name": "stdout",
     "output_type": "stream",
     "text": [
      "Upload successful: pair_103.npz (77MB)\n",
      "Starting upload for file pair_164.npz\n",
      "Error while trying to load upload info: ApiStartBlobUploadRequest.__init__() got an unexpected keyword argument 'type'\n"
     ]
    },
    {
     "name": "stderr",
     "output_type": "stream",
     "text": [
      "100%|██████████| 117M/117M [00:03<00:00, 32.2MB/s] \n",
      "  0%|          | 0.00/76.7M [00:00<?, ?B/s]"
     ]
    },
    {
     "name": "stdout",
     "output_type": "stream",
     "text": [
      "Upload successful: pair_164.npz (117MB)\n",
      "Starting upload for file pair_65.npz\n",
      "Error while trying to load upload info: ApiStartBlobUploadRequest.__init__() got an unexpected keyword argument 'type'\n"
     ]
    },
    {
     "name": "stderr",
     "output_type": "stream",
     "text": [
      "100%|██████████| 76.7M/76.7M [00:02<00:00, 28.1MB/s]\n",
      "  0%|          | 0.00/97.0M [00:00<?, ?B/s]"
     ]
    },
    {
     "name": "stdout",
     "output_type": "stream",
     "text": [
      "Upload successful: pair_65.npz (77MB)\n",
      "Starting upload for file pair_94.npz\n",
      "Error while trying to load upload info: ApiStartBlobUploadRequest.__init__() got an unexpected keyword argument 'type'\n"
     ]
    },
    {
     "name": "stderr",
     "output_type": "stream",
     "text": [
      "100%|██████████| 97.0M/97.0M [00:03<00:00, 29.6MB/s]\n",
      "  0%|          | 0.00/101M [00:00<?, ?B/s]"
     ]
    },
    {
     "name": "stdout",
     "output_type": "stream",
     "text": [
      "Upload successful: pair_94.npz (97MB)\n",
      "Starting upload for file pair_53.npz\n",
      "Error while trying to load upload info: ApiStartBlobUploadRequest.__init__() got an unexpected keyword argument 'type'\n"
     ]
    },
    {
     "name": "stderr",
     "output_type": "stream",
     "text": [
      "100%|██████████| 101M/101M [00:03<00:00, 30.5MB/s] \n",
      "  0%|          | 0.00/61.1M [00:00<?, ?B/s]"
     ]
    },
    {
     "name": "stdout",
     "output_type": "stream",
     "text": [
      "Upload successful: pair_53.npz (101MB)\n",
      "Starting upload for file pair_189.npz\n",
      "Error while trying to load upload info: ApiStartBlobUploadRequest.__init__() got an unexpected keyword argument 'type'\n"
     ]
    },
    {
     "name": "stderr",
     "output_type": "stream",
     "text": [
      "100%|██████████| 61.1M/61.1M [00:02<00:00, 25.5MB/s]\n",
      "  0%|          | 0.00/104M [00:00<?, ?B/s]"
     ]
    },
    {
     "name": "stdout",
     "output_type": "stream",
     "text": [
      "Upload successful: pair_189.npz (61MB)\n",
      "Starting upload for file pair_171.npz\n",
      "Error while trying to load upload info: ApiStartBlobUploadRequest.__init__() got an unexpected keyword argument 'type'\n"
     ]
    },
    {
     "name": "stderr",
     "output_type": "stream",
     "text": [
      "100%|██████████| 104M/104M [00:03<00:00, 30.3MB/s] \n",
      "  0%|          | 0.00/88.6M [00:00<?, ?B/s]"
     ]
    },
    {
     "name": "stdout",
     "output_type": "stream",
     "text": [
      "Upload successful: pair_171.npz (104MB)\n",
      "Starting upload for file pair_169.npz\n",
      "Error while trying to load upload info: ApiStartBlobUploadRequest.__init__() got an unexpected keyword argument 'type'\n"
     ]
    },
    {
     "name": "stderr",
     "output_type": "stream",
     "text": [
      "100%|██████████| 88.6M/88.6M [00:03<00:00, 29.5MB/s]\n",
      "  0%|          | 0.00/108M [00:00<?, ?B/s]"
     ]
    },
    {
     "name": "stdout",
     "output_type": "stream",
     "text": [
      "Upload successful: pair_169.npz (89MB)\n",
      "Starting upload for file pair_156.npz\n",
      "Error while trying to load upload info: ApiStartBlobUploadRequest.__init__() got an unexpected keyword argument 'type'\n"
     ]
    },
    {
     "name": "stderr",
     "output_type": "stream",
     "text": [
      "100%|██████████| 108M/108M [00:03<00:00, 31.2MB/s] \n",
      "  0%|          | 0.00/103M [00:00<?, ?B/s]"
     ]
    },
    {
     "name": "stdout",
     "output_type": "stream",
     "text": [
      "Upload successful: pair_156.npz (108MB)\n",
      "Starting upload for file pair_179.npz\n",
      "Error while trying to load upload info: ApiStartBlobUploadRequest.__init__() got an unexpected keyword argument 'type'\n"
     ]
    },
    {
     "name": "stderr",
     "output_type": "stream",
     "text": [
      "100%|██████████| 103M/103M [00:03<00:00, 30.3MB/s] \n",
      "  0%|          | 0.00/67.0M [00:00<?, ?B/s]"
     ]
    },
    {
     "name": "stdout",
     "output_type": "stream",
     "text": [
      "Upload successful: pair_179.npz (103MB)\n",
      "Starting upload for file pair_119.npz\n",
      "Error while trying to load upload info: ApiStartBlobUploadRequest.__init__() got an unexpected keyword argument 'type'\n"
     ]
    },
    {
     "name": "stderr",
     "output_type": "stream",
     "text": [
      "100%|██████████| 67.0M/67.0M [00:02<00:00, 26.8MB/s]\n",
      "  0%|          | 0.00/76.5M [00:00<?, ?B/s]"
     ]
    },
    {
     "name": "stdout",
     "output_type": "stream",
     "text": [
      "Upload successful: pair_119.npz (67MB)\n",
      "Starting upload for file pair_43.npz\n",
      "Error while trying to load upload info: ApiStartBlobUploadRequest.__init__() got an unexpected keyword argument 'type'\n"
     ]
    },
    {
     "name": "stderr",
     "output_type": "stream",
     "text": [
      "100%|██████████| 76.5M/76.5M [00:02<00:00, 28.0MB/s]\n",
      "  0%|          | 0.00/83.5M [00:00<?, ?B/s]"
     ]
    },
    {
     "name": "stdout",
     "output_type": "stream",
     "text": [
      "Upload successful: pair_43.npz (76MB)\n",
      "Starting upload for file pair_22.npz\n",
      "Error while trying to load upload info: ApiStartBlobUploadRequest.__init__() got an unexpected keyword argument 'type'\n"
     ]
    },
    {
     "name": "stderr",
     "output_type": "stream",
     "text": [
      "100%|██████████| 83.5M/83.5M [00:03<00:00, 29.0MB/s]\n",
      "  0%|          | 0.00/105M [00:00<?, ?B/s]"
     ]
    },
    {
     "name": "stdout",
     "output_type": "stream",
     "text": [
      "Upload successful: pair_22.npz (84MB)\n",
      "Starting upload for file pair_178.npz\n",
      "Error while trying to load upload info: ApiStartBlobUploadRequest.__init__() got an unexpected keyword argument 'type'\n"
     ]
    },
    {
     "name": "stderr",
     "output_type": "stream",
     "text": [
      "100%|██████████| 105M/105M [00:03<00:00, 29.6MB/s] \n",
      "  0%|          | 0.00/70.0M [00:00<?, ?B/s]"
     ]
    },
    {
     "name": "stdout",
     "output_type": "stream",
     "text": [
      "Upload successful: pair_178.npz (105MB)\n",
      "Starting upload for file pair_124.npz\n",
      "Error while trying to load upload info: ApiStartBlobUploadRequest.__init__() got an unexpected keyword argument 'type'\n"
     ]
    },
    {
     "name": "stderr",
     "output_type": "stream",
     "text": [
      "100%|██████████| 70.0M/70.0M [00:02<00:00, 26.9MB/s]\n",
      "  0%|          | 0.00/78.0M [00:00<?, ?B/s]"
     ]
    },
    {
     "name": "stdout",
     "output_type": "stream",
     "text": [
      "Upload successful: pair_124.npz (70MB)\n",
      "Starting upload for file pair_80.npz\n",
      "Error while trying to load upload info: ApiStartBlobUploadRequest.__init__() got an unexpected keyword argument 'type'\n"
     ]
    },
    {
     "name": "stderr",
     "output_type": "stream",
     "text": [
      "100%|██████████| 78.0M/78.0M [00:02<00:00, 28.5MB/s]\n",
      "  0%|          | 0.00/76.5M [00:00<?, ?B/s]"
     ]
    },
    {
     "name": "stdout",
     "output_type": "stream",
     "text": [
      "Upload successful: pair_80.npz (78MB)\n",
      "Starting upload for file pair_151.npz\n",
      "Error while trying to load upload info: ApiStartBlobUploadRequest.__init__() got an unexpected keyword argument 'type'\n"
     ]
    },
    {
     "name": "stderr",
     "output_type": "stream",
     "text": [
      "100%|██████████| 76.5M/76.5M [00:02<00:00, 28.0MB/s]\n",
      "  0%|          | 0.00/77.1M [00:00<?, ?B/s]"
     ]
    },
    {
     "name": "stdout",
     "output_type": "stream",
     "text": [
      "Upload successful: pair_151.npz (77MB)\n",
      "Starting upload for file pair_108.npz\n",
      "Error while trying to load upload info: ApiStartBlobUploadRequest.__init__() got an unexpected keyword argument 'type'\n"
     ]
    },
    {
     "name": "stderr",
     "output_type": "stream",
     "text": [
      "100%|██████████| 77.1M/77.1M [00:02<00:00, 28.0MB/s]\n"
     ]
    },
    {
     "name": "stdout",
     "output_type": "stream",
     "text": [
      "Upload successful: pair_108.npz (77MB)\n",
      "Starting upload for file pair_197.npz\n",
      "Error while trying to load upload info: ApiStartBlobUploadRequest.__init__() got an unexpected keyword argument 'type'\n"
     ]
    },
    {
     "name": "stderr",
     "output_type": "stream",
     "text": [
      "100%|██████████| 85.5M/85.5M [00:03<00:00, 29.2MB/s]\n",
      "  0%|          | 0.00/79.4M [00:00<?, ?B/s]"
     ]
    },
    {
     "name": "stdout",
     "output_type": "stream",
     "text": [
      "Upload successful: pair_197.npz (86MB)\n",
      "Starting upload for file pair_136.npz\n",
      "Error while trying to load upload info: ApiStartBlobUploadRequest.__init__() got an unexpected keyword argument 'type'\n"
     ]
    },
    {
     "name": "stderr",
     "output_type": "stream",
     "text": [
      "100%|██████████| 79.4M/79.4M [00:02<00:00, 28.1MB/s]\n",
      "  0%|          | 0.00/104M [00:00<?, ?B/s]"
     ]
    },
    {
     "name": "stdout",
     "output_type": "stream",
     "text": [
      "Upload successful: pair_136.npz (79MB)\n",
      "Starting upload for file pair_52.npz\n",
      "Error while trying to load upload info: ApiStartBlobUploadRequest.__init__() got an unexpected keyword argument 'type'\n"
     ]
    },
    {
     "name": "stderr",
     "output_type": "stream",
     "text": [
      "100%|██████████| 104M/104M [00:03<00:00, 31.2MB/s] \n",
      "  0%|          | 0.00/102M [00:00<?, ?B/s]"
     ]
    },
    {
     "name": "stdout",
     "output_type": "stream",
     "text": [
      "Upload successful: pair_52.npz (104MB)\n",
      "Starting upload for file pair_84.npz\n",
      "Error while trying to load upload info: ApiStartBlobUploadRequest.__init__() got an unexpected keyword argument 'type'\n"
     ]
    },
    {
     "name": "stderr",
     "output_type": "stream",
     "text": [
      "100%|██████████| 102M/102M [00:03<00:00, 31.0MB/s] \n",
      "  0%|          | 0.00/78.7M [00:00<?, ?B/s]"
     ]
    },
    {
     "name": "stdout",
     "output_type": "stream",
     "text": [
      "Upload successful: pair_84.npz (102MB)\n",
      "Starting upload for file pair_105.npz\n",
      "Error while trying to load upload info: ApiStartBlobUploadRequest.__init__() got an unexpected keyword argument 'type'\n"
     ]
    },
    {
     "name": "stderr",
     "output_type": "stream",
     "text": [
      "100%|██████████| 78.7M/78.7M [00:02<00:00, 28.3MB/s]\n",
      "  0%|          | 0.00/98.7M [00:00<?, ?B/s]"
     ]
    },
    {
     "name": "stdout",
     "output_type": "stream",
     "text": [
      "Upload successful: pair_105.npz (79MB)\n",
      "Starting upload for file pair_21.npz\n",
      "Error while trying to load upload info: ApiStartBlobUploadRequest.__init__() got an unexpected keyword argument 'type'\n"
     ]
    },
    {
     "name": "stderr",
     "output_type": "stream",
     "text": [
      "100%|██████████| 98.7M/98.7M [00:03<00:00, 26.7MB/s]\n",
      "  0%|          | 0.00/81.8M [00:00<?, ?B/s]"
     ]
    },
    {
     "name": "stdout",
     "output_type": "stream",
     "text": [
      "Upload successful: pair_21.npz (99MB)\n",
      "Starting upload for file pair_58.npz\n",
      "Error while trying to load upload info: ApiStartBlobUploadRequest.__init__() got an unexpected keyword argument 'type'\n"
     ]
    },
    {
     "name": "stderr",
     "output_type": "stream",
     "text": [
      "100%|██████████| 81.8M/81.8M [00:03<00:00, 24.8MB/s]\n",
      "  0%|          | 0.00/90.7M [00:00<?, ?B/s]"
     ]
    },
    {
     "name": "stdout",
     "output_type": "stream",
     "text": [
      "Upload successful: pair_58.npz (82MB)\n",
      "Starting upload for file pair_82.npz\n",
      "Error while trying to load upload info: ApiStartBlobUploadRequest.__init__() got an unexpected keyword argument 'type'\n"
     ]
    },
    {
     "name": "stderr",
     "output_type": "stream",
     "text": [
      "100%|██████████| 90.7M/90.7M [00:03<00:00, 25.9MB/s]\n",
      "  0%|          | 0.00/105M [00:00<?, ?B/s]"
     ]
    },
    {
     "name": "stdout",
     "output_type": "stream",
     "text": [
      "Upload successful: pair_82.npz (91MB)\n",
      "Starting upload for file pair_99.npz\n",
      "Error while trying to load upload info: ApiStartBlobUploadRequest.__init__() got an unexpected keyword argument 'type'\n"
     ]
    },
    {
     "name": "stderr",
     "output_type": "stream",
     "text": [
      "100%|██████████| 105M/105M [00:03<00:00, 31.5MB/s] \n",
      "  0%|          | 0.00/93.1M [00:00<?, ?B/s]"
     ]
    },
    {
     "name": "stdout",
     "output_type": "stream",
     "text": [
      "Upload successful: pair_99.npz (105MB)\n",
      "Starting upload for file pair_145.npz\n",
      "Error while trying to load upload info: ApiStartBlobUploadRequest.__init__() got an unexpected keyword argument 'type'\n"
     ]
    },
    {
     "name": "stderr",
     "output_type": "stream",
     "text": [
      "100%|██████████| 93.1M/93.1M [00:03<00:00, 30.1MB/s]\n",
      "  0%|          | 0.00/64.6M [00:00<?, ?B/s]"
     ]
    },
    {
     "name": "stdout",
     "output_type": "stream",
     "text": [
      "Upload successful: pair_145.npz (93MB)\n",
      "Starting upload for file pair_134.npz\n"
     ]
    },
    {
     "name": "stderr",
     "output_type": "stream",
     "text": [
      "100%|██████████| 64.6M/64.6M [00:03<00:00, 21.7MB/s]\n",
      "  0%|          | 0.00/102M [00:00<?, ?B/s]"
     ]
    },
    {
     "name": "stdout",
     "output_type": "stream",
     "text": [
      "Upload successful: pair_134.npz (65MB)\n",
      "Starting upload for file pair_148.npz\n"
     ]
    },
    {
     "name": "stderr",
     "output_type": "stream",
     "text": [
      "100%|██████████| 102M/102M [00:03<00:00, 31.1MB/s] \n",
      "  0%|          | 0.00/66.2M [00:00<?, ?B/s]"
     ]
    },
    {
     "name": "stdout",
     "output_type": "stream",
     "text": [
      "Upload successful: pair_148.npz (102MB)\n",
      "Starting upload for file pair_130.npz\n"
     ]
    },
    {
     "name": "stderr",
     "output_type": "stream",
     "text": [
      "100%|██████████| 66.2M/66.2M [00:02<00:00, 25.6MB/s]\n",
      "  0%|          | 0.00/89.9M [00:00<?, ?B/s]"
     ]
    },
    {
     "name": "stdout",
     "output_type": "stream",
     "text": [
      "Upload successful: pair_130.npz (66MB)\n",
      "Starting upload for file pair_54.npz\n"
     ]
    },
    {
     "name": "stderr",
     "output_type": "stream",
     "text": [
      "100%|██████████| 89.9M/89.9M [00:03<00:00, 29.7MB/s]\n",
      "  0%|          | 0.00/71.7M [00:00<?, ?B/s]"
     ]
    },
    {
     "name": "stdout",
     "output_type": "stream",
     "text": [
      "Upload successful: pair_54.npz (90MB)\n",
      "Starting upload for file pair_173.npz\n"
     ]
    },
    {
     "name": "stderr",
     "output_type": "stream",
     "text": [
      "100%|██████████| 71.7M/71.7M [00:02<00:00, 27.3MB/s]\n",
      "  0%|          | 0.00/110M [00:00<?, ?B/s]"
     ]
    },
    {
     "name": "stdout",
     "output_type": "stream",
     "text": [
      "Upload successful: pair_173.npz (72MB)\n",
      "Starting upload for file pair_69.npz\n"
     ]
    },
    {
     "name": "stderr",
     "output_type": "stream",
     "text": [
      "100%|██████████| 110M/110M [00:03<00:00, 31.6MB/s] \n",
      "  0%|          | 0.00/99.9M [00:00<?, ?B/s]"
     ]
    },
    {
     "name": "stdout",
     "output_type": "stream",
     "text": [
      "Upload successful: pair_69.npz (110MB)\n",
      "Starting upload for file pair_11.npz\n"
     ]
    },
    {
     "name": "stderr",
     "output_type": "stream",
     "text": [
      "100%|██████████| 99.9M/99.9M [00:03<00:00, 30.9MB/s]\n",
      "  2%|▏         | 2.02M/92.8M [00:00<00:05, 18.0MB/s]"
     ]
    },
    {
     "name": "stdout",
     "output_type": "stream",
     "text": [
      "Upload successful: pair_11.npz (100MB)\n",
      "Starting upload for file pair_10.npz\n"
     ]
    },
    {
     "name": "stderr",
     "output_type": "stream",
     "text": [
      "100%|██████████| 92.8M/92.8M [00:03<00:00, 29.4MB/s]\n",
      "  0%|          | 0.00/68.9M [00:00<?, ?B/s]"
     ]
    },
    {
     "name": "stdout",
     "output_type": "stream",
     "text": [
      "Upload successful: pair_10.npz (93MB)\n",
      "Starting upload for file pair_193.npz\n"
     ]
    },
    {
     "name": "stderr",
     "output_type": "stream",
     "text": [
      "100%|██████████| 68.9M/68.9M [00:02<00:00, 26.2MB/s]\n",
      "  0%|          | 0.00/89.0M [00:00<?, ?B/s]"
     ]
    },
    {
     "name": "stdout",
     "output_type": "stream",
     "text": [
      "Upload successful: pair_193.npz (69MB)\n",
      "Starting upload for file pair_181.npz\n"
     ]
    },
    {
     "name": "stderr",
     "output_type": "stream",
     "text": [
      "100%|██████████| 89.0M/89.0M [00:03<00:00, 29.4MB/s]\n",
      "  0%|          | 0.00/99.1M [00:00<?, ?B/s]"
     ]
    },
    {
     "name": "stdout",
     "output_type": "stream",
     "text": [
      "Upload successful: pair_181.npz (89MB)\n",
      "Starting upload for file pair_172.npz\n"
     ]
    },
    {
     "name": "stderr",
     "output_type": "stream",
     "text": [
      "100%|██████████| 99.1M/99.1M [00:03<00:00, 30.9MB/s]\n",
      "  0%|          | 0.00/96.6M [00:00<?, ?B/s]"
     ]
    },
    {
     "name": "stdout",
     "output_type": "stream",
     "text": [
      "Upload successful: pair_172.npz (99MB)\n",
      "Starting upload for file pair_41.npz\n"
     ]
    },
    {
     "name": "stderr",
     "output_type": "stream",
     "text": [
      "100%|██████████| 96.6M/96.6M [00:03<00:00, 30.2MB/s]\n",
      "  0%|          | 0.00/90.2M [00:00<?, ?B/s]"
     ]
    },
    {
     "name": "stdout",
     "output_type": "stream",
     "text": [
      "Upload successful: pair_41.npz (97MB)\n",
      "Starting upload for file pair_187.npz\n"
     ]
    },
    {
     "name": "stderr",
     "output_type": "stream",
     "text": [
      "100%|██████████| 90.2M/90.2M [00:03<00:00, 25.2MB/s]\n",
      "  0%|          | 0.00/94.7M [00:00<?, ?B/s]"
     ]
    },
    {
     "name": "stdout",
     "output_type": "stream",
     "text": [
      "Upload successful: pair_187.npz (90MB)\n",
      "Starting upload for file pair_81.npz\n"
     ]
    },
    {
     "name": "stderr",
     "output_type": "stream",
     "text": [
      "100%|██████████| 94.7M/94.7M [00:03<00:00, 26.4MB/s]\n",
      "  0%|          | 0.00/81.9M [00:00<?, ?B/s]"
     ]
    },
    {
     "name": "stdout",
     "output_type": "stream",
     "text": [
      "Upload successful: pair_81.npz (95MB)\n",
      "Starting upload for file pair_17.npz\n"
     ]
    },
    {
     "name": "stderr",
     "output_type": "stream",
     "text": [
      "100%|██████████| 81.9M/81.9M [00:03<00:00, 28.0MB/s]\n",
      "  0%|          | 0.00/94.5M [00:00<?, ?B/s]"
     ]
    },
    {
     "name": "stdout",
     "output_type": "stream",
     "text": [
      "Upload successful: pair_17.npz (82MB)\n",
      "Starting upload for file pair_32.npz\n"
     ]
    },
    {
     "name": "stderr",
     "output_type": "stream",
     "text": [
      "100%|██████████| 94.5M/94.5M [00:03<00:00, 29.9MB/s]\n",
      "  0%|          | 0.00/88.6M [00:00<?, ?B/s]"
     ]
    },
    {
     "name": "stdout",
     "output_type": "stream",
     "text": [
      "Upload successful: pair_32.npz (95MB)\n",
      "Starting upload for file pair_6.npz\n"
     ]
    },
    {
     "name": "stderr",
     "output_type": "stream",
     "text": [
      "100%|██████████| 88.6M/88.6M [00:03<00:00, 29.8MB/s]\n",
      "  0%|          | 0.00/98.7M [00:00<?, ?B/s]"
     ]
    },
    {
     "name": "stdout",
     "output_type": "stream",
     "text": [
      "Upload successful: pair_6.npz (89MB)\n",
      "Starting upload for file pair_167.npz\n"
     ]
    },
    {
     "name": "stderr",
     "output_type": "stream",
     "text": [
      "100%|██████████| 98.7M/98.7M [00:03<00:00, 30.4MB/s]\n",
      "  0%|          | 0.00/84.0M [00:00<?, ?B/s]"
     ]
    },
    {
     "name": "stdout",
     "output_type": "stream",
     "text": [
      "Upload successful: pair_167.npz (99MB)\n",
      "Starting upload for file pair_141.npz\n"
     ]
    },
    {
     "name": "stderr",
     "output_type": "stream",
     "text": [
      "100%|██████████| 84.0M/84.0M [00:03<00:00, 24.8MB/s]\n",
      "  0%|          | 0.00/74.1M [00:00<?, ?B/s]"
     ]
    },
    {
     "name": "stdout",
     "output_type": "stream",
     "text": [
      "Upload successful: pair_141.npz (84MB)\n",
      "Starting upload for file pair_68.npz\n"
     ]
    },
    {
     "name": "stderr",
     "output_type": "stream",
     "text": [
      "100%|██████████| 74.1M/74.1M [00:02<00:00, 26.9MB/s]\n",
      "  0%|          | 0.00/82.6M [00:00<?, ?B/s]"
     ]
    },
    {
     "name": "stdout",
     "output_type": "stream",
     "text": [
      "Upload successful: pair_68.npz (74MB)\n",
      "Starting upload for file pair_104.npz\n"
     ]
    },
    {
     "name": "stderr",
     "output_type": "stream",
     "text": [
      "100%|██████████| 82.6M/82.6M [00:03<00:00, 28.6MB/s]\n",
      "  0%|          | 0.00/98.2M [00:00<?, ?B/s]"
     ]
    },
    {
     "name": "stdout",
     "output_type": "stream",
     "text": [
      "Upload successful: pair_104.npz (83MB)\n",
      "Starting upload for file pair_46.npz\n"
     ]
    },
    {
     "name": "stderr",
     "output_type": "stream",
     "text": [
      "100%|██████████| 98.2M/98.2M [00:03<00:00, 30.5MB/s]\n",
      "  0%|          | 0.00/104M [00:00<?, ?B/s]"
     ]
    },
    {
     "name": "stdout",
     "output_type": "stream",
     "text": [
      "Upload successful: pair_46.npz (98MB)\n",
      "Starting upload for file pair_192.npz\n"
     ]
    },
    {
     "name": "stderr",
     "output_type": "stream",
     "text": [
      "100%|██████████| 104M/104M [00:04<00:00, 26.9MB/s] \n",
      "  0%|          | 0.00/89.7M [00:00<?, ?B/s]"
     ]
    },
    {
     "name": "stdout",
     "output_type": "stream",
     "text": [
      "Upload successful: pair_192.npz (104MB)\n",
      "Starting upload for file pair_88.npz\n"
     ]
    },
    {
     "name": "stderr",
     "output_type": "stream",
     "text": [
      "100%|██████████| 89.7M/89.7M [00:03<00:00, 26.2MB/s]\n",
      "  0%|          | 0.00/90.8M [00:00<?, ?B/s]"
     ]
    },
    {
     "name": "stdout",
     "output_type": "stream",
     "text": [
      "Upload successful: pair_88.npz (90MB)\n",
      "Starting upload for file pair_75.npz\n"
     ]
    },
    {
     "name": "stderr",
     "output_type": "stream",
     "text": [
      "100%|██████████| 90.8M/90.8M [00:03<00:00, 27.2MB/s]\n",
      "  0%|          | 0.00/101M [00:00<?, ?B/s]"
     ]
    },
    {
     "name": "stdout",
     "output_type": "stream",
     "text": [
      "Upload successful: pair_75.npz (91MB)\n",
      "Starting upload for file pair_79.npz\n"
     ]
    },
    {
     "name": "stderr",
     "output_type": "stream",
     "text": [
      "100%|██████████| 101M/101M [00:03<00:00, 30.8MB/s] \n",
      "  0%|          | 0.00/80.3M [00:00<?, ?B/s]"
     ]
    },
    {
     "name": "stdout",
     "output_type": "stream",
     "text": [
      "Upload successful: pair_79.npz (101MB)\n",
      "Starting upload for file pair_116.npz\n"
     ]
    },
    {
     "name": "stderr",
     "output_type": "stream",
     "text": [
      "100%|██████████| 80.3M/80.3M [00:02<00:00, 28.6MB/s]\n",
      "  0%|          | 0.00/80.2M [00:00<?, ?B/s]"
     ]
    },
    {
     "name": "stdout",
     "output_type": "stream",
     "text": [
      "Upload successful: pair_116.npz (80MB)\n",
      "Starting upload for file pair_199.npz\n"
     ]
    },
    {
     "name": "stderr",
     "output_type": "stream",
     "text": [
      "100%|██████████| 80.2M/80.2M [00:02<00:00, 28.5MB/s]\n",
      "  0%|          | 0.00/83.5M [00:00<?, ?B/s]"
     ]
    },
    {
     "name": "stdout",
     "output_type": "stream",
     "text": [
      "Upload successful: pair_199.npz (80MB)\n",
      "Starting upload for file pair_50.npz\n"
     ]
    },
    {
     "name": "stderr",
     "output_type": "stream",
     "text": [
      "100%|██████████| 83.5M/83.5M [00:03<00:00, 28.7MB/s]\n",
      "  0%|          | 0.00/66.5M [00:00<?, ?B/s]"
     ]
    },
    {
     "name": "stdout",
     "output_type": "stream",
     "text": [
      "Upload successful: pair_50.npz (83MB)\n",
      "Starting upload for file pair_98.npz\n"
     ]
    },
    {
     "name": "stderr",
     "output_type": "stream",
     "text": [
      "100%|██████████| 66.5M/66.5M [00:02<00:00, 24.0MB/s]\n",
      "  0%|          | 0.00/97.5M [00:00<?, ?B/s]"
     ]
    },
    {
     "name": "stdout",
     "output_type": "stream",
     "text": [
      "Upload successful: pair_98.npz (67MB)\n",
      "Starting upload for file pair_40.npz\n"
     ]
    },
    {
     "name": "stderr",
     "output_type": "stream",
     "text": [
      "100%|██████████| 97.5M/97.5M [00:03<00:00, 28.2MB/s]\n",
      "  0%|          | 0.00/94.5M [00:00<?, ?B/s]"
     ]
    },
    {
     "name": "stdout",
     "output_type": "stream",
     "text": [
      "Upload successful: pair_40.npz (98MB)\n",
      "Starting upload for file pair_47.npz\n"
     ]
    },
    {
     "name": "stderr",
     "output_type": "stream",
     "text": [
      "100%|██████████| 94.5M/94.5M [00:03<00:00, 30.0MB/s]\n",
      "  0%|          | 0.00/107M [00:00<?, ?B/s]"
     ]
    },
    {
     "name": "stdout",
     "output_type": "stream",
     "text": [
      "Upload successful: pair_47.npz (94MB)\n",
      "Starting upload for file pair_137.npz\n"
     ]
    },
    {
     "name": "stderr",
     "output_type": "stream",
     "text": [
      "100%|██████████| 107M/107M [00:03<00:00, 31.5MB/s] \n",
      "  0%|          | 0.00/89.7M [00:00<?, ?B/s]"
     ]
    },
    {
     "name": "stdout",
     "output_type": "stream",
     "text": [
      "Upload successful: pair_137.npz (107MB)\n",
      "Starting upload for file pair_64.npz\n"
     ]
    },
    {
     "name": "stderr",
     "output_type": "stream",
     "text": [
      "100%|██████████| 89.7M/89.7M [00:03<00:00, 25.7MB/s]\n",
      "  0%|          | 0.00/98.3M [00:00<?, ?B/s]"
     ]
    },
    {
     "name": "stdout",
     "output_type": "stream",
     "text": [
      "Upload successful: pair_64.npz (90MB)\n",
      "Starting upload for file pair_118.npz\n"
     ]
    },
    {
     "name": "stderr",
     "output_type": "stream",
     "text": [
      "100%|██████████| 98.3M/98.3M [00:03<00:00, 27.0MB/s]\n",
      "  0%|          | 0.00/74.8M [00:00<?, ?B/s]"
     ]
    },
    {
     "name": "stdout",
     "output_type": "stream",
     "text": [
      "Upload successful: pair_118.npz (98MB)\n",
      "Starting upload for file pair_56.npz\n"
     ]
    },
    {
     "name": "stderr",
     "output_type": "stream",
     "text": [
      "100%|██████████| 74.8M/74.8M [00:03<00:00, 25.9MB/s]\n",
      "  0%|          | 0.00/71.8M [00:00<?, ?B/s]"
     ]
    },
    {
     "name": "stdout",
     "output_type": "stream",
     "text": [
      "Upload successful: pair_56.npz (75MB)\n",
      "Starting upload for file pair_132.npz\n"
     ]
    },
    {
     "name": "stderr",
     "output_type": "stream",
     "text": [
      "100%|██████████| 71.8M/71.8M [00:02<00:00, 27.2MB/s]\n",
      "  0%|          | 0.00/87.1M [00:00<?, ?B/s]"
     ]
    },
    {
     "name": "stdout",
     "output_type": "stream",
     "text": [
      "Upload successful: pair_132.npz (72MB)\n",
      "Starting upload for file pair_180.npz\n"
     ]
    },
    {
     "name": "stderr",
     "output_type": "stream",
     "text": [
      "100%|██████████| 87.1M/87.1M [00:03<00:00, 29.2MB/s]\n",
      "  0%|          | 0.00/107M [00:00<?, ?B/s]"
     ]
    },
    {
     "name": "stdout",
     "output_type": "stream",
     "text": [
      "Upload successful: pair_180.npz (87MB)\n",
      "Starting upload for file pair_83.npz\n"
     ]
    },
    {
     "name": "stderr",
     "output_type": "stream",
     "text": [
      "100%|██████████| 107M/107M [00:03<00:00, 31.6MB/s] \n",
      "  0%|          | 0.00/90.7M [00:00<?, ?B/s]"
     ]
    },
    {
     "name": "stdout",
     "output_type": "stream",
     "text": [
      "Upload successful: pair_83.npz (107MB)\n",
      "Starting upload for file pair_200.npz\n"
     ]
    },
    {
     "name": "stderr",
     "output_type": "stream",
     "text": [
      "100%|██████████| 90.7M/90.7M [00:03<00:00, 29.9MB/s]\n",
      "  0%|          | 0.00/85.1M [00:00<?, ?B/s]"
     ]
    },
    {
     "name": "stdout",
     "output_type": "stream",
     "text": [
      "Upload successful: pair_200.npz (91MB)\n",
      "Starting upload for file pair_55.npz\n"
     ]
    },
    {
     "name": "stderr",
     "output_type": "stream",
     "text": [
      "100%|██████████| 85.1M/85.1M [00:03<00:00, 29.2MB/s]\n",
      "  0%|          | 0.00/92.1M [00:00<?, ?B/s]"
     ]
    },
    {
     "name": "stdout",
     "output_type": "stream",
     "text": [
      "Upload successful: pair_55.npz (85MB)\n",
      "Starting upload for file pair_202.npz\n"
     ]
    },
    {
     "name": "stderr",
     "output_type": "stream",
     "text": [
      "100%|██████████| 92.1M/92.1M [00:03<00:00, 29.0MB/s]\n",
      "  0%|          | 0.00/78.8M [00:00<?, ?B/s]"
     ]
    },
    {
     "name": "stdout",
     "output_type": "stream",
     "text": [
      "Upload successful: pair_202.npz (92MB)\n",
      "Starting upload for file pair_100.npz\n"
     ]
    },
    {
     "name": "stderr",
     "output_type": "stream",
     "text": [
      "100%|██████████| 78.8M/78.8M [00:03<00:00, 24.1MB/s]\n",
      "  0%|          | 0.00/102M [00:00<?, ?B/s]"
     ]
    },
    {
     "name": "stdout",
     "output_type": "stream",
     "text": [
      "Upload successful: pair_100.npz (79MB)\n",
      "Starting upload for file pair_109.npz\n"
     ]
    },
    {
     "name": "stderr",
     "output_type": "stream",
     "text": [
      "100%|██████████| 102M/102M [00:03<00:00, 27.1MB/s] \n",
      "  0%|          | 0.00/97.8M [00:00<?, ?B/s]"
     ]
    },
    {
     "name": "stdout",
     "output_type": "stream",
     "text": [
      "Upload successful: pair_109.npz (102MB)\n",
      "Starting upload for file pair_26.npz\n"
     ]
    },
    {
     "name": "stderr",
     "output_type": "stream",
     "text": [
      "100%|██████████| 97.8M/97.8M [00:03<00:00, 30.6MB/s]\n",
      "  0%|          | 0.00/88.2M [00:00<?, ?B/s]"
     ]
    },
    {
     "name": "stdout",
     "output_type": "stream",
     "text": [
      "Upload successful: pair_26.npz (98MB)\n",
      "Starting upload for file pair_142.npz\n"
     ]
    },
    {
     "name": "stderr",
     "output_type": "stream",
     "text": [
      "100%|██████████| 88.2M/88.2M [00:03<00:00, 29.3MB/s]\n"
     ]
    },
    {
     "name": "stdout",
     "output_type": "stream",
     "text": [
      "Upload successful: pair_142.npz (88MB)\n",
      "Your private Dataset is being created. Please check progress at https://www.kaggle.com/datasets/cvbnqq/kitti360-preprocessed-pairs\n",
      "Output: None\n",
      "Errors: None\n"
     ]
    },
    {
     "ename": "",
     "evalue": "",
     "output_type": "error",
     "traceback": [
      "\u001b[1;31mПри выполнении кода в текущей ячейке или предыдущей ячейке ядро аварийно завершило работу. \n",
      "\u001b[1;31mПроверьте код в ячейках, чтобы определить возможную причину сбоя. \n",
      "\u001b[1;31mЩелкните <a href='https://aka.ms/vscodeJupyterKernelCrash'>здесь</a>, чтобы получить дополнительные сведения. \n",
      "\u001b[1;31mПодробнее см. в <a href='command:jupyter.viewOutput'>журнале Jupyter</a>."
     ]
    }
   ],
   "source": [
    "result = subprocess.run([\n",
    "    'kaggle', 'datasets', 'create',\n",
    "    '-p', output_dir, \n",
    "    '--dir-mode', 'zip' \n",
    "], capture_output=False, text=True)\n",
    "\n",
    "print(\"Output:\", result.stdout)\n",
    "print(\"Errors:\", result.stderr)"
   ]
  },
  {
   "cell_type": "code",
   "execution_count": null,
   "id": "fc4a2959",
   "metadata": {},
   "outputs": [],
   "source": []
  }
 ],
 "metadata": {
  "kernelspec": {
   "display_name": "Python 3 (ipykernel)",
   "language": "python",
   "name": "python3"
  }
 },
 "nbformat": 4,
 "nbformat_minor": 5
}
